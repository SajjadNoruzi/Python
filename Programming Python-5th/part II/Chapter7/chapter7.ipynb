{
 "cells": [
  {
   "cell_type": "code",
   "execution_count": 5,
   "metadata": {},
   "outputs": [
    {
     "name": "stdout",
     "output_type": "stream",
     "text": [
      "meaing of life\n",
      "life never\n",
      "Tiger's World is\"big \n"
     ]
    }
   ],
   "source": [
    "title=\"meaing\" ' of ' \"life\"\n",
    "print(title)\n",
    "text='life' ' never'\n",
    "print(text)\n",
    "\n",
    "a='Tiger\\'s'\n",
    "b=\"World is\\\"big \"\n",
    "print(a,b)"
   ]
  },
  {
   "cell_type": "code",
   "execution_count": 6,
   "metadata": {},
   "outputs": [
    {
     "name": "stdout",
     "output_type": "stream",
     "text": [
      "a\n",
      "b\tc\n",
      "5\n"
     ]
    }
   ],
   "source": [
    "t='a\\nb\\tc'\n",
    "print(t)\n",
    "print(len(t))"
   ]
  },
  {
   "cell_type": "code",
   "execution_count": 12,
   "metadata": {},
   "outputs": [
    {
     "name": "stdout",
     "output_type": "stream",
     "text": [
      "a\u0000b\u0000c\n",
      "5\n"
     ]
    },
    {
     "data": {
      "text/plain": [
       "'a\\x00b\\x00c'"
      ]
     },
     "execution_count": 12,
     "metadata": {},
     "output_type": "execute_result"
    }
   ],
   "source": [
    "print('a\\0b\\0c')\n",
    "\n",
    "print(len('a\\0b\\0c'))\n",
    "'a\\0b\\0c'\n",
    "\n"
   ]
  },
  {
   "cell_type": "code",
   "execution_count": 13,
   "metadata": {},
   "outputs": [
    {
     "name": "stdout",
     "output_type": "stream",
     "text": [
      "\u0001\u0002\u0003\n",
      "3\n"
     ]
    },
    {
     "data": {
      "text/plain": [
       "'\\x01\\x02\\x03'"
      ]
     },
     "execution_count": 13,
     "metadata": {},
     "output_type": "execute_result"
    }
   ],
   "source": [
    "a='\\001\\002\\003'\n",
    "print(a)\n",
    "print(len(a))\n",
    "a"
   ]
  },
  {
   "cell_type": "code",
   "execution_count": 16,
   "metadata": {},
   "outputs": [
    {
     "name": "stdout",
     "output_type": "stream",
     "text": [
      "s\tp\n",
      "a\u0000m\n"
     ]
    },
    {
     "data": {
      "text/plain": [
       "'s\\tp\\na\\x00m'"
      ]
     },
     "execution_count": 16,
     "metadata": {},
     "output_type": "execute_result"
    }
   ],
   "source": [
    "a='s\\tp\\na\\x00m'\n",
    "print(a)\n",
    "a\n"
   ]
  },
  {
   "cell_type": "code",
   "execution_count": 17,
   "metadata": {},
   "outputs": [
    {
     "name": "stdout",
     "output_type": "stream",
     "text": [
      "C:\\py\\code\n"
     ]
    },
    {
     "data": {
      "text/plain": [
       "'C:\\\\py\\\\code'"
      ]
     },
     "execution_count": 17,
     "metadata": {},
     "output_type": "execute_result"
    }
   ],
   "source": [
    "x = \"C:\\py\\code\"\n",
    "print(x)\n",
    "x"
   ]
  },
  {
   "cell_type": "code",
   "execution_count": 20,
   "metadata": {},
   "outputs": [],
   "source": [
    "#F=open('C:\\Users\\Thunder\\Desktop\\test.dot','w') \n",
    "\n",
    "F=open(r'C:\\Users\\Thunder\\Desktop\\test.dot','w')\n",
    "F=open('C:\\\\Users\\Thunder\\\\Desktop\\\\test2.dot','w')\n",
    "\n"
   ]
  },
  {
   "cell_type": "code",
   "execution_count": 21,
   "metadata": {},
   "outputs": [
    {
     "name": "stdout",
     "output_type": "stream",
     "text": [
      "C:\\Users\\Thunder\\Desktop\\test.dot\n",
      "33\n"
     ]
    },
    {
     "data": {
      "text/plain": [
       "'C:\\\\Users\\\\Thunder\\\\Desktop\\\\test.dot'"
      ]
     },
     "execution_count": 21,
     "metadata": {},
     "output_type": "execute_result"
    }
   ],
   "source": [
    "path=r'C:\\Users\\Thunder\\Desktop\\test.dot'\n",
    "print(path)\n",
    "print(len(path))\n",
    "path"
   ]
  },
  {
   "cell_type": "code",
   "execution_count": 29,
   "metadata": {},
   "outputs": [
    {
     "name": "stdout",
     "output_type": "stream",
     "text": [
      " r'A\\B\\C\\'  ::>\n",
      "a\\b\\c\\d\\\\ X\n",
      "a\\b\\c\\d\\\n",
      "a\\nb\\tc\n"
     ]
    }
   ],
   "source": [
    "# s=r'a\\b\\x\\' its false method\n",
    "print(\" r'A\\B\\C\\\\' \" ,'::>')\n",
    "s=r'a\\b\\c\\d\\\\'\n",
    "print(s,'X')\n",
    "s=r'a\\b\\c\\d'+'\\\\'\n",
    "print(s)\n",
    "print(r'a\\nb\\tc')"
   ]
  },
  {
   "cell_type": "code",
   "execution_count": 31,
   "metadata": {},
   "outputs": [
    {
     "name": "stdout",
     "output_type": "stream",
     "text": [
      " hello world is \n",
      "            an anime made in Japan          and \n",
      "            it's very nice\n"
     ]
    },
    {
     "data": {
      "text/plain": [
       "\" hello world is \\n            an anime made in Japan          and \\n            it's very nice\""
      ]
     },
     "execution_count": 31,
     "metadata": {},
     "output_type": "execute_result"
    }
   ],
   "source": [
    "longText=''' hello world is \n",
    "            an anime made in Japan          and \n",
    "            it's very nice'''\n",
    "            \n",
    "print(longText)\n",
    "longText"
   ]
  },
  {
   "cell_type": "code",
   "execution_count": 32,
   "metadata": {},
   "outputs": [
    {
     "name": "stdout",
     "output_type": "stream",
     "text": [
      "smap   # sharp does'nt word for commet\n",
      "egg                         # try\n",
      "\n"
     ]
    }
   ],
   "source": [
    "menu='''smap   # sharp does'nt word for commet\n",
    "egg                         # try\n",
    "'''\n",
    "print(menu)"
   ]
  },
  {
   "cell_type": "code",
   "execution_count": 33,
   "metadata": {},
   "outputs": [
    {
     "name": "stdout",
     "output_type": "stream",
     "text": [
      "smap\n",
      "egg\n",
      "\n"
     ]
    },
    {
     "data": {
      "text/plain": [
       "'smap\\negg\\n'"
      ]
     },
     "execution_count": 33,
     "metadata": {},
     "output_type": "execute_result"
    }
   ],
   "source": [
    "menu=('smap\\n'              # that's work\n",
    "      'egg\\n'               # but you need \\n \n",
    "      )\n",
    "\n",
    "print(menu)\n",
    "menu"
   ]
  },
  {
   "cell_type": "markdown",
   "metadata": {},
   "source": [
    "'spam' 'egg' => 'spamegg'"
   ]
  },
  {
   "cell_type": "code",
   "execution_count": 35,
   "metadata": {},
   "outputs": [
    {
     "name": "stdout",
     "output_type": "stream",
     "text": [
      "3\n",
      "abcdef\n",
      "abcabcabc\n",
      "----------\n",
      "----------\n"
     ]
    }
   ],
   "source": [
    "print(len('abc'))\n",
    "print('abc'+'def')\n",
    "print('abc'*3)\n",
    "\n",
    "print('----------')\n",
    "print('-'*10)"
   ]
  },
  {
   "cell_type": "code",
   "execution_count": 39,
   "metadata": {},
   "outputs": [
    {
     "name": "stdout",
     "output_type": "stream",
     "text": [
      "c,a,m,a,r,o\n",
      "True\n",
      "False\n",
      "True\n"
     ]
    }
   ],
   "source": [
    "myCar='camaro'\n",
    "for c in myCar:print(c,end=\",\")\n",
    "print('\\b')\n",
    "print('m' in myCar)\n",
    "print('z' in myCar)\n",
    "print('spam' in 'abcspamefj')"
   ]
  },
  {
   "cell_type": "code",
   "execution_count": 45,
   "metadata": {},
   "outputs": [
    {
     "name": "stdout",
     "output_type": "stream",
     "text": [
      "tige\n",
      "13579\n",
      "97531\n",
      "6543\n",
      " X\n"
     ]
    }
   ],
   "source": [
    "s='tiger'\n",
    "print(s[:-1])\n",
    "s='123456789'\n",
    "print(s[::2])\n",
    "print(s[::-2])\n",
    "print(s[5:1:-1])\n",
    "print(s[5:1:1],'X')\n"
   ]
  },
  {
   "cell_type": "code",
   "execution_count": 48,
   "metadata": {},
   "outputs": [
    {
     "name": "stdout",
     "output_type": "stream",
     "text": [
      "ige\n",
      "ige\n"
     ]
    }
   ],
   "source": [
    "s='tiger'\n",
    "print(s[1:-1])\n",
    "print(s[slice(1,-1)])"
   ]
  },
  {
   "cell_type": "code",
   "execution_count": 50,
   "metadata": {},
   "outputs": [
    {
     "name": "stdout",
     "output_type": "stream",
     "text": [
      "sd\n"
     ]
    }
   ],
   "source": [
    "'''\n",
    "x=[1:3]\n",
    "print('asdfg'[x])\n",
    "'''\n",
    "\n",
    "x=slice(1,3)\n",
    "print('asdfgg'[x])"
   ]
  },
  {
   "cell_type": "code",
   "execution_count": 51,
   "metadata": {},
   "outputs": [
    {
     "name": "stdout",
     "output_type": "stream",
     "text": [
      "['c:\\\\Users\\\\Thunder\\\\AppData\\\\Local\\\\Programs\\\\Python\\\\Python310\\\\lib\\\\site-packages\\\\ipykernel_launcher.py', '--ip=127.0.0.1', '--stdin=9003', '--control=9001', '--hb=9000', '--Session.signature_scheme=\"hmac-sha256\"', '--Session.key=b\"4fd5592b-8a33-4298-91a2-96fe0e0cd387\"', '--shell=9002', '--transport=\"tcp\"', '--iopub=9004', '--f=c:\\\\Users\\\\Thunder\\\\AppData\\\\Roaming\\\\jupyter\\\\runtime\\\\kernel-v2-2044865414uYdYIqQ.json']\n"
     ]
    }
   ],
   "source": [
    "import sys\n",
    "print(sys.argv)"
   ]
  },
  {
   "cell_type": "markdown",
   "metadata": {},
   "source": [
    "convert"
   ]
  },
  {
   "cell_type": "code",
   "execution_count": 54,
   "metadata": {},
   "outputs": [
    {
     "ename": "TypeError",
     "evalue": "can only concatenate str (not \"int\") to str",
     "output_type": "error",
     "traceback": [
      "\u001b[1;31m---------------------------------------------------------------------------\u001b[0m",
      "\u001b[1;31mTypeError\u001b[0m                                 Traceback (most recent call last)",
      "\u001b[1;32md:\\Draft\\Python\\Programming Python-5th\\part II\\Chapter7\\chapter7.ipynb Cell 21'\u001b[0m in \u001b[0;36m<cell line: 1>\u001b[1;34m()\u001b[0m\n\u001b[1;32m----> <a href='vscode-notebook-cell:/d%3A/Draft/Python/Programming%20Python-5th/part%20II/Chapter7/chapter7.ipynb#ch0000022?line=0'>1</a>\u001b[0m \u001b[39m'\u001b[39;49m\u001b[39mhello\u001b[39;49m\u001b[39m'\u001b[39;49m\u001b[39m+\u001b[39;49m\u001b[39m21\u001b[39;49m\n",
      "\u001b[1;31mTypeError\u001b[0m: can only concatenate str (not \"int\") to str"
     ]
    }
   ],
   "source": [
    "'hello'+21"
   ]
  },
  {
   "cell_type": "code",
   "execution_count": 53,
   "metadata": {},
   "outputs": [
    {
     "name": "stdout",
     "output_type": "stream",
     "text": [
      "12 12\n"
     ]
    },
    {
     "data": {
      "text/plain": [
       "'hello21'"
      ]
     },
     "execution_count": 53,
     "metadata": {},
     "output_type": "execute_result"
    }
   ],
   "source": [
    "print(int('12'),str(12))\n",
    "'hello'+repr(21)"
   ]
  },
  {
   "cell_type": "code",
   "execution_count": 59,
   "metadata": {},
   "outputs": [
    {
     "name": "stdout",
     "output_type": "stream",
     "text": [
      "spam 'spam'\n"
     ]
    },
    {
     "data": {
      "text/plain": [
       "(\"'tiger'\", '22', '\"\\'tiger\\'\"', '\\'\"\\\\\\'tiger\\\\\\'\"\\'')"
      ]
     },
     "execution_count": 59,
     "metadata": {},
     "output_type": "execute_result"
    }
   ],
   "source": [
    "print(str('spam'),repr('spam'))\n",
    "repr('tiger'),repr(22),repr(repr('tiger')),repr(repr(repr('tiger')))"
   ]
  },
  {
   "cell_type": "code",
   "execution_count": 60,
   "metadata": {},
   "outputs": [
    {
     "data": {
      "text/plain": [
       "('101', 11)"
      ]
     },
     "execution_count": 60,
     "metadata": {},
     "output_type": "execute_result"
    }
   ],
   "source": [
    "s='10'\n",
    "i=1\n",
    "s+str(1),int(s)+i"
   ]
  },
  {
   "cell_type": "code",
   "execution_count": 62,
   "metadata": {},
   "outputs": [
    {
     "data": {
      "text/plain": [
       "(97, 's')"
      ]
     },
     "execution_count": 62,
     "metadata": {},
     "output_type": "execute_result"
    }
   ],
   "source": [
    "ord('a'),chr(115)"
   ]
  },
  {
   "cell_type": "code",
   "execution_count": 63,
   "metadata": {},
   "outputs": [
    {
     "data": {
      "text/plain": [
       "'6'"
      ]
     },
     "execution_count": 63,
     "metadata": {},
     "output_type": "execute_result"
    }
   ],
   "source": [
    "chr(ord('5')+1)"
   ]
  },
  {
   "cell_type": "code",
   "execution_count": 66,
   "metadata": {},
   "outputs": [
    {
     "name": "stdout",
     "output_type": "stream",
     "text": [
      "48 49 ... 57\n"
     ]
    },
    {
     "data": {
      "text/plain": [
       "3"
      ]
     },
     "execution_count": 66,
     "metadata": {},
     "output_type": "execute_result"
    }
   ],
   "source": [
    "print(ord('0'),ord('1'),'...',ord('9'))\n",
    "ord('4')-ord('1')"
   ]
  },
  {
   "cell_type": "code",
   "execution_count": 71,
   "metadata": {},
   "outputs": [
    {
     "name": "stdout",
     "output_type": "stream",
     "text": [
      "1 1\n",
      "3 1\n",
      "6 0\n",
      "13 1\n",
      "final result : 13\n",
      "13\n"
     ]
    }
   ],
   "source": [
    "b='1101'\n",
    "i=0\n",
    "\n",
    "while b !='':\n",
    "    c=(ord(b[0])-ord('0'))\n",
    "    i=i*2+c\n",
    "    b=b[1:]\n",
    "    print(i,c)\n",
    "    \n",
    "print('final result :',i)    \n",
    "print(int('1101',2))"
   ]
  },
  {
   "cell_type": "code",
   "execution_count": 73,
   "metadata": {},
   "outputs": [
    {
     "name": "stdout",
     "output_type": "stream",
     "text": [
      "spamSPAM!\n",
      "spamBurger!\n"
     ]
    }
   ],
   "source": [
    "'''\n",
    "s='spam'\n",
    "s[0]='x'\n",
    "typeError\n",
    "'''\n",
    "\n",
    "s='spam'\n",
    "s=s+'SPAM!'\n",
    "print(s)\n",
    "\n",
    "t=s[:4]+'Burger'+s[-1]\n",
    "print(t)"
   ]
  },
  {
   "cell_type": "code",
   "execution_count": 79,
   "metadata": {},
   "outputs": [
    {
     "name": "stdout",
     "output_type": "stream",
     "text": [
      "matlot\n",
      "matlot\n",
      "*** zzmatlotzzzzzzzzzzzzzzzzzzzzzzzzzzzzzzzzz\n",
      "ZZmatlotZZZZZZzzzzzzzzzzzzzzzzzzzzzzzzzzz\n"
     ]
    }
   ],
   "source": [
    "s='splot'\n",
    "s=s.replace('sp','mat')\n",
    "print(s)\n",
    "print(s.replace('zz','or'))\n",
    "s='zz'+s+'zzzzzzzzzzzzzzzzzzzzzzzzzzzzzzzzz'\n",
    "print('***',s)\n",
    "print(s.replace('zz','ZZ',4))\n"
   ]
  },
  {
   "cell_type": "code",
   "execution_count": 85,
   "metadata": {},
   "outputs": [
    {
     "name": "stdout",
     "output_type": "stream",
     "text": [
      "5 index\n"
     ]
    }
   ],
   "source": [
    "s='1111spamspamspam'\n",
    "r=s.find('pa')\n",
    "print(r,'index')"
   ]
  },
  {
   "cell_type": "code",
   "execution_count": 93,
   "metadata": {},
   "outputs": [
    {
     "name": "stdout",
     "output_type": "stream",
     "text": [
      "aB 123456789 Ba !@#$ \n",
      " Ab 123456789 ba !@#$\n",
      "aB 123456789 Ba !@#$ \n",
      " ab 123456789 ba !@#$\n"
     ]
    }
   ],
   "source": [
    "S='aB 123456789 Ba !@#$'\n",
    "a=S.capitalize()\n",
    "print(S,'\\n',a)\n",
    "a=S.casefold()\n",
    "print(S,'\\n',a)"
   ]
  },
  {
   "cell_type": "code",
   "execution_count": 103,
   "metadata": {},
   "outputs": [
    {
     "name": "stdout",
     "output_type": "stream",
     "text": [
      "urbane\n",
      "<  urbane  >\n",
      "6 12\n",
      "********\n",
      "urbane\n",
      "<--urbane-->\n",
      "6 12\n"
     ]
    }
   ],
   "source": [
    "s='urbane'\n",
    "a='<'+s.center(10)+'>'\n",
    "print(s)\n",
    "print(a)\n",
    "print(len(s),len(a))\n",
    "\n",
    "print('*'*8)\n",
    "s='urbane'\n",
    "a='<'+s.center(10,'-')+'>'\n",
    "print(s)\n",
    "print(a)\n",
    "print(len(s),len(a))"
   ]
  },
  {
   "cell_type": "code",
   "execution_count": 104,
   "metadata": {},
   "outputs": [
    {
     "name": "stdout",
     "output_type": "stream",
     "text": [
      "2\n"
     ]
    }
   ],
   "source": [
    "txt = \"I love apples, apple are my favorite fruit\"\n",
    "x = txt.count(\"app\")\n",
    "print(x)"
   ]
  },
  {
   "cell_type": "code",
   "execution_count": 107,
   "metadata": {},
   "outputs": [
    {
     "name": "stdout",
     "output_type": "stream",
     "text": [
      "b'My name is St\\xc3\\xa5le'\n",
      "********\n",
      "b'My name is St\\\\xe5le'\n",
      "b'My name is Stle'\n",
      "b'My name is St\\\\N{LATIN SMALL LETTER A WITH RING ABOVE}le'\n",
      "b'My name is St?le'\n",
      "b'My name is St&#229;le'\n"
     ]
    }
   ],
   "source": [
    "txt = \"My name is Ståle\"\n",
    "x = txt.encode()\n",
    "print(x)\n",
    "print('*'*8)\n",
    "txt = \"My name is Ståle\"\n",
    "print(txt.encode(encoding=\"ascii\",errors=\"backslashreplace\"))\n",
    "print(txt.encode(encoding=\"ascii\",errors=\"ignore\"))\n",
    "print(txt.encode(encoding=\"ascii\",errors=\"namereplace\"))\n",
    "print(txt.encode(encoding=\"ascii\",errors=\"replace\"))\n",
    "print(txt.encode(encoding=\"ascii\",errors=\"xmlcharrefreplace\"))"
   ]
  },
  {
   "cell_type": "code",
   "execution_count": 111,
   "metadata": {},
   "outputs": [
    {
     "name": "stdout",
     "output_type": "stream",
     "text": [
      "True\n",
      "False\n",
      "ello my name ?\n",
      "True\n"
     ]
    }
   ],
   "source": [
    "s='hello my name is jon how old are you ?'\n",
    "x=s.endswith('?')\n",
    "print(x)\n",
    "s='hello my name is jon how old are you ? '\n",
    "x=s.endswith('?')\n",
    "print(x)\n",
    "s='hello my name ?s jon how old are you ?'\n",
    "print(s[1:15])\n",
    "x=s.endswith('?',1,15)\n",
    "print(x)"
   ]
  },
  {
   "cell_type": "code",
   "execution_count": 121,
   "metadata": {},
   "outputs": [
    {
     "name": "stdout",
     "output_type": "stream",
     "text": [
      "\ta \tb\t c\t\n",
      "\ta\tb\tc\t\n",
      "a b c\n",
      " a  b  c \n",
      "  a   b  c  \n"
     ]
    }
   ],
   "source": [
    "s='\\ta \\tb\\t c\\t'\n",
    "print(s)\n",
    "print('\\ta\\tb\\tc\\t')\n",
    "x=s.expandtabs(0)\n",
    "print(x)\n",
    "x=s.expandtabs(1)\n",
    "print(x)\n",
    "x=s.expandtabs(2)\n",
    "print(x)"
   ]
  },
  {
   "cell_type": "code",
   "execution_count": 124,
   "metadata": {},
   "outputs": [
    {
     "name": "stdout",
     "output_type": "stream",
     "text": [
      "-1\n"
     ]
    },
    {
     "data": {
      "text/plain": [
       "'print(txt.index(\"q\")) #return Error '"
      ]
     },
     "execution_count": 124,
     "metadata": {},
     "output_type": "execute_result"
    }
   ],
   "source": [
    "txt = \"Hello, welcome to my world.\"\n",
    "print(txt.find(\"q\"))\n",
    "'''print(txt.index(\"q\")) #return Error '''"
   ]
  },
  {
   "cell_type": "code",
   "execution_count": 125,
   "metadata": {},
   "outputs": [
    {
     "name": "stdout",
     "output_type": "stream",
     "text": [
      "7\n"
     ]
    }
   ],
   "source": [
    "txt = \"Hello, welcome to my world.\"\n",
    "x = txt.index(\"welcome\")\n",
    "print(x)"
   ]
  },
  {
   "cell_type": "markdown",
   "metadata": {},
   "source": [
    "isalnum => is alpha , num 0-9 and A-z"
   ]
  },
  {
   "cell_type": "code",
   "execution_count": 126,
   "metadata": {},
   "outputs": [
    {
     "name": "stdout",
     "output_type": "stream",
     "text": [
      "True\n",
      "False\n"
     ]
    }
   ],
   "source": [
    "txt = \"Company12\"\n",
    "x = txt.isalnum()\n",
    "print(x)\n",
    "txt = \"Company 12\"\n",
    "x = txt.isalnum()\n",
    "print(x)"
   ]
  },
  {
   "cell_type": "code",
   "execution_count": 127,
   "metadata": {},
   "outputs": [
    {
     "name": "stdout",
     "output_type": "stream",
     "text": [
      "True\n"
     ]
    }
   ],
   "source": [
    "txt = \"CompanyX\"\n",
    "x = txt.isalpha()\n",
    "print(x)"
   ]
  },
  {
   "cell_type": "code",
   "execution_count": 130,
   "metadata": {},
   "outputs": [
    {
     "name": "stdout",
     "output_type": "stream",
     "text": [
      "True 3\n",
      "True\n",
      "False\n"
     ]
    }
   ],
   "source": [
    "txt = \"\\u0033\" #unicode for 3\n",
    "x = txt.isdecimal()\n",
    "print(x,txt)\n",
    "\n",
    "a = \"\\u0030\" #unicode for 0\n",
    "b = \"\\u0047\" #unicode for G\n",
    "print(a.isdecimal())\n",
    "print(b.isdecimal())"
   ]
  },
  {
   "cell_type": "code",
   "execution_count": 133,
   "metadata": {},
   "outputs": [
    {
     "name": "stdout",
     "output_type": "stream",
     "text": [
      "False\n",
      "True\n",
      "True\n",
      "True\n"
     ]
    }
   ],
   "source": [
    "txt = \"50800b\"\n",
    "x = txt.isdigit()\n",
    "print(x)\n",
    "txt = \"50800\"\n",
    "x = txt.isdigit()\n",
    "print(x)\n",
    "a = \"\\u0030\" #unicode for 0\n",
    "b = \"\\u00B2\" #unicode for ²\n",
    "print(a.isdigit())\n",
    "print(b.isdigit())"
   ]
  },
  {
   "cell_type": "code",
   "execution_count": 134,
   "metadata": {},
   "outputs": [
    {
     "name": "stdout",
     "output_type": "stream",
     "text": [
      "True\n",
      "True\n",
      "False\n",
      "False\n"
     ]
    }
   ],
   "source": [
    "a = \"MyFolder\"\n",
    "b = \"Demo002\"\n",
    "c = \"2bring\"\n",
    "d = \"my demo\"\n",
    "print(a.isidentifier())\n",
    "print(b.isidentifier())\n",
    "print(c.isidentifier())\n",
    "print(d.isidentifier())"
   ]
  },
  {
   "cell_type": "code",
   "execution_count": 135,
   "metadata": {},
   "outputs": [
    {
     "name": "stdout",
     "output_type": "stream",
     "text": [
      "False\n",
      "True\n",
      "False\n"
     ]
    }
   ],
   "source": [
    "a = \"Hello world!\"\n",
    "b = \"hello 123\"\n",
    "c = \"mynameisPeter\"\n",
    "print(a.islower())\n",
    "print(b.islower())\n",
    "print(c.islower())"
   ]
  },
  {
   "cell_type": "code",
   "execution_count": 136,
   "metadata": {},
   "outputs": [
    {
     "name": "stdout",
     "output_type": "stream",
     "text": [
      "True\n",
      "True\n",
      "False\n",
      "False\n",
      "False\n"
     ]
    }
   ],
   "source": [
    "a = \"\\u0030\" #unicode for 0\n",
    "b = \"\\u00B2\" #unicode for &sup2;\n",
    "c = \"10km2\"\n",
    "d = \"-1\"\n",
    "e = \"1.5\"\n",
    "print(a.isnumeric())\n",
    "print(b.isnumeric())\n",
    "print(c.isnumeric())\n",
    "print(d.isnumeric())\n",
    "print(e.isnumeric())"
   ]
  },
  {
   "cell_type": "code",
   "execution_count": 137,
   "metadata": {},
   "outputs": [
    {
     "name": "stdout",
     "output_type": "stream",
     "text": [
      "False\n"
     ]
    }
   ],
   "source": [
    "txt = \"Hello!\\nAre you #1?\"\n",
    "x = txt.isprintable()\n",
    "print(x)"
   ]
  },
  {
   "cell_type": "code",
   "execution_count": 138,
   "metadata": {},
   "outputs": [
    {
     "name": "stdout",
     "output_type": "stream",
     "text": [
      "False\n",
      "True\n"
     ]
    }
   ],
   "source": [
    "txt = \"   s   \"\n",
    "x = txt.isspace()\n",
    "print(x)\n",
    "\n",
    "txt = \"\\t\\t\\t\"\n",
    "x = txt.isspace()\n",
    "print(x)"
   ]
  },
  {
   "cell_type": "code",
   "execution_count": 140,
   "metadata": {},
   "outputs": [
    {
     "name": "stdout",
     "output_type": "stream",
     "text": [
      "False\n",
      "True\n",
      "True\n",
      "True\n"
     ]
    }
   ],
   "source": [
    "a = \"HELLO, AND WELCOME TO MY WORLD\"\n",
    "b = \"Hello\"\n",
    "c = \"22 Names\"\n",
    "d = \"This Is %'!?\"\n",
    "print(a.istitle())\n",
    "print(b.istitle())\n",
    "print(c.istitle())\n",
    "print(d.istitle())"
   ]
  },
  {
   "cell_type": "code",
   "execution_count": 2,
   "metadata": {},
   "outputs": [
    {
     "name": "stdout",
     "output_type": "stream",
     "text": [
      "hello My best Friend  \n",
      " Hello my best friend \n"
     ]
    }
   ],
   "source": [
    "s='hello My best Friend '\n",
    "rs=s.capitalize()\n",
    "print(s,'\\n',rs)"
   ]
  },
  {
   "cell_type": "code",
   "execution_count": 3,
   "metadata": {},
   "outputs": [
    {
     "name": "stdout",
     "output_type": "stream",
     "text": [
      "HI what Is a News 22 ;? \n",
      " hi what is a news 22 ;?\n"
     ]
    }
   ],
   "source": [
    "s='HI what Is a News 22 ;?'\n",
    "rs=s.casefold()\n",
    "print(s,'\\n',rs)\n"
   ]
  },
  {
   "cell_type": "code",
   "execution_count": 11,
   "metadata": {},
   "outputs": [
    {
     "name": "stdout",
     "output_type": "stream",
     "text": [
      "FighteR \n",
      " ****FighteR****\n",
      "* * * * * * * * *"
     ]
    }
   ],
   "source": [
    "s='FighteR'\n",
    "rs=s.center(15,'*')\n",
    "\n",
    "print(s,'\\n',rs)\n",
    "for i in range(17):\n",
    "    print('*',end='') if i%2==0 else print(' ',end='')\n",
    "\n"
   ]
  },
  {
   "cell_type": "code",
   "execution_count": 12,
   "metadata": {},
   "outputs": [
    {
     "name": "stdout",
     "output_type": "stream",
     "text": [
      "today we are alone in the world because Candy is lost so we must find her \n",
      " 2\n"
     ]
    }
   ],
   "source": [
    "s='today we are alone in the world because Candy is lost so we must find her'\n",
    "\n",
    "rs=s.count('we')\n",
    "print(s,'\\n',rs)"
   ]
  },
  {
   "cell_type": "code",
   "execution_count": 13,
   "metadata": {},
   "outputs": [
    {
     "name": "stdout",
     "output_type": "stream",
     "text": [
      "b'My name is St\\\\xe5le'\n",
      "b'My name is Stle'\n",
      "b'My name is St\\\\N{LATIN SMALL LETTER A WITH RING ABOVE}le'\n",
      "b'My name is St?le'\n",
      "b'My name is St&#229;le'\n"
     ]
    }
   ],
   "source": [
    "txt = \"My name is Ståle\"\n",
    "print(txt.encode(encoding=\"ascii\",errors=\"backslashreplace\"))\n",
    "print(txt.encode(encoding=\"ascii\",errors=\"ignore\"))\n",
    "print(txt.encode(encoding=\"ascii\",errors=\"namereplace\"))\n",
    "print(txt.encode(encoding=\"ascii\",errors=\"replace\"))\n",
    "print(txt.encode(encoding=\"ascii\",errors=\"xmlcharrefreplace\"))"
   ]
  },
  {
   "cell_type": "code",
   "execution_count": 19,
   "metadata": {},
   "outputs": [
    {
     "name": "stdout",
     "output_type": "stream",
     "text": [
      "what is your name? \n",
      " True\n",
      "hi \n",
      " False\n"
     ]
    },
    {
     "ename": "IndexError",
     "evalue": "string index out of range",
     "output_type": "error",
     "traceback": [
      "\u001b[1;31m---------------------------------------------------------------------------\u001b[0m",
      "\u001b[1;31mIndexError\u001b[0m                                Traceback (most recent call last)",
      "\u001b[1;32md:\\Draft\\Python\\Programming Python-5th\\part II\\Chapter7\\chapter7.ipynb Cell 56'\u001b[0m in \u001b[0;36m<cell line: 8>\u001b[1;34m()\u001b[0m\n\u001b[0;32m      <a href='vscode-notebook-cell:/d%3A/Draft/Python/Programming%20Python-5th/part%20II/Chapter7/chapter7.ipynb#ch0000055?line=5'>6</a>\u001b[0m rs\u001b[39m=\u001b[39ms\u001b[39m.\u001b[39mendswith(\u001b[39m'\u001b[39m\u001b[39m?\u001b[39m\u001b[39m'\u001b[39m,\u001b[39m4\u001b[39m)\n\u001b[0;32m      <a href='vscode-notebook-cell:/d%3A/Draft/Python/Programming%20Python-5th/part%20II/Chapter7/chapter7.ipynb#ch0000055?line=6'>7</a>\u001b[0m \u001b[39mprint\u001b[39m(s,\u001b[39m'\u001b[39m\u001b[39m\\n\u001b[39;00m\u001b[39m'\u001b[39m,rs)\n\u001b[1;32m----> <a href='vscode-notebook-cell:/d%3A/Draft/Python/Programming%20Python-5th/part%20II/Chapter7/chapter7.ipynb#ch0000055?line=7'>8</a>\u001b[0m \u001b[39mprint\u001b[39m(s[\u001b[39m4\u001b[39;49m])\n",
      "\u001b[1;31mIndexError\u001b[0m: string index out of range"
     ]
    }
   ],
   "source": [
    "s='what is your name?'\n",
    "rs=s.endswith('?')\n",
    "print(s,'\\n',rs)\n",
    "\n",
    "s='hi'\n",
    "rs=s.endswith('?',4)\n",
    "print(s,'\\n',rs)\n",
    "print(s[4])\n"
   ]
  },
  {
   "cell_type": "code",
   "execution_count": 20,
   "metadata": {},
   "outputs": [
    {
     "name": "stdout",
     "output_type": "stream",
     "text": [
      "H e l l o\n"
     ]
    }
   ],
   "source": [
    "txt = \"H\\te\\tl\\tl\\to\"\n",
    "x =  txt.expandtabs(2)\n",
    "print(x)"
   ]
  },
  {
   "cell_type": "code",
   "execution_count": 21,
   "metadata": {},
   "outputs": [
    {
     "name": "stdout",
     "output_type": "stream",
     "text": [
      "H\te\tl\tl\to\n",
      "H       e       l       l       o\n",
      "H e l l o\n",
      "H   e   l   l   o\n",
      "H         e         l         l         o\n"
     ]
    }
   ],
   "source": [
    "txt = \"H\\te\\tl\\tl\\to\"\n",
    "print(txt)\n",
    "print(txt.expandtabs())\n",
    "print(txt.expandtabs(2))\n",
    "print(txt.expandtabs(4))\n",
    "print(txt.expandtabs(10))"
   ]
  },
  {
   "cell_type": "code",
   "execution_count": 23,
   "metadata": {},
   "outputs": [
    {
     "name": "stdout",
     "output_type": "stream",
     "text": [
      "today we are alone in the world because Candy is lost so we must find her \n",
      " 6\n",
      "today we are alone in the world because Candy is lost so we must find her \n",
      " 6\n"
     ]
    }
   ],
   "source": [
    "s='today we are alone in the world because Candy is lost so we must find her'\n",
    "\n",
    "rs=s.find('we')\n",
    "print(s,'\\n',rs)\n",
    "rs=s.find('we')\n",
    "print(s,'\\n',rs)"
   ]
  },
  {
   "cell_type": "code",
   "execution_count": 25,
   "metadata": {},
   "outputs": [
    {
     "name": "stdout",
     "output_type": "stream",
     "text": [
      "False\n",
      "True\n"
     ]
    }
   ],
   "source": [
    "s='Cat_dog22'\n",
    "rs=s.isalnum()\n",
    "print(rs)\n",
    "\n",
    "s='Catdog22'\n",
    "rs=s.isalnum()\n",
    "print(rs)"
   ]
  },
  {
   "cell_type": "code",
   "execution_count": 26,
   "metadata": {},
   "outputs": [
    {
     "name": "stdout",
     "output_type": "stream",
     "text": [
      "True\n"
     ]
    }
   ],
   "source": [
    "txt = \"CompanyX\"\n",
    "x = txt.isalpha()\n",
    "print(x)"
   ]
  },
  {
   "cell_type": "code",
   "execution_count": 31,
   "metadata": {},
   "outputs": [
    {
     "name": "stdout",
     "output_type": "stream",
     "text": [
      "False\n",
      "3 True\n"
     ]
    }
   ],
   "source": [
    "s='25'\n",
    "print(s.isdecimal())\n",
    "txt = \"\\u0033\" #unicode for 3\n",
    "x = txt.isdecimal()\n",
    "print(txt,x)"
   ]
  },
  {
   "cell_type": "code",
   "execution_count": 32,
   "metadata": {},
   "outputs": [
    {
     "name": "stdout",
     "output_type": "stream",
     "text": [
      "True\n",
      "True\n"
     ]
    }
   ],
   "source": [
    "a = \"\\u0030\" #unicode for 0\n",
    "b = \"\\u00B2\" #unicode for ²\n",
    "print(a.isdigit())\n",
    "print(b.isdigit())"
   ]
  },
  {
   "cell_type": "code",
   "execution_count": 33,
   "metadata": {},
   "outputs": [
    {
     "name": "stdout",
     "output_type": "stream",
     "text": [
      "True\n",
      "True\n",
      "False\n",
      "False\n"
     ]
    }
   ],
   "source": [
    "\n",
    "a = \"MyFolder\"\n",
    "b = \"Demo002\"\n",
    "c = \"2bring\"\n",
    "d = \"my demo\"\n",
    "print(a.isidentifier())\n",
    "print(b.isidentifier())\n",
    "print(c.isidentifier())\n",
    "print(d.isidentifier())"
   ]
  },
  {
   "cell_type": "code",
   "execution_count": 34,
   "metadata": {},
   "outputs": [
    {
     "name": "stdout",
     "output_type": "stream",
     "text": [
      "False\n",
      "True\n",
      "False\n"
     ]
    }
   ],
   "source": [
    "a = \"Hello world!\"\n",
    "b = \"hello 123\"\n",
    "c = \"mynameisPeter\"\n",
    "print(a.islower())\n",
    "print(b.islower())\n",
    "print(c.islower())\n"
   ]
  },
  {
   "cell_type": "code",
   "execution_count": 39,
   "metadata": {},
   "outputs": [
    {
     "name": "stdout",
     "output_type": "stream",
     "text": [
      "True\n",
      "True\n",
      "False\n",
      "False\n",
      "False\n",
      "False ****\n"
     ]
    }
   ],
   "source": [
    "a = \"\\u0030\" #unicode for 0\n",
    "b = \"\\u00B2\" #unicode for &sup2;\n",
    "c = \"10km2\"\n",
    "d = \"-1\"\n",
    "e = \"1.5\"\n",
    "\n",
    "\n",
    "print(a.isnumeric())\n",
    "print(b.isnumeric())\n",
    "print(c.isnumeric())\n",
    "print(d.isnumeric())\n",
    "print(e.isnumeric())\n",
    "w= \"6/5\"\n",
    "print(w.isnumeric(),\"****\")"
   ]
  },
  {
   "cell_type": "code",
   "execution_count": 41,
   "metadata": {},
   "outputs": [
    {
     "name": "stdout",
     "output_type": "stream",
     "text": [
      "False\n",
      "True\n"
     ]
    }
   ],
   "source": [
    "txt = \"Hello!\\nAre you #1?\"\n",
    "x = txt.isprintable()\n",
    "print(x)\n",
    "\n",
    "b = \"hello 123\"\n",
    "print(b.isprintable())"
   ]
  },
  {
   "cell_type": "code",
   "execution_count": 47,
   "metadata": {},
   "outputs": [
    {
     "name": "stdout",
     "output_type": "stream",
     "text": [
      "False\n",
      "True\n",
      "False\n",
      "True\n"
     ]
    }
   ],
   "source": [
    "txt = \"   s   \"\n",
    "x = txt.isspace()\n",
    "print(x)\n",
    "\n",
    "s='     '\n",
    "print(s.isspace())\n",
    "s='\\t\\t\\t\\n\\r\\b'\n",
    "print(s.isspace())\n",
    "s='\\t\\t\\t\\n\\r'\n",
    "print(s.isspace())\n"
   ]
  },
  {
   "cell_type": "code",
   "execution_count": 58,
   "metadata": {},
   "outputs": [
    {
     "name": "stdout",
     "output_type": "stream",
     "text": [
      "False\n",
      "True\n",
      "True\n",
      "False\n"
     ]
    }
   ],
   "source": [
    "s='Hi Wow Great shirt'\n",
    "print(s.istitle())\n",
    "s='Hi Wow Grear Shirt'\n",
    "print(s.istitle())\n",
    "s='Hi Wow Great Shirt 22 !    '\n",
    "print(s.istitle())\n",
    "\n",
    "s='HI Wow Great Shirt 22 !    '\n",
    "print(s.istitle())"
   ]
  },
  {
   "cell_type": "code",
   "execution_count": 61,
   "metadata": {},
   "outputs": [
    {
     "name": "stdout",
     "output_type": "stream",
     "text": [
      "False\n",
      "False\n",
      "True\n"
     ]
    }
   ],
   "source": [
    "a = \"Hello World!\"\n",
    "b = \"hello 123\"\n",
    "c = \"MY NAME IS !PETER 12 ! @\"\n",
    "print(a.isupper())\n",
    "print(b.isupper())\n",
    "print(c.isupper())"
   ]
  },
  {
   "cell_type": "code",
   "execution_count": 63,
   "metadata": {},
   "outputs": [
    {
     "name": "stdout",
     "output_type": "stream",
     "text": [
      "hi ***how***is***car\n"
     ]
    }
   ],
   "source": [
    "l=['hi ','how','is','car']\n",
    "simple='***'\n",
    "rs=simple.join(l)\n",
    "print(rs)"
   ]
  },
  {
   "cell_type": "code",
   "execution_count": 64,
   "metadata": {},
   "outputs": [
    {
     "name": "stdout",
     "output_type": "stream",
     "text": [
      "tiger*****\n"
     ]
    }
   ],
   "source": [
    "s='tiger'\n",
    "rs=s.ljust(10,'*')\n",
    "print(rs)"
   ]
  },
  {
   "cell_type": "code",
   "execution_count": 68,
   "metadata": {},
   "outputs": [
    {
     "name": "stdout",
     "output_type": "stream",
     "text": [
      "hi what it is your name? 23 \n",
      "Hi what it is your name? 23 \n",
      "Hi What It Is Your Name? 23 \n",
      "hI What IT is yOUr naMe? 23  \n",
      " Hi What It Is Your Name? 23 \n"
     ]
    }
   ],
   "source": [
    "s=\"hI What IT is yOUr naMe? 23 \"\n",
    "rs=s.lower()\n",
    "print(rs)\n",
    "print(rs.capitalize())\n",
    "print(rs.title())\n",
    "print(s,'\\n',s.title())"
   ]
  },
  {
   "cell_type": "code",
   "execution_count": 79,
   "metadata": {},
   "outputs": [
    {
     "name": "stdout",
     "output_type": "stream",
     "text": [
      "long Time ago ,In This world one sinester is alive and ?? //,, ...1 3343 5645 765 73 622 9776 \n"
     ]
    }
   ],
   "source": [
    "s= ' ! !long Time ago ,In This world one sinester is alive and ?? //,, ...1 3343 5645 765 73 622 9776 '\n",
    "\n",
    "rs=s.lstrip('! ')\n",
    "print(rs)"
   ]
  },
  {
   "cell_type": "code",
   "execution_count": 91,
   "metadata": {},
   "outputs": [
    {
     "name": "stdout",
     "output_type": "stream",
     "text": [
      "{110: 78, 104: 72, 44: None, 72: None, 115: None, 63: None}\n",
      "n  : N\n",
      "h  : H\n",
      ",  : \n",
      "H  : \n",
      "s  : \n",
      "?  : \n",
      "Nice Hot caN you agaiN\n"
     ]
    }
   ],
   "source": [
    "s='nice shot, can you again?'\n",
    "x='nh,'\n",
    "y='NH\"'\n",
    "z='Hs,?'\n",
    "table=s.maketrans(x,y,z)\n",
    "print(table)\n",
    "for k in table:\n",
    "    \n",
    "    print(chr(k),' : ',end='')\n",
    "    if table[k]:\n",
    "        print(chr(table[k]))\n",
    "    else:\n",
    "        print()\n",
    "rs=s.translate(table)\n",
    "print(rs)\n",
    "\n"
   ]
  },
  {
   "cell_type": "code",
   "execution_count": 94,
   "metadata": {},
   "outputs": [
    {
     "name": "stdout",
     "output_type": "stream",
     "text": [
      "('I could eat ', 'bananas', ' all day')\n",
      "('my inters in car is ', 'cammaro', ' do you like it?')\n",
      "('my inters in car is cammaro do you like it?', '', '')\n"
     ]
    }
   ],
   "source": [
    "txt = \"I could eat bananas all day\"\n",
    "x = txt.partition(\"bananas\")\n",
    "print(x)\n",
    "\n",
    "s='my inters in car is cammaro do you like it?'\n",
    "rs=s.partition('cammaro')\n",
    "print(rs)\n",
    "rs=s.partition('ford')\n",
    "print(rs)"
   ]
  },
  {
   "cell_type": "code",
   "execution_count": 96,
   "metadata": {},
   "outputs": [
    {
     "name": "stdout",
     "output_type": "stream",
     "text": [
      "a big door in room in ship of franch\n"
     ]
    }
   ],
   "source": [
    "s='a big door of room of ship of franch'\n",
    "rs=s.replace('of','in',2)\n",
    "print(rs)"
   ]
  },
  {
   "cell_type": "code",
   "execution_count": 100,
   "metadata": {},
   "outputs": [
    {
     "name": "stdout",
     "output_type": "stream",
     "text": [
      "67\n",
      "dorfs is s\n"
     ]
    }
   ],
   "source": [
    "s='dorf is a people of the lord of the rings they are so powerful but dorfs is short in story '\n",
    "rs=s.rfind('dorf')\n",
    "print(rs)\n",
    "print(s[s.rfind('dorf'):s.rfind('dorf')+10])\n"
   ]
  },
  {
   "cell_type": "code",
   "execution_count": 101,
   "metadata": {},
   "outputs": [
    {
     "name": "stdout",
     "output_type": "stream",
     "text": [
      "['apple, banana', 'cherry']\n"
     ]
    }
   ],
   "source": [
    "txt = \"apple, banana, cherry\"\n",
    "# setting the maxsplit parameter to 1, will return a list with 2 elements!\n",
    "x = txt.rsplit(\", \", 1)\n",
    "print(x)"
   ]
  },
  {
   "cell_type": "code",
   "execution_count": 118,
   "metadata": {},
   "outputs": [
    {
     "name": "stdout",
     "output_type": "stream",
     "text": [
      " hi how old are you ? \n",
      "hi how old are you ? ...\n"
     ]
    }
   ],
   "source": [
    "s=' hi how old are you ? ...'\n",
    "rs=s.rstrip('.')\n",
    "print(rs)\n",
    "print(s.lstrip())"
   ]
  },
  {
   "cell_type": "code",
   "execution_count": 119,
   "metadata": {},
   "outputs": [
    {
     "name": "stdout",
     "output_type": "stream",
     "text": [
      "['Thank you for the music\\n', 'Welcome to the jungle']\n"
     ]
    }
   ],
   "source": [
    "txt = \"Thank you for the music\\nWelcome to the jungle\"\n",
    "x = txt.splitlines(True)\n",
    "print(x)"
   ]
  },
  {
   "cell_type": "code",
   "execution_count": 120,
   "metadata": {},
   "outputs": [
    {
     "name": "stdout",
     "output_type": "stream",
     "text": [
      "True\n"
     ]
    }
   ],
   "source": [
    "txt = \"Hello, welcome to my world.\"\n",
    "x = txt.startswith(\"wel\", 7, 20)\n",
    "print(x)"
   ]
  },
  {
   "cell_type": "code",
   "execution_count": 121,
   "metadata": {},
   "outputs": [
    {
     "name": "stdout",
     "output_type": "stream",
     "text": [
      "banana\n"
     ]
    }
   ],
   "source": [
    "txt = \",,,,,rrttgg.....banana....rrr\"\n",
    "x = txt.strip(\",.grt\")\n",
    "print(x)"
   ]
  },
  {
   "cell_type": "code",
   "execution_count": 122,
   "metadata": {},
   "outputs": [
    {
     "name": "stdout",
     "output_type": "stream",
     "text": [
      "SaRa IS tHE BIG gIRL\n"
     ]
    }
   ],
   "source": [
    "s='sArA is The big Girl'\n",
    "print(s.swapcase())"
   ]
  },
  {
   "cell_type": "code",
   "execution_count": 128,
   "metadata": {},
   "outputs": [
    {
     "name": "stdout",
     "output_type": "stream",
     "text": [
      "{'a': '1', 'w': 'e', 'e': 'o', 'r': 't', 'y': '0'}\n",
      "{97: 49, 119: 101, 101: 111, 114: 116, 121: 48}\n",
      "ehoto 1to 0ou going\n"
     ]
    }
   ],
   "source": [
    "s='where are you going'\n",
    "key={'a':'1','w':'e','e':'o','r':'t','y':'0'}\n",
    "print(key)\n",
    "nkey={}\n",
    "for k in key:\n",
    "    nkey[ord(k)]=ord(key[k])\n",
    "\n",
    "print(nkey)    \n",
    "rs=s.translate(nkey)\n",
    "print(rs)"
   ]
  },
  {
   "cell_type": "code",
   "execution_count": 129,
   "metadata": {},
   "outputs": [
    {
     "name": "stdout",
     "output_type": "stream",
     "text": [
      "HELLO MY FRIENDS\n"
     ]
    }
   ],
   "source": [
    "txt = \"Hello my friends\"\n",
    "x = txt.upper()\n",
    "print(x)"
   ]
  },
  {
   "cell_type": "code",
   "execution_count": 131,
   "metadata": {},
   "outputs": [
    {
     "name": "stdout",
     "output_type": "stream",
     "text": [
      "000001.902\n",
      "00000hello\n",
      "welcome to the jungle\n",
      "000010.000\n"
     ]
    }
   ],
   "source": [
    "s='1.902'\n",
    "print(s.zfill(10))\n",
    "\n",
    "a = \"hello\"\n",
    "b = \"welcome to the jungle\"\n",
    "c = \"10.000\"\n",
    "print(a.zfill(10))\n",
    "print(b.zfill(10))\n",
    "print(c.zfill(10))"
   ]
  },
  {
   "cell_type": "markdown",
   "metadata": {},
   "source": [
    "page 211"
   ]
  },
  {
   "cell_type": "code",
   "execution_count": 134,
   "metadata": {},
   "outputs": [
    {
     "name": "stdout",
     "output_type": "stream",
     "text": [
      "coxxand\n",
      "coXXand\n",
      "aaBBee>>>nn&&n8##>>>kkqq\n"
     ]
    }
   ],
   "source": [
    "s='command'\n",
    "rs=s[:2]+'xx'+s[4:]\n",
    "print(rs)\n",
    "\n",
    "rs=s.replace('mm','XX')\n",
    "print(rs)\n",
    "\n",
    "\n",
    "rs='aaBBee$nn&&n8##$kkqq'.replace('$','>>>')\n",
    "print(rs)"
   ]
  },
  {
   "cell_type": "code",
   "execution_count": 137,
   "metadata": {},
   "outputs": [
    {
     "name": "stdout",
     "output_type": "stream",
     "text": [
      "xxxxxxxxxxxxx****xxxxxxSpamxxxxx\n"
     ]
    }
   ],
   "source": [
    "s='xxxxxxxxxxxxxSpamxxxxxxSpamxxxxx'\n",
    "what='Spam'\n",
    "where=s.find(what)\n",
    "rs=s[:where]+'*'*len(what)+s[where+len(what):]\n",
    "print(rs)\n"
   ]
  },
  {
   "cell_type": "code",
   "execution_count": 143,
   "metadata": {},
   "outputs": [
    {
     "name": "stdout",
     "output_type": "stream",
     "text": [
      "xxxxxxxxxxxxx****xxxxxx****xxxxx\n",
      "xxxxxxxxxxxxxSpamxxxxxxSpamxxxxx\n",
      "xxxxxxxxxxxxx****xxxxxxSpamxxxxx\n"
     ]
    }
   ],
   "source": [
    "s='xxxxxxxxxxxxxSpamxxxxxxSpamxxxxx'\n",
    "rs=s.replace('Spam','****')\n",
    "print(rs)\n",
    "print(s)\n",
    "print(s.replace('Spam','****',1))"
   ]
  },
  {
   "cell_type": "code",
   "execution_count": 150,
   "metadata": {},
   "outputs": [
    {
     "name": "stdout",
     "output_type": "stream",
     "text": [
      "spammy\n",
      "['s', 'p', 'a', 'm', 'm', 'y']\n",
      "spaXXy\n"
     ]
    }
   ],
   "source": [
    "s='spammy'\n",
    "print(s)\n",
    "l=list(s)\n",
    "print(l)\n",
    "\n",
    "l[-2]='X'\n",
    "l[-3]='X'\n",
    "\n",
    "S=''.join(l)\n",
    "print(S)\n"
   ]
  },
  {
   "cell_type": "code",
   "execution_count": 151,
   "metadata": {},
   "outputs": [
    {
     "name": "stdout",
     "output_type": "stream",
     "text": [
      "red::blue::yellow::black::white\n"
     ]
    }
   ],
   "source": [
    "l=['red','blue','yellow','black','white']\n",
    "rs='::'.join(l)\n",
    "print(rs)"
   ]
  },
  {
   "cell_type": "code",
   "execution_count": 153,
   "metadata": {},
   "outputs": [
    {
     "name": "stdout",
     "output_type": "stream",
     "text": [
      "aaaa cccc\n",
      "['aaaa', 'bbbb', 'cccc']\n"
     ]
    }
   ],
   "source": [
    "s='aaaa bbbb cccc'\n",
    "s1=s[:4]\n",
    "s3=s[-4:]\n",
    "print(s1,s3)\n",
    "\n",
    "\n",
    "print(s.split())"
   ]
  },
  {
   "cell_type": "code",
   "execution_count": 154,
   "metadata": {},
   "outputs": [
    {
     "name": "stdout",
     "output_type": "stream",
     "text": [
      "['rrr ', ' cccc', 'llll!!!', 'xxxx']\n"
     ]
    }
   ],
   "source": [
    "s='rrr Spam ccccSpamllll!!!Spamxxxx'\n",
    "print(s.split('Spam'))"
   ]
  },
  {
   "cell_type": "code",
   "execution_count": 174,
   "metadata": {},
   "outputs": [
    {
     "name": "stdout",
     "output_type": "stream",
     "text": [
      "'this great Bear name is Panda NI!\\n'\n",
      "'this great Bear name is Panda NI!'\n",
      "'THIS GREAT BEAR NAME IS PANDA NI!\\n'\n",
      "False\n",
      "True\n",
      "False\n",
      "False\n",
      "True\n",
      "********\n",
      "True\n",
      "True\n",
      "True\n",
      "True\n"
     ]
    }
   ],
   "source": [
    "s='this great Bear name is Panda NI!\\n'\n",
    "print(repr(s))\n",
    "print(repr(s.rstrip()))\n",
    "print(repr(s.upper()))\n",
    "print(s.endswith('NI!'))\n",
    "print(s.endswith('NI!\\n'))\n",
    "print(s.isalpha())\n",
    "print(s.rstrip('!\\n').isalpha()) #  because SPACE\n",
    "print(s.startswith('thi'))\n",
    "\n",
    "print('*'*8)\n",
    "print(s.find('NI!\\n') != -1)\n",
    "print('NI' in s)\n",
    "sub='NI!\\n'\n",
    "print(s.endswith(sub))\n",
    "\n",
    "fact=s[-len(sub):]==sub\n",
    "print(fact)"
   ]
  },
  {
   "cell_type": "code",
   "execution_count": 1,
   "metadata": {},
   "outputs": [
    {
     "name": "stdout",
     "output_type": "stream",
     "text": [
      "aSPAMbSPAMc\n"
     ]
    }
   ],
   "source": [
    "s='a+b+c'\n",
    "x=s.replace('+','SPAM')\n",
    "print(x)"
   ]
  },
  {
   "cell_type": "code",
   "execution_count": 8,
   "metadata": {},
   "outputs": [
    {
     "name": "stdout",
     "output_type": "stream",
     "text": [
      "that is 1 dead bird!\n",
      "this is a car ,the car is blue do you like car\n",
      "--- 5 --- 2.1525 --- [1, 2, 3, 4] \n"
     ]
    }
   ],
   "source": [
    "s='that is %d %s bird!' % (1,'dead')\n",
    "print(s)\n",
    "\n",
    "s='this is a %s ,the %s is blue do you like %s' % ('car','car','car')\n",
    "print(s)\n",
    "\n",
    "s='--- %s --- %s --- %s ' %(5,2.1525,[1,2,3,4])\n",
    "print(s)"
   ]
  },
  {
   "cell_type": "code",
   "execution_count": 11,
   "metadata": {},
   "outputs": [
    {
     "name": "stdout",
     "output_type": "stream",
     "text": [
      "integar : ---1234---1234  ---001234\n"
     ]
    }
   ],
   "source": [
    "x=1234\n",
    "s='integar : ---%d---%-6d---%06d' % (x,x,x)\n",
    "print(s)"
   ]
  },
  {
   "cell_type": "code",
   "execution_count": 14,
   "metadata": {},
   "outputs": [
    {
     "name": "stdout",
     "output_type": "stream",
     "text": [
      "1.234568e+00 \n",
      "1.234568E+00 \n",
      "1.234568 \n",
      "1.234568 \n",
      "1.23457\n"
     ]
    }
   ],
   "source": [
    "x=1.23456789\n",
    "s='%e \\n%E \\n%f \\n%F \\n%g' % (x,x,x,x,x)\n",
    "\n",
    "print(s)"
   ]
  },
  {
   "cell_type": "code",
   "execution_count": 22,
   "metadata": {},
   "outputs": [
    {
     "name": "stdout",
     "output_type": "stream",
     "text": [
      "1.23  * \n",
      "01.23* \n",
      "+001.2*\n"
     ]
    },
    {
     "data": {
      "text/plain": [
       "('1.23456789', '1.23456789')"
      ]
     },
     "execution_count": 22,
     "metadata": {},
     "output_type": "execute_result"
    }
   ],
   "source": [
    "x=1.23456789\n",
    "s='%-6.2f* \\n%05.2f* \\n%+06.1f*' % (x,x,x)\n",
    "print(s)\n",
    "\n",
    "('%s' % x, str(x))"
   ]
  },
  {
   "cell_type": "code",
   "execution_count": 24,
   "metadata": {},
   "outputs": [
    {
     "name": "stdout",
     "output_type": "stream",
     "text": [
      "0.333333   0.33    0.3333\n"
     ]
    }
   ],
   "source": [
    "s='%f   %.2f    %.*f' % (1/3.0,1/3.0,4,1/3.0)\n",
    "print(s)"
   ]
  },
  {
   "cell_type": "code",
   "execution_count": 3,
   "metadata": {},
   "outputs": [
    {
     "name": "stdout",
     "output_type": "stream",
     "text": [
      "what is your name,and do you have 2 ?\n"
     ]
    }
   ],
   "source": [
    "s='what is your %(s1)s,and do you have %(num)d ?'% {'s1':'name','num':2}\n",
    "print(s)"
   ]
  },
  {
   "cell_type": "code",
   "execution_count": 26,
   "metadata": {},
   "outputs": [
    {
     "name": "stdout",
     "output_type": "stream",
     "text": [
      "\n",
      "        hello my name is javad and \n",
      "        my age is 23\n",
      "        bye !!!\n",
      "\n"
     ]
    }
   ],
   "source": [
    "reply='''\n",
    "        hello my name is %(title)s and \n",
    "        my age is %(num)s\n",
    "        bye !!!\n",
    "'''\n",
    "values={'title':'javad','num':23}\n",
    "print(reply % values)"
   ]
  },
  {
   "cell_type": "code",
   "execution_count": 28,
   "metadata": {},
   "outputs": [
    {
     "name": "stdout",
     "output_type": "stream",
     "text": [
      "23 more spam\n"
     ]
    }
   ],
   "source": [
    "food = 'spam'\n",
    "qty  = 23\n",
    "vars()\n",
    "\n",
    "s= '%(qty)d more %(food)s' % vars()\n",
    "print(s)"
   ]
  },
  {
   "cell_type": "markdown",
   "metadata": {},
   "source": [
    "fromat"
   ]
  },
  {
   "cell_type": "code",
   "execution_count": 33,
   "metadata": {},
   "outputs": [
    {
     "name": "stdout",
     "output_type": "stream",
     "text": [
      "car , dog and 23\n",
      "car , dog and 23\n",
      "rings , cammaro , 34 \n"
     ]
    }
   ],
   "source": [
    "s='{0} , {1} and {2}'.format('car','dog',23)\n",
    "print(s)\n",
    "s='{vehicle} , {pet} and {number}'.format(vehicle='car',pet='dog',number=23)\n",
    "print(s)\n",
    "s='{1} , {vehicle} , {age} '.format('lord','rings',vehicle='cammaro',age=34)\n",
    "print(s)"
   ]
  },
  {
   "cell_type": "code",
   "execution_count": 5,
   "metadata": {},
   "outputs": [
    {
     "name": "stdout",
     "output_type": "stream",
     "text": [
      " -21 , Rose and 3.222123 ***\n"
     ]
    }
   ],
   "source": [
    "s=' %(s1)d , %(s2)s and %(s3)f ***' % dict(s1=-21,s2='Rose',s3=3.22212343434)\n",
    "print(s)"
   ]
  },
  {
   "cell_type": "code",
   "execution_count": 9,
   "metadata": {},
   "outputs": [
    {
     "name": "stdout",
     "output_type": "stream",
     "text": [
      "My laptop runs win32 \n"
     ]
    }
   ],
   "source": [
    "import sys\n",
    "\n",
    "s='My {1[kind]} runs {0.platform} '.format(sys,{'kind':'laptop'})\n",
    "print(s)"
   ]
  },
  {
   "cell_type": "code",
   "execution_count": 11,
   "metadata": {},
   "outputs": [
    {
     "name": "stdout",
     "output_type": "stream",
     "text": [
      "My laptop runs win32 *\n"
     ]
    }
   ],
   "source": [
    "s='My {map[kind]} runs {sys.platform} *'.format(sys=sys,map={'kind':'laptop'})\n",
    "print(s)"
   ]
  },
  {
   "cell_type": "code",
   "execution_count": 13,
   "metadata": {},
   "outputs": [
    {
     "name": "stdout",
     "output_type": "stream",
     "text": [
      "first=S and thried=A \n"
     ]
    }
   ],
   "source": [
    "someList=list('SPAM')\n",
    "s='first={0[0]} and thried={0[2]} '.format(someList)\n",
    "print(s)"
   ]
  },
  {
   "cell_type": "code",
   "execution_count": 15,
   "metadata": {},
   "outputs": [
    {
     "name": "stdout",
     "output_type": "stream",
     "text": [
      "first=S and last=M\n"
     ]
    }
   ],
   "source": [
    "someList=list('SPAM')\n",
    "s='first={0} and last={1}'.format(someList[0],someList[-1])\n",
    "print(s)"
   ]
  },
  {
   "cell_type": "code",
   "execution_count": 17,
   "metadata": {},
   "outputs": [
    {
     "name": "stdout",
     "output_type": "stream",
     "text": [
      "first=S,  last=M ,and middle=['P', 'A']\n"
     ]
    }
   ],
   "source": [
    "someList=list('SPAM')\n",
    "parts= someList[0],someList[-1],someList[1:-1]\n",
    "s='first={0},  last={1} ,and middle={2}'.format(*parts)\n",
    "print(s)"
   ]
  },
  {
   "cell_type": "code",
   "execution_count": 23,
   "metadata": {},
   "outputs": [
    {
     "name": "stdout",
     "output_type": "stream",
     "text": [
      "spam      =    2.1234*     23432*tiger     *\n",
      "      spam=2.1234    *     12345*tiger     *\n"
     ]
    }
   ],
   "source": [
    "s='{0:10}={1:10}*{2:10}*{3:10}*'.format('spam',2.1234,23432,'tiger')\n",
    "print(s)\n",
    "s='{0:>10}={1:<10}*{2:10}*{3:10}*'.format('spam',2.1234,12345,'tiger')\n",
    "print(s)"
   ]
  },
  {
   "cell_type": "code",
   "execution_count": 25,
   "metadata": {},
   "outputs": [
    {
     "name": "stdout",
     "output_type": "stream",
     "text": [
      "      win32=laptop    *\n"
     ]
    }
   ],
   "source": [
    "import sys\n",
    "s=' {0.platform:>10}={1[kind]:<10}*'.format(sys,dict(kind='laptop'))\n",
    "print(s)"
   ]
  },
  {
   "cell_type": "code",
   "execution_count": 26,
   "metadata": {},
   "outputs": [
    {
     "name": "stdout",
     "output_type": "stream",
     "text": [
      "      spam=2.234     *\n"
     ]
    }
   ],
   "source": [
    "import sys\n",
    "\n",
    "s='{:>10}={:<10}*'.format('spam',2.234)\n",
    "print(s)"
   ]
  },
  {
   "cell_type": "code",
   "execution_count": 28,
   "metadata": {},
   "outputs": [
    {
     "name": "stdout",
     "output_type": "stream",
     "text": [
      "     win32=laptop    .\n"
     ]
    }
   ],
   "source": [
    "import sys\n",
    "\n",
    "s='{.platform:>10}={[kind]:<10}.'.format(sys,{'kind':'laptop'})\n",
    "print(s)"
   ]
  },
  {
   "cell_type": "code",
   "execution_count": 34,
   "metadata": {},
   "outputs": [
    {
     "name": "stdout",
     "output_type": "stream",
     "text": [
      "3.141590e+00\n",
      "3.142e+00\n",
      "3.14159\n",
      "*******\n",
      "3.141590\n",
      "3.14\n",
      "003.14*\n"
     ]
    }
   ],
   "source": [
    "s='{:e},{:.3e},{:g}'.format(3.14159,3.14159,3.14159)\n",
    "print(s.replace(',','\\n'))\n",
    "\n",
    "print('*******')\n",
    "s='{:f},{:.2f},{:06.2f}*'.format(3.14159,3.14159,3.14159)\n",
    "print(s.replace(',','\\n'))"
   ]
  },
  {
   "cell_type": "code",
   "execution_count": 35,
   "metadata": {},
   "outputs": [
    {
     "name": "stdout",
     "output_type": "stream",
     "text": [
      "FF\n",
      "377\n",
      "11111111\n"
     ]
    }
   ],
   "source": [
    "s='{:X},{:o},{:b}'.format(255,255,255)\n",
    "print(s.replace(',','\\n'))"
   ]
  },
  {
   "cell_type": "code",
   "execution_count": 37,
   "metadata": {},
   "outputs": [
    {
     "name": "stdout",
     "output_type": "stream",
     "text": [
      "('0b11111111', 255, 255)\n"
     ]
    }
   ],
   "source": [
    "n=bin(255),int('11111111',2),0b11111111\n",
    "print(n)"
   ]
  },
  {
   "cell_type": "code",
   "execution_count": 38,
   "metadata": {},
   "outputs": [
    {
     "name": "stdout",
     "output_type": "stream",
     "text": [
      "('0xff', 255, 255)\n"
     ]
    }
   ],
   "source": [
    "n=hex(255),int('FF',16),0XFF\n",
    "print(n)"
   ]
  },
  {
   "cell_type": "code",
   "execution_count": 39,
   "metadata": {},
   "outputs": [
    {
     "name": "stdout",
     "output_type": "stream",
     "text": [
      "('0o377', 255, 255)\n"
     ]
    }
   ],
   "source": [
    "n=oct(255),int('377',8),0o377\n",
    "print(n)"
   ]
  },
  {
   "cell_type": "code",
   "execution_count": 46,
   "metadata": {},
   "outputs": [
    {
     "name": "stdout",
     "output_type": "stream",
     "text": [
      "3.14\n",
      "3.14\n",
      "*******\n",
      "3.142\n",
      "3.1416\n"
     ]
    }
   ],
   "source": [
    "#I like It\n",
    "\n",
    "s='{:.2f}'.format(3.14159)\n",
    "print(s)\n",
    "\n",
    "s='%.2f' % (3.14159)\n",
    "print(s)\n",
    "\n",
    "print('*******')\n",
    "s='{0:.{1}f}'.format(3.14159,3)\n",
    "print(s)\n",
    "s='%.*f' % (4,3.14159)\n",
    "print(s)"
   ]
  },
  {
   "cell_type": "code",
   "execution_count": 1,
   "metadata": {},
   "outputs": [
    {
     "data": {
      "text/plain": [
       "'1.123'"
      ]
     },
     "execution_count": 1,
     "metadata": {},
     "output_type": "execute_result"
    }
   ],
   "source": [
    "format(1.123456,'.3f')"
   ]
  },
  {
   "cell_type": "code",
   "execution_count": 13,
   "metadata": {},
   "outputs": [
    {
     "name": "stdout",
     "output_type": "stream",
     "text": [
      "laptop   and win32*\n",
      "laptop   and win32*\n",
      "{'kind': 'laptop', 'sys': 'win32'}\n",
      "kind sys\n"
     ]
    },
    {
     "ename": "TypeError",
     "evalue": "'kind' is an invalid keyword argument for print()",
     "output_type": "error",
     "traceback": [
      "\u001b[1;31m---------------------------------------------------------------------------\u001b[0m",
      "\u001b[1;31mTypeError\u001b[0m                                 Traceback (most recent call last)",
      "\u001b[1;32md:\\Draft\\Python\\Programming Python-5th\\part II\\Chapter7\\chapter7.ipynb Cell 4'\u001b[0m in \u001b[0;36m<cell line: 13>\u001b[1;34m()\u001b[0m\n\u001b[0;32m     <a href='vscode-notebook-cell:/d%3A/Draft/Python/Programming%20Python-5th/part%20II/Chapter7/chapter7.ipynb#ch0000003?line=10'>11</a>\u001b[0m \u001b[39mprint\u001b[39m(({\u001b[39m'\u001b[39m\u001b[39mkind\u001b[39m\u001b[39m'\u001b[39m:\u001b[39m'\u001b[39m\u001b[39mlaptop\u001b[39m\u001b[39m'\u001b[39m,\u001b[39m'\u001b[39m\u001b[39msys\u001b[39m\u001b[39m'\u001b[39m:sys\u001b[39m.\u001b[39mplatform}))\n\u001b[0;32m     <a href='vscode-notebook-cell:/d%3A/Draft/Python/Programming%20Python-5th/part%20II/Chapter7/chapter7.ipynb#ch0000003?line=11'>12</a>\u001b[0m \u001b[39mprint\u001b[39m(\u001b[39m*\u001b[39m({\u001b[39m'\u001b[39m\u001b[39mkind\u001b[39m\u001b[39m'\u001b[39m:\u001b[39m'\u001b[39m\u001b[39mlaptop\u001b[39m\u001b[39m'\u001b[39m,\u001b[39m'\u001b[39m\u001b[39msys\u001b[39m\u001b[39m'\u001b[39m:sys\u001b[39m.\u001b[39mplatform}))\n\u001b[1;32m---> <a href='vscode-notebook-cell:/d%3A/Draft/Python/Programming%20Python-5th/part%20II/Chapter7/chapter7.ipynb#ch0000003?line=12'>13</a>\u001b[0m \u001b[39mprint\u001b[39m(\u001b[39m*\u001b[39m\u001b[39m*\u001b[39m({\u001b[39m'\u001b[39m\u001b[39mkind\u001b[39m\u001b[39m'\u001b[39m:\u001b[39m'\u001b[39m\u001b[39mlaptop\u001b[39m\u001b[39m'\u001b[39m,\u001b[39m'\u001b[39m\u001b[39msys\u001b[39m\u001b[39m'\u001b[39m:sys\u001b[39m.\u001b[39mplatform}))\n",
      "\u001b[1;31mTypeError\u001b[0m: 'kind' is an invalid keyword argument for print()"
     ]
    }
   ],
   "source": [
    "import sys\n",
    "\n",
    "data=dict(kind='laptop',sys=sys.platform)\n",
    "\n",
    "s='{kind:<8s} and {sys:8>s}*'.format(**data)\n",
    "print(s)\n",
    "\n",
    "s='{kind:<8s} and {sys:8>s}*'.format(**({'kind':'laptop','sys':sys.platform}))\n",
    "print(s)\n",
    "\n",
    "print(({'kind':'laptop','sys':sys.platform}))\n",
    "print(*({'kind':'laptop','sys':sys.platform}))\n",
    "print(**({'kind':'laptop','sys':sys.platform}))"
   ]
  },
  {
   "cell_type": "code",
   "execution_count": 16,
   "metadata": {},
   "outputs": [
    {
     "name": "stdout",
     "output_type": "stream",
     "text": [
      "888888888\n",
      "888,888,888\n",
      "888,888,888 or 12,334,343,434.3432\n"
     ]
    }
   ],
   "source": [
    "s='{0:d}'.format(888888888)\n",
    "print(s)\n",
    "s='{:,d}'.format(888888888)\n",
    "print(s)\n",
    "\n",
    "s='{:,d} or {:,.4f}'.format(888888888,12334343434.34324324)\n",
    "print(s)"
   ]
  },
  {
   "cell_type": "code",
   "execution_count": 17,
   "metadata": {},
   "outputs": [
    {
     "ename": "ModuleNotFoundError",
     "evalue": "No module named 'formats'",
     "output_type": "error",
     "traceback": [
      "\u001b[1;31m---------------------------------------------------------------------------\u001b[0m",
      "\u001b[1;31mModuleNotFoundError\u001b[0m                       Traceback (most recent call last)",
      "\u001b[1;32md:\\Draft\\Python\\Programming Python-5th\\part II\\Chapter7\\chapter7.ipynb Cell 6'\u001b[0m in \u001b[0;36m<cell line: 1>\u001b[1;34m()\u001b[0m\n\u001b[1;32m----> <a href='vscode-notebook-cell:/d%3A/Draft/Python/Programming%20Python-5th/part%20II/Chapter7/chapter7.ipynb#ch0000005?line=0'>1</a>\u001b[0m \u001b[39mfrom\u001b[39;00m \u001b[39mformats\u001b[39;00m \u001b[39mimport\u001b[39;00m commas, money\n\u001b[0;32m      <a href='vscode-notebook-cell:/d%3A/Draft/Python/Programming%20Python-5th/part%20II/Chapter7/chapter7.ipynb#ch0000005?line=1'>2</a>\u001b[0m \u001b[39m'\u001b[39m\u001b[39m%s\u001b[39;00m\u001b[39m'\u001b[39m \u001b[39m%\u001b[39m commas(\u001b[39m999999999999\u001b[39m)\n",
      "\u001b[1;31mModuleNotFoundError\u001b[0m: No module named 'formats'"
     ]
    }
   ],
   "source": [
    "\n",
    "from formats import commas, money\n",
    "'%s' % commas(999999999999)"
   ]
  },
  {
   "cell_type": "code",
   "execution_count": 24,
   "metadata": {},
   "outputs": [
    {
     "name": "stdout",
     "output_type": "stream",
     "text": [
      "1111111111111111\n",
      "0b1111111111111111\n",
      "0b1111111111111111\n",
      "1111111111111111\n"
     ]
    }
   ],
   "source": [
    "s='{0:b}'.format((2**16)-1)\n",
    "print(s)\n",
    "\n",
    "'''\n",
    "s='%b' %((2**16)-1)\n",
    "print(s)\n",
    "\n",
    "'''\n",
    "s='%s' % bin((2**16)-1)\n",
    "print(s)\n",
    "\n",
    "s='{}'.format(bin((2**16)-1))\n",
    "print(s)\n",
    "\n",
    "s='%s'%bin((2**16)-1)[2:]\n",
    "print(s)\n"
   ]
  },
  {
   "cell_type": "code",
   "execution_count": 34,
   "metadata": {},
   "outputs": [
    {
     "name": "stdout",
     "output_type": "stream",
     "text": [
      "tiger and 34\n",
      "tiger and 34\n",
      "tiger and 34\n"
     ]
    }
   ],
   "source": [
    "D=dict(name='tiger',age=34)\n",
    "s='{0[name]} and {0[age]}'.format(D)\n",
    "print(s)\n",
    "\n",
    "s='{name} and {age}'.format(**D)\n",
    "print(s)\n",
    "\n",
    "s='%(name)s and %(age)s' % D\n",
    "print(s)\n"
   ]
  },
  {
   "cell_type": "code",
   "execution_count": 38,
   "metadata": {},
   "outputs": [
    {
     "name": "stdout",
     "output_type": "stream",
     "text": [
      "tina and 34\n",
      "rose or 12\n"
     ]
    }
   ],
   "source": [
    "def myFormat(fmt,args): return fmt % args\n",
    "\n",
    "print(myFormat('%s and %s',('tina',34)))\n",
    "\n",
    "print(str.format('{} or {}','rose',12))\n"
   ]
  },
  {
   "cell_type": "code",
   "execution_count": 41,
   "metadata": {},
   "outputs": [
    {
     "name": "stdout",
     "output_type": "stream",
     "text": [
      "15 and  sofi\n",
      "15 and  sofi\n"
     ]
    }
   ],
   "source": [
    "s='{age:d} and  {name:s}'.format(name='sofi',age=15)\n",
    "print(s)\n",
    "\n",
    "s='{age:d} and  {name:s}'.format(**dict(name='sofi',age=15))\n",
    "print(s)"
   ]
  },
  {
   "cell_type": "code",
   "execution_count": 44,
   "metadata": {},
   "outputs": [
    {
     "name": "stdout",
     "output_type": "stream",
     "text": [
      " wolf == 23\n",
      " wolf == 25\n",
      " wolf == 21\n"
     ]
    }
   ],
   "source": [
    "import string\n",
    "\n",
    "t=string.Template(' $name == $age')\n",
    "print(t.substitute(name='wolf',age=23))\n",
    "print(t.substitute(dict(name='wolf',age=25)))\n",
    "print(t.substitute({'name':'wolf','age':21}))\n",
    "\n"
   ]
  }
 ],
 "metadata": {
  "kernelspec": {
   "display_name": "Python 3.10.0 64-bit",
   "language": "python",
   "name": "python3"
  },
  "language_info": {
   "codemirror_mode": {
    "name": "ipython",
    "version": 3
   },
   "file_extension": ".py",
   "mimetype": "text/x-python",
   "name": "python",
   "nbconvert_exporter": "python",
   "pygments_lexer": "ipython3",
   "version": "3.10.0"
  },
  "orig_nbformat": 4,
  "vscode": {
   "interpreter": {
    "hash": "1c6c043809b0aa06f295572e3555767cce6faf59773d5c69c5d0d1628626d6da"
   }
  }
 },
 "nbformat": 4,
 "nbformat_minor": 2
}
