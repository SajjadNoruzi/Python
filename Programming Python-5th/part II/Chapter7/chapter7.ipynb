{
 "cells": [
  {
   "cell_type": "code",
   "execution_count": 5,
   "metadata": {},
   "outputs": [
    {
     "name": "stdout",
     "output_type": "stream",
     "text": [
      "meaing of life\n",
      "life never\n",
      "Tiger's World is\"big \n"
     ]
    }
   ],
   "source": [
    "title=\"meaing\" ' of ' \"life\"\n",
    "print(title)\n",
    "text='life' ' never'\n",
    "print(text)\n",
    "\n",
    "a='Tiger\\'s'\n",
    "b=\"World is\\\"big \"\n",
    "print(a,b)"
   ]
  },
  {
   "cell_type": "code",
   "execution_count": 6,
   "metadata": {},
   "outputs": [
    {
     "name": "stdout",
     "output_type": "stream",
     "text": [
      "a\n",
      "b\tc\n",
      "5\n"
     ]
    }
   ],
   "source": [
    "t='a\\nb\\tc'\n",
    "print(t)\n",
    "print(len(t))"
   ]
  },
  {
   "cell_type": "code",
   "execution_count": 12,
   "metadata": {},
   "outputs": [
    {
     "name": "stdout",
     "output_type": "stream",
     "text": [
      "a\u0000b\u0000c\n",
      "5\n"
     ]
    },
    {
     "data": {
      "text/plain": [
       "'a\\x00b\\x00c'"
      ]
     },
     "execution_count": 12,
     "metadata": {},
     "output_type": "execute_result"
    }
   ],
   "source": [
    "print('a\\0b\\0c')\n",
    "\n",
    "print(len('a\\0b\\0c'))\n",
    "'a\\0b\\0c'\n",
    "\n"
   ]
  },
  {
   "cell_type": "code",
   "execution_count": 13,
   "metadata": {},
   "outputs": [
    {
     "name": "stdout",
     "output_type": "stream",
     "text": [
      "\u0001\u0002\u0003\n",
      "3\n"
     ]
    },
    {
     "data": {
      "text/plain": [
       "'\\x01\\x02\\x03'"
      ]
     },
     "execution_count": 13,
     "metadata": {},
     "output_type": "execute_result"
    }
   ],
   "source": [
    "a='\\001\\002\\003'\n",
    "print(a)\n",
    "print(len(a))\n",
    "a"
   ]
  },
  {
   "cell_type": "code",
   "execution_count": 16,
   "metadata": {},
   "outputs": [
    {
     "name": "stdout",
     "output_type": "stream",
     "text": [
      "s\tp\n",
      "a\u0000m\n"
     ]
    },
    {
     "data": {
      "text/plain": [
       "'s\\tp\\na\\x00m'"
      ]
     },
     "execution_count": 16,
     "metadata": {},
     "output_type": "execute_result"
    }
   ],
   "source": [
    "a='s\\tp\\na\\x00m'\n",
    "print(a)\n",
    "a\n"
   ]
  },
  {
   "cell_type": "code",
   "execution_count": 17,
   "metadata": {},
   "outputs": [
    {
     "name": "stdout",
     "output_type": "stream",
     "text": [
      "C:\\py\\code\n"
     ]
    },
    {
     "data": {
      "text/plain": [
       "'C:\\\\py\\\\code'"
      ]
     },
     "execution_count": 17,
     "metadata": {},
     "output_type": "execute_result"
    }
   ],
   "source": [
    "x = \"C:\\py\\code\"\n",
    "print(x)\n",
    "x"
   ]
  },
  {
   "cell_type": "code",
   "execution_count": 20,
   "metadata": {},
   "outputs": [],
   "source": [
    "#F=open('C:\\Users\\Thunder\\Desktop\\test.dot','w') \n",
    "\n",
    "F=open(r'C:\\Users\\Thunder\\Desktop\\test.dot','w')\n",
    "F=open('C:\\\\Users\\Thunder\\\\Desktop\\\\test2.dot','w')\n",
    "\n"
   ]
  },
  {
   "cell_type": "code",
   "execution_count": 21,
   "metadata": {},
   "outputs": [
    {
     "name": "stdout",
     "output_type": "stream",
     "text": [
      "C:\\Users\\Thunder\\Desktop\\test.dot\n",
      "33\n"
     ]
    },
    {
     "data": {
      "text/plain": [
       "'C:\\\\Users\\\\Thunder\\\\Desktop\\\\test.dot'"
      ]
     },
     "execution_count": 21,
     "metadata": {},
     "output_type": "execute_result"
    }
   ],
   "source": [
    "path=r'C:\\Users\\Thunder\\Desktop\\test.dot'\n",
    "print(path)\n",
    "print(len(path))\n",
    "path"
   ]
  },
  {
   "cell_type": "code",
   "execution_count": 29,
   "metadata": {},
   "outputs": [
    {
     "name": "stdout",
     "output_type": "stream",
     "text": [
      " r'A\\B\\C\\'  ::>\n",
      "a\\b\\c\\d\\\\ X\n",
      "a\\b\\c\\d\\\n",
      "a\\nb\\tc\n"
     ]
    }
   ],
   "source": [
    "# s=r'a\\b\\x\\' its false method\n",
    "print(\" r'A\\B\\C\\\\' \" ,'::>')\n",
    "s=r'a\\b\\c\\d\\\\'\n",
    "print(s,'X')\n",
    "s=r'a\\b\\c\\d'+'\\\\'\n",
    "print(s)\n",
    "print(r'a\\nb\\tc')"
   ]
  },
  {
   "cell_type": "code",
   "execution_count": 31,
   "metadata": {},
   "outputs": [
    {
     "name": "stdout",
     "output_type": "stream",
     "text": [
      " hello world is \n",
      "            an anime made in Japan          and \n",
      "            it's very nice\n"
     ]
    },
    {
     "data": {
      "text/plain": [
       "\" hello world is \\n            an anime made in Japan          and \\n            it's very nice\""
      ]
     },
     "execution_count": 31,
     "metadata": {},
     "output_type": "execute_result"
    }
   ],
   "source": [
    "longText=''' hello world is \n",
    "            an anime made in Japan          and \n",
    "            it's very nice'''\n",
    "            \n",
    "print(longText)\n",
    "longText"
   ]
  },
  {
   "cell_type": "code",
   "execution_count": 32,
   "metadata": {},
   "outputs": [
    {
     "name": "stdout",
     "output_type": "stream",
     "text": [
      "smap   # sharp does'nt word for commet\n",
      "egg                         # try\n",
      "\n"
     ]
    }
   ],
   "source": [
    "menu='''smap   # sharp does'nt word for commet\n",
    "egg                         # try\n",
    "'''\n",
    "print(menu)"
   ]
  },
  {
   "cell_type": "code",
   "execution_count": 33,
   "metadata": {},
   "outputs": [
    {
     "name": "stdout",
     "output_type": "stream",
     "text": [
      "smap\n",
      "egg\n",
      "\n"
     ]
    },
    {
     "data": {
      "text/plain": [
       "'smap\\negg\\n'"
      ]
     },
     "execution_count": 33,
     "metadata": {},
     "output_type": "execute_result"
    }
   ],
   "source": [
    "menu=('smap\\n'              # that's work\n",
    "      'egg\\n'               # but you need \\n \n",
    "      )\n",
    "\n",
    "print(menu)\n",
    "menu"
   ]
  },
  {
   "cell_type": "markdown",
   "metadata": {},
   "source": [
    "'spam' 'egg' => 'spamegg'"
   ]
  },
  {
   "cell_type": "code",
   "execution_count": 35,
   "metadata": {},
   "outputs": [
    {
     "name": "stdout",
     "output_type": "stream",
     "text": [
      "3\n",
      "abcdef\n",
      "abcabcabc\n",
      "----------\n",
      "----------\n"
     ]
    }
   ],
   "source": [
    "print(len('abc'))\n",
    "print('abc'+'def')\n",
    "print('abc'*3)\n",
    "\n",
    "print('----------')\n",
    "print('-'*10)"
   ]
  },
  {
   "cell_type": "code",
   "execution_count": 39,
   "metadata": {},
   "outputs": [
    {
     "name": "stdout",
     "output_type": "stream",
     "text": [
      "c,a,m,a,r,o\n",
      "True\n",
      "False\n",
      "True\n"
     ]
    }
   ],
   "source": [
    "myCar='camaro'\n",
    "for c in myCar:print(c,end=\",\")\n",
    "print('\\b')\n",
    "print('m' in myCar)\n",
    "print('z' in myCar)\n",
    "print('spam' in 'abcspamefj')"
   ]
  },
  {
   "cell_type": "code",
   "execution_count": 45,
   "metadata": {},
   "outputs": [
    {
     "name": "stdout",
     "output_type": "stream",
     "text": [
      "tige\n",
      "13579\n",
      "97531\n",
      "6543\n",
      " X\n"
     ]
    }
   ],
   "source": [
    "s='tiger'\n",
    "print(s[:-1])\n",
    "s='123456789'\n",
    "print(s[::2])\n",
    "print(s[::-2])\n",
    "print(s[5:1:-1])\n",
    "print(s[5:1:1],'X')\n"
   ]
  },
  {
   "cell_type": "code",
   "execution_count": 48,
   "metadata": {},
   "outputs": [
    {
     "name": "stdout",
     "output_type": "stream",
     "text": [
      "ige\n",
      "ige\n"
     ]
    }
   ],
   "source": [
    "s='tiger'\n",
    "print(s[1:-1])\n",
    "print(s[slice(1,-1)])"
   ]
  },
  {
   "cell_type": "code",
   "execution_count": 50,
   "metadata": {},
   "outputs": [
    {
     "name": "stdout",
     "output_type": "stream",
     "text": [
      "sd\n"
     ]
    }
   ],
   "source": [
    "'''\n",
    "x=[1:3]\n",
    "print('asdfg'[x])\n",
    "'''\n",
    "\n",
    "x=slice(1,3)\n",
    "print('asdfgg'[x])"
   ]
  },
  {
   "cell_type": "code",
   "execution_count": 51,
   "metadata": {},
   "outputs": [
    {
     "name": "stdout",
     "output_type": "stream",
     "text": [
      "['c:\\\\Users\\\\Thunder\\\\AppData\\\\Local\\\\Programs\\\\Python\\\\Python310\\\\lib\\\\site-packages\\\\ipykernel_launcher.py', '--ip=127.0.0.1', '--stdin=9003', '--control=9001', '--hb=9000', '--Session.signature_scheme=\"hmac-sha256\"', '--Session.key=b\"4fd5592b-8a33-4298-91a2-96fe0e0cd387\"', '--shell=9002', '--transport=\"tcp\"', '--iopub=9004', '--f=c:\\\\Users\\\\Thunder\\\\AppData\\\\Roaming\\\\jupyter\\\\runtime\\\\kernel-v2-2044865414uYdYIqQ.json']\n"
     ]
    }
   ],
   "source": [
    "import sys\n",
    "print(sys.argv)"
   ]
  },
  {
   "cell_type": "markdown",
   "metadata": {},
   "source": [
    "convert"
   ]
  },
  {
   "cell_type": "code",
   "execution_count": 54,
   "metadata": {},
   "outputs": [
    {
     "ename": "TypeError",
     "evalue": "can only concatenate str (not \"int\") to str",
     "output_type": "error",
     "traceback": [
      "\u001b[1;31m---------------------------------------------------------------------------\u001b[0m",
      "\u001b[1;31mTypeError\u001b[0m                                 Traceback (most recent call last)",
      "\u001b[1;32md:\\Draft\\Python\\Programming Python-5th\\part II\\Chapter7\\chapter7.ipynb Cell 21'\u001b[0m in \u001b[0;36m<cell line: 1>\u001b[1;34m()\u001b[0m\n\u001b[1;32m----> <a href='vscode-notebook-cell:/d%3A/Draft/Python/Programming%20Python-5th/part%20II/Chapter7/chapter7.ipynb#ch0000022?line=0'>1</a>\u001b[0m \u001b[39m'\u001b[39;49m\u001b[39mhello\u001b[39;49m\u001b[39m'\u001b[39;49m\u001b[39m+\u001b[39;49m\u001b[39m21\u001b[39;49m\n",
      "\u001b[1;31mTypeError\u001b[0m: can only concatenate str (not \"int\") to str"
     ]
    }
   ],
   "source": [
    "'hello'+21"
   ]
  },
  {
   "cell_type": "code",
   "execution_count": 53,
   "metadata": {},
   "outputs": [
    {
     "name": "stdout",
     "output_type": "stream",
     "text": [
      "12 12\n"
     ]
    },
    {
     "data": {
      "text/plain": [
       "'hello21'"
      ]
     },
     "execution_count": 53,
     "metadata": {},
     "output_type": "execute_result"
    }
   ],
   "source": [
    "print(int('12'),str(12))\n",
    "'hello'+repr(21)"
   ]
  },
  {
   "cell_type": "code",
   "execution_count": 59,
   "metadata": {},
   "outputs": [
    {
     "name": "stdout",
     "output_type": "stream",
     "text": [
      "spam 'spam'\n"
     ]
    },
    {
     "data": {
      "text/plain": [
       "(\"'tiger'\", '22', '\"\\'tiger\\'\"', '\\'\"\\\\\\'tiger\\\\\\'\"\\'')"
      ]
     },
     "execution_count": 59,
     "metadata": {},
     "output_type": "execute_result"
    }
   ],
   "source": [
    "print(str('spam'),repr('spam'))\n",
    "repr('tiger'),repr(22),repr(repr('tiger')),repr(repr(repr('tiger')))"
   ]
  },
  {
   "cell_type": "code",
   "execution_count": 60,
   "metadata": {},
   "outputs": [
    {
     "data": {
      "text/plain": [
       "('101', 11)"
      ]
     },
     "execution_count": 60,
     "metadata": {},
     "output_type": "execute_result"
    }
   ],
   "source": [
    "s='10'\n",
    "i=1\n",
    "s+str(1),int(s)+i"
   ]
  },
  {
   "cell_type": "code",
   "execution_count": 62,
   "metadata": {},
   "outputs": [
    {
     "data": {
      "text/plain": [
       "(97, 's')"
      ]
     },
     "execution_count": 62,
     "metadata": {},
     "output_type": "execute_result"
    }
   ],
   "source": [
    "ord('a'),chr(115)"
   ]
  },
  {
   "cell_type": "code",
   "execution_count": 63,
   "metadata": {},
   "outputs": [
    {
     "data": {
      "text/plain": [
       "'6'"
      ]
     },
     "execution_count": 63,
     "metadata": {},
     "output_type": "execute_result"
    }
   ],
   "source": [
    "chr(ord('5')+1)"
   ]
  },
  {
   "cell_type": "code",
   "execution_count": 66,
   "metadata": {},
   "outputs": [
    {
     "name": "stdout",
     "output_type": "stream",
     "text": [
      "48 49 ... 57\n"
     ]
    },
    {
     "data": {
      "text/plain": [
       "3"
      ]
     },
     "execution_count": 66,
     "metadata": {},
     "output_type": "execute_result"
    }
   ],
   "source": [
    "print(ord('0'),ord('1'),'...',ord('9'))\n",
    "ord('4')-ord('1')"
   ]
  },
  {
   "cell_type": "code",
   "execution_count": 71,
   "metadata": {},
   "outputs": [
    {
     "name": "stdout",
     "output_type": "stream",
     "text": [
      "1 1\n",
      "3 1\n",
      "6 0\n",
      "13 1\n",
      "final result : 13\n",
      "13\n"
     ]
    }
   ],
   "source": [
    "b='1101'\n",
    "i=0\n",
    "\n",
    "while b !='':\n",
    "    c=(ord(b[0])-ord('0'))\n",
    "    i=i*2+c\n",
    "    b=b[1:]\n",
    "    print(i,c)\n",
    "    \n",
    "print('final result :',i)    \n",
    "print(int('1101',2))"
   ]
  },
  {
   "cell_type": "code",
   "execution_count": 73,
   "metadata": {},
   "outputs": [
    {
     "name": "stdout",
     "output_type": "stream",
     "text": [
      "spamSPAM!\n",
      "spamBurger!\n"
     ]
    }
   ],
   "source": [
    "'''\n",
    "s='spam'\n",
    "s[0]='x'\n",
    "typeError\n",
    "'''\n",
    "\n",
    "s='spam'\n",
    "s=s+'SPAM!'\n",
    "print(s)\n",
    "\n",
    "t=s[:4]+'Burger'+s[-1]\n",
    "print(t)"
   ]
  },
  {
   "cell_type": "code",
   "execution_count": 79,
   "metadata": {},
   "outputs": [
    {
     "name": "stdout",
     "output_type": "stream",
     "text": [
      "matlot\n",
      "matlot\n",
      "*** zzmatlotzzzzzzzzzzzzzzzzzzzzzzzzzzzzzzzzz\n",
      "ZZmatlotZZZZZZzzzzzzzzzzzzzzzzzzzzzzzzzzz\n"
     ]
    }
   ],
   "source": [
    "s='splot'\n",
    "s=s.replace('sp','mat')\n",
    "print(s)\n",
    "print(s.replace('zz','or'))\n",
    "s='zz'+s+'zzzzzzzzzzzzzzzzzzzzzzzzzzzzzzzzz'\n",
    "print('***',s)\n",
    "print(s.replace('zz','ZZ',4))\n"
   ]
  },
  {
   "cell_type": "code",
   "execution_count": 85,
   "metadata": {},
   "outputs": [
    {
     "name": "stdout",
     "output_type": "stream",
     "text": [
      "5 index\n"
     ]
    }
   ],
   "source": [
    "s='1111spamspamspam'\n",
    "r=s.find('pa')\n",
    "print(r,'index')"
   ]
  },
  {
   "cell_type": "code",
   "execution_count": 93,
   "metadata": {},
   "outputs": [
    {
     "name": "stdout",
     "output_type": "stream",
     "text": [
      "aB 123456789 Ba !@#$ \n",
      " Ab 123456789 ba !@#$\n",
      "aB 123456789 Ba !@#$ \n",
      " ab 123456789 ba !@#$\n"
     ]
    }
   ],
   "source": [
    "S='aB 123456789 Ba !@#$'\n",
    "a=S.capitalize()\n",
    "print(S,'\\n',a)\n",
    "a=S.casefold()\n",
    "print(S,'\\n',a)"
   ]
  },
  {
   "cell_type": "code",
   "execution_count": 103,
   "metadata": {},
   "outputs": [
    {
     "name": "stdout",
     "output_type": "stream",
     "text": [
      "urbane\n",
      "<  urbane  >\n",
      "6 12\n",
      "********\n",
      "urbane\n",
      "<--urbane-->\n",
      "6 12\n"
     ]
    }
   ],
   "source": [
    "s='urbane'\n",
    "a='<'+s.center(10)+'>'\n",
    "print(s)\n",
    "print(a)\n",
    "print(len(s),len(a))\n",
    "\n",
    "print('*'*8)\n",
    "s='urbane'\n",
    "a='<'+s.center(10,'-')+'>'\n",
    "print(s)\n",
    "print(a)\n",
    "print(len(s),len(a))"
   ]
  },
  {
   "cell_type": "code",
   "execution_count": 104,
   "metadata": {},
   "outputs": [
    {
     "name": "stdout",
     "output_type": "stream",
     "text": [
      "2\n"
     ]
    }
   ],
   "source": [
    "txt = \"I love apples, apple are my favorite fruit\"\n",
    "x = txt.count(\"app\")\n",
    "print(x)"
   ]
  },
  {
   "cell_type": "code",
   "execution_count": 107,
   "metadata": {},
   "outputs": [
    {
     "name": "stdout",
     "output_type": "stream",
     "text": [
      "b'My name is St\\xc3\\xa5le'\n",
      "********\n",
      "b'My name is St\\\\xe5le'\n",
      "b'My name is Stle'\n",
      "b'My name is St\\\\N{LATIN SMALL LETTER A WITH RING ABOVE}le'\n",
      "b'My name is St?le'\n",
      "b'My name is St&#229;le'\n"
     ]
    }
   ],
   "source": [
    "txt = \"My name is Ståle\"\n",
    "x = txt.encode()\n",
    "print(x)\n",
    "print('*'*8)\n",
    "txt = \"My name is Ståle\"\n",
    "print(txt.encode(encoding=\"ascii\",errors=\"backslashreplace\"))\n",
    "print(txt.encode(encoding=\"ascii\",errors=\"ignore\"))\n",
    "print(txt.encode(encoding=\"ascii\",errors=\"namereplace\"))\n",
    "print(txt.encode(encoding=\"ascii\",errors=\"replace\"))\n",
    "print(txt.encode(encoding=\"ascii\",errors=\"xmlcharrefreplace\"))"
   ]
  },
  {
   "cell_type": "code",
   "execution_count": 111,
   "metadata": {},
   "outputs": [
    {
     "name": "stdout",
     "output_type": "stream",
     "text": [
      "True\n",
      "False\n",
      "ello my name ?\n",
      "True\n"
     ]
    }
   ],
   "source": [
    "s='hello my name is jon how old are you ?'\n",
    "x=s.endswith('?')\n",
    "print(x)\n",
    "s='hello my name is jon how old are you ? '\n",
    "x=s.endswith('?')\n",
    "print(x)\n",
    "s='hello my name ?s jon how old are you ?'\n",
    "print(s[1:15])\n",
    "x=s.endswith('?',1,15)\n",
    "print(x)"
   ]
  },
  {
   "cell_type": "code",
   "execution_count": 121,
   "metadata": {},
   "outputs": [
    {
     "name": "stdout",
     "output_type": "stream",
     "text": [
      "\ta \tb\t c\t\n",
      "\ta\tb\tc\t\n",
      "a b c\n",
      " a  b  c \n",
      "  a   b  c  \n"
     ]
    }
   ],
   "source": [
    "s='\\ta \\tb\\t c\\t'\n",
    "print(s)\n",
    "print('\\ta\\tb\\tc\\t')\n",
    "x=s.expandtabs(0)\n",
    "print(x)\n",
    "x=s.expandtabs(1)\n",
    "print(x)\n",
    "x=s.expandtabs(2)\n",
    "print(x)"
   ]
  },
  {
   "cell_type": "code",
   "execution_count": 124,
   "metadata": {},
   "outputs": [
    {
     "name": "stdout",
     "output_type": "stream",
     "text": [
      "-1\n"
     ]
    },
    {
     "data": {
      "text/plain": [
       "'print(txt.index(\"q\")) #return Error '"
      ]
     },
     "execution_count": 124,
     "metadata": {},
     "output_type": "execute_result"
    }
   ],
   "source": [
    "txt = \"Hello, welcome to my world.\"\n",
    "print(txt.find(\"q\"))\n",
    "'''print(txt.index(\"q\")) #return Error '''"
   ]
  },
  {
   "cell_type": "code",
   "execution_count": 125,
   "metadata": {},
   "outputs": [
    {
     "name": "stdout",
     "output_type": "stream",
     "text": [
      "7\n"
     ]
    }
   ],
   "source": [
    "txt = \"Hello, welcome to my world.\"\n",
    "x = txt.index(\"welcome\")\n",
    "print(x)"
   ]
  },
  {
   "cell_type": "markdown",
   "metadata": {},
   "source": []
  },
  {
   "cell_type": "code",
   "execution_count": null,
   "metadata": {},
   "outputs": [],
   "source": [
    "txt = \"Company12\"\n",
    "x = txt.isalnum()\n",
    "print(x)"
   ]
  }
 ],
 "metadata": {
  "kernelspec": {
   "display_name": "Python 3.10.0 64-bit",
   "language": "python",
   "name": "python3"
  },
  "language_info": {
   "codemirror_mode": {
    "name": "ipython",
    "version": 3
   },
   "file_extension": ".py",
   "mimetype": "text/x-python",
   "name": "python",
   "nbconvert_exporter": "python",
   "pygments_lexer": "ipython3",
   "version": "3.10.0"
  },
  "orig_nbformat": 4,
  "vscode": {
   "interpreter": {
    "hash": "1c6c043809b0aa06f295572e3555767cce6faf59773d5c69c5d0d1628626d6da"
   }
  }
 },
 "nbformat": 4,
 "nbformat_minor": 2
}
