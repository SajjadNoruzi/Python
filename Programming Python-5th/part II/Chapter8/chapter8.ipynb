{
 "cells": [
  {
   "cell_type": "markdown",
   "metadata": {},
   "source": [
    "start Chapter 8"
   ]
  },
  {
   "cell_type": "code",
   "execution_count": 3,
   "metadata": {},
   "outputs": [
    {
     "name": "stdout",
     "output_type": "stream",
     "text": [
      "[1, 2, 3, 4, 5, 6]\n",
      "[1, 2, 3, 1, 2, 3, 1, 2, 3]\n",
      "['NI', 'NI', 'NI']\n"
     ]
    }
   ],
   "source": [
    "l=[1,2,3]\n",
    "print(l+[4,5,6])\n",
    "print(l*3)\n",
    "\n",
    "print(['NI']*3)"
   ]
  },
  {
   "cell_type": "code",
   "execution_count": 4,
   "metadata": {},
   "outputs": [
    {
     "name": "stdout",
     "output_type": "stream",
     "text": [
      "[1, 2]34\n",
      "[1, 2, '3', '4']\n"
     ]
    }
   ],
   "source": [
    "r=str([1,2])+'34'\n",
    "print(r)\n",
    "\n",
    "r=[1,2]+list('34')\n",
    "print(r)"
   ]
  },
  {
   "cell_type": "code",
   "execution_count": 6,
   "metadata": {},
   "outputs": [
    {
     "name": "stdout",
     "output_type": "stream",
     "text": [
      "['ssss', 'pppp', 'aaaa', 'mmmm']\n",
      "['SSSS', 'PPPP', 'AAAA', 'MMMM']\n"
     ]
    }
   ],
   "source": [
    "l=[c*4 for c in 'spam']\n",
    "print(l)\n",
    "\n",
    "l=[]\n",
    "for c in 'SPAM':\n",
    "    l.append(c*4)\n",
    "print(l)"
   ]
  },
  {
   "cell_type": "code",
   "execution_count": 8,
   "metadata": {},
   "outputs": [
    {
     "name": "stdout",
     "output_type": "stream",
     "text": [
      "[4, 2, 0, 2, 4]\n"
     ]
    }
   ],
   "source": [
    "res=list(map(abs,[-4,-2,0,2,4]))\n",
    "print(res)"
   ]
  },
  {
   "cell_type": "code",
   "execution_count": 9,
   "metadata": {},
   "outputs": [
    {
     "name": "stdout",
     "output_type": "stream",
     "text": [
      "[[1, 2, 3], [4, 5, 6], [7, 8, 9]]\n"
     ]
    }
   ],
   "source": [
    "matrix=[[1,2,3],[4,5,6],[7,8,9]]\n",
    "print(matrix)"
   ]
  },
  {
   "cell_type": "code",
   "execution_count": 10,
   "metadata": {},
   "outputs": [
    {
     "name": "stdout",
     "output_type": "stream",
     "text": [
      "['spam', 'Spam', 'SPAM!']\n",
      "['spam', 'egg', 'SPAM!']\n",
      "['eat', 'more', 'SPAM!']\n"
     ]
    }
   ],
   "source": [
    "l=['spam','Spam','SPAM!']\n",
    "print(l)\n",
    "l[1]='egg'\n",
    "print(l)\n",
    "l[0:2]=['eat','more']\n",
    "print(l)"
   ]
  },
  {
   "cell_type": "code",
   "execution_count": 14,
   "metadata": {},
   "outputs": [
    {
     "name": "stdout",
     "output_type": "stream",
     "text": [
      "[1, 4, 5, 3]\n",
      "[1, 6, 7, 4, 5, 3]\n",
      "[1, 6, 7, 4, 5, 3]\n",
      "[1, 7, 4, 5, 3]\n"
     ]
    }
   ],
   "source": [
    "l=[1,2,3]\n",
    "l[1:2]=[4,5]\n",
    "print(l)\n",
    "\n",
    "\n",
    "l[1:1]=[6,7]\n",
    "print(l)\n",
    "\n",
    "l[1:1]=[]\n",
    "print(l)\n",
    "\n",
    "l[1:2]=[]\n",
    "print(l)"
   ]
  },
  {
   "cell_type": "code",
   "execution_count": 3,
   "metadata": {},
   "outputs": [
    {
     "name": "stdout",
     "output_type": "stream",
     "text": [
      "[2, 3, 4, 1]\n",
      "[2, 3, 4, 1, 5, 6, 7]\n",
      "[2, 3, 4, 1, 5, 6, 7, 8, 9, 10]\n"
     ]
    }
   ],
   "source": [
    "L=[1]\n",
    "L[:0]=[2,3,4]\n",
    "print(L)\n",
    "L[len(L):]=[5,6,7]\n",
    "print(L)\n",
    "L.extend([8,9,10])\n",
    "print(L)"
   ]
  },
  {
   "cell_type": "code",
   "execution_count": 5,
   "metadata": {},
   "outputs": [
    {
     "name": "stdout",
     "output_type": "stream",
     "text": [
      "['eat', 'egg', 'meat', 'cake']\n",
      "['cake', 'eat', 'egg', 'meat']\n"
     ]
    }
   ],
   "source": [
    "l=['eat','egg','meat']\n",
    "l.append('cake')\n",
    "print(l)\n",
    "\n",
    "l.sort()\n",
    "print(l)"
   ]
  },
  {
   "cell_type": "code",
   "execution_count": 21,
   "metadata": {},
   "outputs": [
    {
     "name": "stdout",
     "output_type": "stream",
     "text": [
      "['abc', 'ABD', 'aBe', 'XXX', 'abd']\n",
      "{'abc': [97, 98, 99], 'ABD': [65, 66, 68], 'aBe': [97, 66, 101], 'XXX': [88, 88, 88], 'abd': [97, 98, 100]}\n",
      "*********\n",
      "['ABD', 'XXX', 'aBe', 'abc', 'abd']\n",
      "{'ABD': [65, 66, 68], 'XXX': [88, 88, 88], 'aBe': [97, 66, 101], 'abc': [97, 98, 99], 'abd': [97, 98, 100]}\n",
      "*********\n",
      "['abc', 'ABD', 'abd', 'aBe', 'XXX']\n",
      "{'abc': [97, 98, 99], 'ABD': [65, 66, 68], 'abd': [97, 98, 100], 'aBe': [97, 66, 101], 'XXX': [88, 88, 88]}\n",
      "*********\n",
      "['XXX', 'aBe', 'ABD', 'abd', 'abc']\n",
      "{'XXX': [88, 88, 88], 'aBe': [97, 66, 101], 'ABD': [65, 66, 68], 'abd': [97, 98, 100], 'abc': [97, 98, 99]}\n",
      "*********\n"
     ]
    }
   ],
   "source": [
    "def magic(M):\n",
    "    d={}\n",
    "    for c in M:\n",
    "        d[c]=list(map(ord,list(c)))\n",
    "    \n",
    "    print(d)    \n",
    "    print('*********')\n",
    "\n",
    "l= ['abc', 'ABD', 'aBe','XXX','abd']\n",
    "\n",
    "print(l)\n",
    "magic(l)\n",
    "\n",
    "l.sort()\n",
    "print(l)\n",
    "magic(l)\n",
    "l.sort(key=str.lower)\n",
    "print(l)\n",
    "magic(l)\n",
    "l.sort(key=str.lower,reverse=True)\n",
    "\n",
    "print(l)\n",
    "magic(l)"
   ]
  },
  {
   "cell_type": "code",
   "execution_count": 23,
   "metadata": {},
   "outputs": [
    {
     "name": "stdout",
     "output_type": "stream",
     "text": [
      "['aBe', 'ABD', 'abc']\n",
      "['abe', 'abd', 'abc']\n"
     ]
    }
   ],
   "source": [
    "L = ['abc', 'ABD', 'aBe']\n",
    "\n",
    "a=sorted(L,key=str.lower,reverse=True)\n",
    "print(a)\n",
    "\n",
    "b=sorted([c.lower() for c in L],reverse=True)\n",
    "print(b)"
   ]
  },
  {
   "cell_type": "code",
   "execution_count": 28,
   "metadata": {},
   "outputs": [
    {
     "name": "stdout",
     "output_type": "stream",
     "text": [
      "[1, 2, 3, 4, 5]\n",
      "5\n",
      "[1, 2, 3, 4]\n",
      "[4, 3, 2, 1]\n",
      "[4, 3, 2, 1]\n",
      "[-1, 2, 3, 4] *\n"
     ]
    }
   ],
   "source": [
    "l=[1,2]\n",
    "l.extend([3,4,5])\n",
    "print(l)\n",
    "\n",
    "print(l.pop())\n",
    "print(l)\n",
    "\n",
    "l.reverse()\n",
    "print(l)\n",
    "\n",
    "a=list(reversed(l))\n",
    "a[0]=-1\n",
    "print(l)\n",
    "print(a,'*')"
   ]
  },
  {
   "cell_type": "code",
   "execution_count": 40,
   "metadata": {},
   "outputs": [
    {
     "name": "stdout",
     "output_type": "stream",
     "text": [
      "['spam', 'eggs', 'ham']\n",
      "['spam', 'eggs', 'ham', 'cake']\n",
      "1\n",
      "['spam', 'eggs', 'cake']\n",
      "['spam', 'food', 'eggs', 'cake']\n",
      "eggs\n",
      "['spam', 'food', 'cake']\n",
      "1\n",
      "['spam', 'x', 'Y', 'z', 'cake']\n",
      "['spam', 'x']\n",
      "****\n",
      "['spam', 'eggs', 'ham', 'cake']\n",
      "['spam', 'ham', 'cake']\n",
      "['spam']\n"
     ]
    }
   ],
   "source": [
    "L = ['spam', 'eggs', 'ham']\n",
    "print(L)\n",
    "L.append('cake')\n",
    "print(L)\n",
    "a=L.index('eggs')\n",
    "print(a)\n",
    "\n",
    "L.remove('ham')\n",
    "print(L)\n",
    "\n",
    "L.insert(1,'food')\n",
    "print(L)\n",
    "\n",
    "print(L.pop(2))\n",
    "print(L)\n",
    "\n",
    "print(L.count('spam'))\n",
    "\n",
    "\n",
    "L[1:2]=['x','Y','z']\n",
    "print(L) \n",
    "\n",
    "L[1:]=['x']\n",
    "print(L)\n",
    "\n",
    "\n",
    "print('****')\n",
    "L = ['spam', 'eggs', 'ham','cake']\n",
    "print(L)\n",
    "\n",
    "del L[1]\n",
    "print(L)\n",
    "\n",
    "del L[1:]\n",
    "print(L)"
   ]
  },
  {
   "cell_type": "code",
   "execution_count": 48,
   "metadata": {},
   "outputs": [
    {
     "name": "stdout",
     "output_type": "stream",
     "text": [
      "['ready']\n",
      "[[]]\n",
      "False\n",
      "<class 'list'>\n",
      "1\n",
      "[[], 1]\n"
     ]
    }
   ],
   "source": [
    "l=['ready','got','done']\n",
    "l[1:]=[]\n",
    "print(l)\n",
    "\n",
    "l[0]=[]\n",
    "print(l)\n",
    "print(l is None)\n",
    "print(type(l))\n",
    "print(len(l))\n",
    "l.append(1)\n",
    "print(l)\n"
   ]
  },
  {
   "cell_type": "markdown",
   "metadata": {},
   "source": [
    "dictionary"
   ]
  },
  {
   "cell_type": "code",
   "execution_count": 59,
   "metadata": {},
   "outputs": [
    {
     "name": "stdout",
     "output_type": "stream",
     "text": [
      "1\n",
      "{'spam': 2, 'egg': 3, 'milk': 1}\n",
      "3\n",
      "True\n",
      "['spam', 'egg', 'milk']\n",
      "{'spam': 2, 'egg': 3, 'milk': ['cow', 'sheep', 'lama']}\n",
      "{'spam': 2, 'milk': ['cow', 'sheep', 'lama']}\n",
      "{'spam': 2, 'milk': ['cow', 'sheep', 'lama'], 'city': 'paris'}\n"
     ]
    }
   ],
   "source": [
    "d={'spam':2,'egg':3,'milk':1}\n",
    "\n",
    "print(d['milk'])\n",
    "print(d)\n",
    "\n",
    "print(len(d))\n",
    "\n",
    "print('egg' in d)\n",
    "\n",
    "print(list(d.keys()))\n",
    "\n",
    "d['milk']=['cow','sheep','lama']\n",
    "print(d)\n",
    "\n",
    "del d['egg']\n",
    "\n",
    "print(d)\n",
    "\n",
    "d['city']='paris'\n",
    "print(d)"
   ]
  },
  {
   "cell_type": "code",
   "execution_count": 62,
   "metadata": {},
   "outputs": [
    {
     "name": "stdout",
     "output_type": "stream",
     "text": [
      "keys:['spam', 'egg', 'milk']\n",
      "values:[2, 3, 1]\n",
      "items:[('spam', 2), ('egg', 3), ('milk', 1)]\n",
      "\n"
     ]
    }
   ],
   "source": [
    "d={'spam':2,'egg':3,'milk':1}\n",
    "a=list(d.keys())\n",
    "b=list(d.values())\n",
    "c=list(d.items())\n",
    "print(\"keys:{};values:{};items:{};\".format(a,b,c).replace(';','\\n'))\n"
   ]
  },
  {
   "cell_type": "code",
   "execution_count": 4,
   "metadata": {},
   "outputs": [
    {
     "name": "stdout",
     "output_type": "stream",
     "text": [
      "2\n",
      "None\n",
      "-1\n",
      "3\n"
     ]
    }
   ],
   "source": [
    "d={'spam':2,'egg':3,'milk':1}\n",
    "\n",
    "a=d.get('spam')\n",
    "print(a)\n",
    "\n",
    "b=d.get('cat')\n",
    "print(b)\n",
    "\n",
    "c=d.get('car',-1)\n",
    "print(c)\n",
    "\n",
    "d=d.get('egg',-1)\n",
    "print(d)\n"
   ]
  },
  {
   "cell_type": "code",
   "execution_count": 5,
   "metadata": {},
   "outputs": [
    {
     "name": "stdout",
     "output_type": "stream",
     "text": [
      "{'spam': 2, 'egg': 12, 'milk': 1, 'muffin': 4}\n"
     ]
    }
   ],
   "source": [
    "d={'spam':2,'egg':3,'milk':1}\n",
    "d1={'egg':12,'muffin':4}\n",
    "\n",
    "d.update(d1)\n",
    "print(d)"
   ]
  },
  {
   "cell_type": "code",
   "execution_count": 6,
   "metadata": {},
   "outputs": [
    {
     "name": "stdout",
     "output_type": "stream",
     "text": [
      "3\n",
      "{'spam': 2, 'milk': 1}\n"
     ]
    }
   ],
   "source": [
    "d={'spam':2,'egg':3,'milk':1}\n",
    "\n",
    "a=d.pop('egg')\n",
    "print(a)\n",
    "print(d)"
   ]
  },
  {
   "cell_type": "code",
   "execution_count": 7,
   "metadata": {},
   "outputs": [
    {
     "name": "stdout",
     "output_type": "stream",
     "text": [
      "['aa', 'bb', 'cc', 'dd']\n",
      "dd\n",
      "['aa', 'bb', 'cc']\n",
      "bb\n",
      "['aa', 'cc']\n"
     ]
    }
   ],
   "source": [
    "l=['aa','bb','cc','dd']\n",
    "\n",
    "print(l)\n",
    "\n",
    "print(l.pop())\n",
    "\n",
    "print(l)\n",
    "\n",
    "print(l.pop(1))\n",
    "\n",
    "print(l)"
   ]
  },
  {
   "cell_type": "code",
   "execution_count": 10,
   "metadata": {},
   "outputs": [
    {
     "name": "stdout",
     "output_type": "stream",
     "text": [
      "The Meaning of Life\n",
      "1975\tHoly Grail\n",
      "1979\tLife of Brian\n",
      "1983\tThe Meaning of Life\n"
     ]
    }
   ],
   "source": [
    "table = {'1975': 'Holy Grail', # Key: Value\n",
    "     '1979': 'Life of Brian',\n",
    "    '1983': 'The Meaning of Life'}\n",
    "\n",
    "\n",
    "year='1983'\n",
    "movie=table[year]\n",
    "\n",
    "print(movie)\n",
    "\n",
    "\n",
    "for year in table:\n",
    "    print( year + '\\t' + table[year])"
   ]
  },
  {
   "cell_type": "code",
   "execution_count": 16,
   "metadata": {},
   "outputs": [
    {
     "name": "stdout",
     "output_type": "stream",
     "text": [
      "1979\n",
      "[('Holy Grail', '1975'), ('Life of Brian', '1979'), ('The Meaning of Life', '1983')]\n",
      "['Holy Grail', 'Life of Brian']\n"
     ]
    }
   ],
   "source": [
    "table = {'Holy Grail': '1975', # Key=>Value (title=>year)\n",
    "    'Life of Brian': '1979',\n",
    "    'The Meaning of Life': '1983'}\n",
    "\n",
    "\n",
    "print(table['Life of Brian'])\n",
    "\n",
    "print(list(table.items()))\n",
    "\n",
    "a=[title for title,year in table.items() if year < '1983']\n",
    "print(a)\n"
   ]
  },
  {
   "cell_type": "code",
   "execution_count": 18,
   "metadata": {},
   "outputs": [
    {
     "name": "stdout",
     "output_type": "stream",
     "text": [
      "['Life of Brian']\n",
      "['Life of Brian']\n"
     ]
    }
   ],
   "source": [
    "'''value => key'''\n",
    "\n",
    "table = {'Holy Grail': '1975', # Key=>Value (title=>year)\n",
    "    'Life of Brian': '1979',\n",
    "    'The Meaning of Life': '1983'}\n",
    "\n",
    "\n",
    "v='1979'\n",
    "a=[key for key , value in table.items() if value == v]\n",
    "print(a) \n",
    "\n",
    "b=[key for key in table.keys() if table[key]==v]\n",
    "print(b)"
   ]
  },
  {
   "cell_type": "code",
   "execution_count": 21,
   "metadata": {},
   "outputs": [
    {
     "name": "stdout",
     "output_type": "stream",
     "text": [
      "[0, 0, 0, 0, 0, 0, 0, 0, 0, 0, 0, 0, 0, 0, 0, 0, 0, 0, 0, 0, 0, 0, 0, 0, 0, 0, 0, 0, 0, 0, 0, 0, 0, 0, 0, 0, 0, 0, 0, 0, 0, 0, 0, 0, 0, 0, 0, 0, 0, 0, 0, 0, 0, 0, 0, 0, 0, 0, 0, 0, 0, 0, 0, 0, 0, 0, 0, 0, 0, 0, 0, 0, 0, 0, 0, 0, 0, 0, 0, 0, 0, 0, 0, 0, 0, 0, 0, 0, 0, 0, 0, 0, 0, 0, 0, 0, 0, 0, 0, 0]\n",
      "[0, 0, 0, 1, 0, 0, 0, 0, 0, 0, 0, 0, 0, 0, 0, 0, 0, 0, 0, 0, 0, 0, 0, 0, 0, 0, 0, 0, 0, 0, 0, 0, 0, 0, 0, 0, 0, 0, 0, 0, 0, 0, 0, 0, 0, 0, 0, 0, 0, 0, 0, 0, 0, 0, 0, 0, 0, 0, 0, 0, 0, 0, 0, 0, 0, 0, 0, 0, 0, 0, 0, 0, 0, 0, 0, 0, 0, 0, 0, 0, 0, 0, 0, 0, 0, 0, 0, 0, 0, 0, 0, 0, 0, 0, 0, 0, 0, 0, 0, 0]\n"
     ]
    }
   ],
   "source": [
    "l=[0]*100\n",
    "print(l)\n",
    "l[3]=1\n",
    "print(l)"
   ]
  },
  {
   "cell_type": "code",
   "execution_count": 27,
   "metadata": {},
   "outputs": [
    {
     "name": "stdout",
     "output_type": "stream",
     "text": [
      "{(2, 3, 4): 11, (1, 5, 10): 55, (1, 2, 3): 33}\n",
      "33\n",
      "11\n",
      "11\n"
     ]
    },
    {
     "ename": "KeyError",
     "evalue": "(2, 3, 5)",
     "output_type": "error",
     "traceback": [
      "\u001b[1;31m---------------------------------------------------------------------------\u001b[0m",
      "\u001b[1;31mKeyError\u001b[0m                                  Traceback (most recent call last)",
      "\u001b[1;32md:\\Draft\\Python\\Programming Python-5th\\part II\\Chapter8\\chapter8.ipynb Cell 27\u001b[0m in \u001b[0;36m<cell line: 12>\u001b[1;34m()\u001b[0m\n\u001b[0;32m     <a href='vscode-notebook-cell:/d%3A/Draft/Python/Programming%20Python-5th/part%20II/Chapter8/chapter8.ipynb#ch0000026?line=9'>10</a>\u001b[0m \u001b[39mprint\u001b[39m(matrix[(\u001b[39m2\u001b[39m,\u001b[39m3\u001b[39m,\u001b[39m4\u001b[39m)])\n\u001b[0;32m     <a href='vscode-notebook-cell:/d%3A/Draft/Python/Programming%20Python-5th/part%20II/Chapter8/chapter8.ipynb#ch0000026?line=10'>11</a>\u001b[0m \u001b[39mprint\u001b[39m(matrix[\u001b[39m2\u001b[39m,\u001b[39m3\u001b[39m,\u001b[39m4\u001b[39m])\n\u001b[1;32m---> <a href='vscode-notebook-cell:/d%3A/Draft/Python/Programming%20Python-5th/part%20II/Chapter8/chapter8.ipynb#ch0000026?line=11'>12</a>\u001b[0m \u001b[39mprint\u001b[39m(matrix[\u001b[39m2\u001b[39;49m,\u001b[39m3\u001b[39;49m,\u001b[39m5\u001b[39;49m])\n",
      "\u001b[1;31mKeyError\u001b[0m: (2, 3, 5)"
     ]
    }
   ],
   "source": [
    "matrix={}\n",
    "\n",
    "matrix[(2,3,4)]=11\n",
    "matrix[(1,5,10)]=55\n",
    "\n",
    "matrix[1,2,3]=33\n",
    "\n",
    "print(matrix)\n",
    "print(matrix[1,2,3])\n",
    "print(matrix[(2,3,4)])\n",
    "print(matrix[2,3,4])\n",
    "print(matrix[2,3,5])"
   ]
  },
  {
   "cell_type": "code",
   "execution_count": 31,
   "metadata": {},
   "outputs": [
    {
     "name": "stdout",
     "output_type": "stream",
     "text": [
      "11\n",
      "-1\n",
      "11\n",
      "-1\n"
     ]
    }
   ],
   "source": [
    "matrix={}\n",
    "matrix[(2,3,4)]=11\n",
    "matrix[(1,5,10)]=55\n",
    "\n",
    "if (2,3,4) in matrix:\n",
    "    print(matrix[(2,3,4)])\n",
    "    \n",
    "else:\n",
    "    print(-1)\n",
    "    \n",
    "    \n",
    "try:\n",
    "    print(matrix[(2,5,10)])\n",
    "except KeyError:\n",
    "    print(-1)\n",
    "    \n",
    "    \n",
    "print(matrix.get((2,3,4),-1))\n",
    "        \n",
    "        \n",
    "print(matrix.get((2,2,4),-1))"
   ]
  },
  {
   "cell_type": "code",
   "execution_count": 43,
   "metadata": {},
   "outputs": [
    {
     "name": "stdout",
     "output_type": "stream",
     "text": [
      "{'name': 'bob', 'age': 23, 'job': 'developer/manager'}\n",
      "{'name': 'Sara', 'jobs': ['developer', 'manager'], 'web': 'www.SaraWorld998.com/`Sara', 'home': {'state': 'overworked', 'zip': 132456}}\n",
      "132456\n",
      "developer\n",
      "[{'name': 'bob', 'age': 23, 'job': 'developer/manager'}]\n",
      "[{'name': 'bob', 'age': 23, 'job': 'developer/manager'}, {'name': 'Sara', 'jobs': ['developer', 'manager'], 'web': 'www.SaraWorld998.com/`Sara', 'home': {'state': 'overworked', 'zip': 132456}}]\n",
      "bob\n",
      "Sara\n",
      "****\n",
      "{'bob': {'name': 'bob', 'age': 23, 'job': 'developer/manager'}, 'sara': {'name': 'Sara', 'jobs': ['developer', 'manager'], 'web': 'www.SaraWorld998.com/`Sara', 'home': {'state': 'overworked', 'zip': 132456}}}\n",
      "developer/manager\n"
     ]
    }
   ],
   "source": [
    "rec1={}\n",
    "\n",
    "rec1['name']='bob'\n",
    "rec1['age']=23\n",
    "rec1['job']='developer/manager'\n",
    "\n",
    "\n",
    "print(rec1)\n",
    "\n",
    "\n",
    "rec={'name':'Sara',\n",
    "     'jobs':['developer','manager'],\n",
    "     'web':'www.SaraWorld998.com/`Sara',\n",
    "     'home':{'state':'overworked','zip':132456}}\n",
    "\n",
    "print(rec)\n",
    "\n",
    "print(rec['home']['zip'])\n",
    "print(rec['jobs'][0])\n",
    "\n",
    "\n",
    "\n",
    "''' database with list'''\n",
    "\n",
    "db=[]\n",
    "db.append(rec1)\n",
    "print(db)\n",
    "db.append(rec)\n",
    "print(db)\n",
    "\n",
    "print(db[0]['name'])\n",
    "print(db[1]['name'])\n",
    "\n",
    "\n",
    "print('****')\n",
    "db={}\n",
    "db['bob']=rec1\n",
    "db['sara']=rec\n",
    "print(db)\n",
    "\n",
    "print(db['bob']['job'])"
   ]
  },
  {
   "cell_type": "code",
   "execution_count": 46,
   "metadata": {},
   "outputs": [
    {
     "name": "stdout",
     "output_type": "stream",
     "text": [
      "{'name': 'rose', 'age': 23}\n",
      "{'name': 'bob', 'age': 25}\n",
      "{'name': 'sara', 'age': 34}\n"
     ]
    }
   ],
   "source": [
    "dic={}\n",
    "dic['name']='rose'\n",
    "dic['age']=23\n",
    "\n",
    "print(dic)\n",
    "\n",
    "dic=dict(name='bob',age=25)\n",
    "print(dic) \n",
    "\n",
    "\n",
    "dic=dict([('name','sara'),('age',34)])\n",
    "print(dic)\n",
    "\n",
    "\n"
   ]
  },
  {
   "cell_type": "code",
   "execution_count": 60,
   "metadata": {},
   "outputs": [
    {
     "name": "stdout",
     "output_type": "stream",
     "text": [
      "{'a': None, 'b': None, 'c': None, 'd': None}\n",
      "{}\n",
      "{'1': ('a', 'b', None), '2': ('a', 'b', None), '3': ('a', 'b', None), '4': ('a', 'b', None)}\n"
     ]
    }
   ],
   "source": [
    "d=dict.fromkeys(['a','b','c','d'])\n",
    "\n",
    "print(d)\n",
    "\n",
    "d.clear()\n",
    "print(d)\n",
    "\n",
    "d=dict.fromkeys(['1','2','3','4'],('a','b',None))\n",
    "print(d)"
   ]
  },
  {
   "cell_type": "code",
   "execution_count": 52,
   "metadata": {},
   "outputs": [
    {
     "data": {
      "text/plain": [
       "{'a': 0, 'b': 0}"
      ]
     },
     "execution_count": 52,
     "metadata": {},
     "output_type": "execute_result"
    }
   ],
   "source": [
    "dict.fromkeys(['a', 'b'], 0)"
   ]
  },
  {
   "cell_type": "code",
   "execution_count": 62,
   "metadata": {},
   "outputs": [
    {
     "name": "stdout",
     "output_type": "stream",
     "text": [
      "[('a', 1), ('b', 2), ('c', 3)]\n",
      "{'a': 1, 'b': 2, 'c': 3}\n"
     ]
    }
   ],
   "source": [
    "l=list(zip(['a','b','c'],[1,2,3]))\n",
    "print(l)\n",
    "\n",
    "d=dict(zip(['a','b','c'],[1,2,3]))\n",
    "print(d)"
   ]
  },
  {
   "cell_type": "code",
   "execution_count": 63,
   "metadata": {},
   "outputs": [
    {
     "name": "stdout",
     "output_type": "stream",
     "text": [
      "{'a': 1, 'b': 2, 'c': 3}\n"
     ]
    }
   ],
   "source": [
    "d={k:v for (k,v) in zip(['a','b','c'],[1,2,3])}\n",
    "print(d)"
   ]
  },
  {
   "cell_type": "code",
   "execution_count": 64,
   "metadata": {},
   "outputs": [
    {
     "name": "stdout",
     "output_type": "stream",
     "text": [
      "{1: 1, 2: 4, 3: 9, 4: 16}\n"
     ]
    }
   ],
   "source": [
    "d={n:n**2 for n in [1,2,3,4]}\n",
    "print(d)"
   ]
  },
  {
   "cell_type": "code",
   "execution_count": 65,
   "metadata": {},
   "outputs": [
    {
     "name": "stdout",
     "output_type": "stream",
     "text": [
      "{'s': 'ssss', 'p': 'pppp', 'a': 'aaaa', 'm': 'mmmm'}\n"
     ]
    }
   ],
   "source": [
    "d={c:c*4 for c in 'spam'}\n",
    "print(d)"
   ]
  },
  {
   "cell_type": "code",
   "execution_count": 66,
   "metadata": {},
   "outputs": [
    {
     "name": "stdout",
     "output_type": "stream",
     "text": [
      "{'spam': 'SPAM!', 'egg': 'EGG!', 'milk': 'MILK!', 'muffin': 'MUFFIN!'}\n"
     ]
    }
   ],
   "source": [
    "d={w.lower():w+'!' for w in ['SPAM','EGG','MILK','MUFFIN']}\n",
    "print(d)"
   ]
  },
  {
   "cell_type": "code",
   "execution_count": 70,
   "metadata": {},
   "outputs": [
    {
     "name": "stdout",
     "output_type": "stream",
     "text": [
      "{1: 0, 2: 0, 3: 0}\n",
      "{1: 0, 2: 0, 3: 0}\n"
     ]
    }
   ],
   "source": [
    "d=dict.fromkeys([1,2,3],0)\n",
    "print(d)\n",
    "\n",
    "d={n:0 for n in [1,2,3]}\n",
    "print(d)"
   ]
  },
  {
   "cell_type": "code",
   "execution_count": 72,
   "metadata": {},
   "outputs": [
    {
     "name": "stdout",
     "output_type": "stream",
     "text": [
      "{'s': None, 'p': None, 'a': None, 'm': None}\n",
      "{'s': None, 'p': None, 'a': None, 'm': None}\n"
     ]
    }
   ],
   "source": [
    "d=dict.fromkeys('spam')\n",
    "print(d)\n",
    "\n",
    "d={k:None for k in 'spam'}\n",
    "print(d)"
   ]
  },
  {
   "cell_type": "code",
   "execution_count": 76,
   "metadata": {},
   "outputs": [
    {
     "name": "stdout",
     "output_type": "stream",
     "text": [
      "{'a': 1, 'b': 2, 'c': 3}\n",
      "dict_keys(['a', 'b', 'c'])\n",
      "a\n"
     ]
    },
    {
     "ename": "TypeError",
     "evalue": "'dict_keys' object is not subscriptable",
     "output_type": "error",
     "traceback": [
      "\u001b[1;31m---------------------------------------------------------------------------\u001b[0m",
      "\u001b[1;31mTypeError\u001b[0m                                 Traceback (most recent call last)",
      "\u001b[1;32md:\\Draft\\Python\\Programming Python-5th\\part II\\Chapter8\\chapter8.ipynb Cell 40\u001b[0m in \u001b[0;36m<cell line: 7>\u001b[1;34m()\u001b[0m\n\u001b[0;32m      <a href='vscode-notebook-cell:/d%3A/Draft/Python/Programming%20Python-5th/part%20II/Chapter8/chapter8.ipynb#ch0000041?line=4'>5</a>\u001b[0m \u001b[39mprint\u001b[39m(k)\n\u001b[0;32m      <a href='vscode-notebook-cell:/d%3A/Draft/Python/Programming%20Python-5th/part%20II/Chapter8/chapter8.ipynb#ch0000041?line=5'>6</a>\u001b[0m \u001b[39mprint\u001b[39m(\u001b[39mlist\u001b[39m(k)[\u001b[39m0\u001b[39m])\n\u001b[1;32m----> <a href='vscode-notebook-cell:/d%3A/Draft/Python/Programming%20Python-5th/part%20II/Chapter8/chapter8.ipynb#ch0000041?line=6'>7</a>\u001b[0m \u001b[39mprint\u001b[39m(k[\u001b[39m0\u001b[39;49m])\n",
      "\u001b[1;31mTypeError\u001b[0m: 'dict_keys' object is not subscriptable"
     ]
    }
   ],
   "source": [
    "d=dict(a=1,b=2,c=3)\n",
    "print(d)\n",
    "\n",
    "k=d.keys()\n",
    "print(k)\n",
    "print(list(k)[0])\n",
    "print(k[0])"
   ]
  },
  {
   "cell_type": "code",
   "execution_count": 77,
   "metadata": {},
   "outputs": [
    {
     "name": "stdout",
     "output_type": "stream",
     "text": [
      "{'a': 1, 'b': 2, 'c': 3}\n",
      "dict_values([1, 2, 3])\n",
      "[1, 2, 3]\n",
      "1\n"
     ]
    },
    {
     "ename": "TypeError",
     "evalue": "'dict_values' object is not subscriptable",
     "output_type": "error",
     "traceback": [
      "\u001b[1;31m---------------------------------------------------------------------------\u001b[0m",
      "\u001b[1;31mTypeError\u001b[0m                                 Traceback (most recent call last)",
      "\u001b[1;32md:\\Draft\\Python\\Programming Python-5th\\part II\\Chapter8\\chapter8.ipynb Cell 41\u001b[0m in \u001b[0;36m<cell line: 8>\u001b[1;34m()\u001b[0m\n\u001b[0;32m      <a href='vscode-notebook-cell:/d%3A/Draft/Python/Programming%20Python-5th/part%20II/Chapter8/chapter8.ipynb#ch0000043?line=5'>6</a>\u001b[0m \u001b[39mprint\u001b[39m(\u001b[39mlist\u001b[39m(v))\n\u001b[0;32m      <a href='vscode-notebook-cell:/d%3A/Draft/Python/Programming%20Python-5th/part%20II/Chapter8/chapter8.ipynb#ch0000043?line=6'>7</a>\u001b[0m \u001b[39mprint\u001b[39m(\u001b[39mlist\u001b[39m(v)[\u001b[39m0\u001b[39m])\n\u001b[1;32m----> <a href='vscode-notebook-cell:/d%3A/Draft/Python/Programming%20Python-5th/part%20II/Chapter8/chapter8.ipynb#ch0000043?line=7'>8</a>\u001b[0m \u001b[39mprint\u001b[39m(v[\u001b[39m0\u001b[39;49m])\n",
      "\u001b[1;31mTypeError\u001b[0m: 'dict_values' object is not subscriptable"
     ]
    }
   ],
   "source": [
    "d=dict(a=1,b=2,c=3)\n",
    "print(d)\n",
    "\n",
    "v=d.values()\n",
    "print(v)\n",
    "print(list(v))\n",
    "print(list(v)[0])\n",
    "print(v[0])"
   ]
  },
  {
   "cell_type": "code",
   "execution_count": 78,
   "metadata": {},
   "outputs": [
    {
     "name": "stdout",
     "output_type": "stream",
     "text": [
      "{'a': 1, 'b': 2, 'c': 3}\n",
      "dict_items([('a', 1), ('b', 2), ('c', 3)])\n",
      "[('a', 1), ('b', 2), ('c', 3)]\n",
      "1\n"
     ]
    }
   ],
   "source": [
    "d=dict(a=1,b=2,c=3)\n",
    "print(d)\n",
    "\n",
    "i=d.items()\n",
    "print(i)\n",
    "print(list(i))\n",
    "print(list(i)[0][1])\n",
    "\n",
    "\n"
   ]
  },
  {
   "cell_type": "code",
   "execution_count": 81,
   "metadata": {},
   "outputs": [
    {
     "name": "stdout",
     "output_type": "stream",
     "text": [
      "{'a': 1, 'b': 2, 'c': 3}\n",
      "a\n",
      "b\n",
      "c\n",
      "*******\n",
      "a\n",
      "b\n",
      "c\n"
     ]
    }
   ],
   "source": [
    "d=dict(a=1,b=2,c=3)\n",
    "print(d)\n",
    "\n",
    "for k in d.keys():print(k)\n",
    "\n",
    "print('*******')\n",
    "for k in d: print(k)"
   ]
  },
  {
   "cell_type": "code",
   "execution_count": 83,
   "metadata": {},
   "outputs": [
    {
     "name": "stdout",
     "output_type": "stream",
     "text": [
      "{'a': 1, 'b': 2, 'c': 3}\n",
      "dict_keys(['a', 'b', 'c'])\n",
      "dict_values([1, 2, 3])\n",
      "{'a': 1, 'c': 3}\n",
      "dict_keys(['a', 'c'])\n",
      "dict_values([1, 3])\n"
     ]
    }
   ],
   "source": [
    "d=dict(a=1,b=2,c=3)\n",
    "print(d)\n",
    "\n",
    "k=d.keys()\n",
    "print(k)\n",
    "v=d.values()\n",
    "print(v)\n",
    "\n",
    "del d['b']\n",
    "print(d)\n",
    "print(k)\n",
    "print(v)"
   ]
  },
  {
   "cell_type": "code",
   "execution_count": 85,
   "metadata": {},
   "outputs": [
    {
     "name": "stdout",
     "output_type": "stream",
     "text": [
      "{'a': 1, 'b': 2, 'c': 3}\n",
      "{'x', 'c', 'b', 'a'}\n",
      "dict_keys(['a', 'b', 'c'])\n",
      "{'c', 'b', 'a'}\n"
     ]
    }
   ],
   "source": [
    "d=dict(a=1,b=2,c=3)\n",
    "print(d)\n",
    "\n",
    "k=d.keys()\n",
    "\n",
    "kk=k | {'x':4}\n",
    "\n",
    "print(kk)\n",
    "print(k)\n",
    "\n",
    "kkk=k & kk\n",
    "print(kkk)"
   ]
  },
  {
   "cell_type": "code",
   "execution_count": 86,
   "metadata": {},
   "outputs": [
    {
     "name": "stdout",
     "output_type": "stream",
     "text": [
      "{'a': 1, 'b': 2, 'c': 3}\n",
      "dict_values([1, 2, 3])\n"
     ]
    },
    {
     "ename": "TypeError",
     "evalue": "unsupported operand type(s) for |: 'dict_values' and 'dict'",
     "output_type": "error",
     "traceback": [
      "\u001b[1;31m---------------------------------------------------------------------------\u001b[0m",
      "\u001b[1;31mTypeError\u001b[0m                                 Traceback (most recent call last)",
      "\u001b[1;32md:\\Draft\\Python\\Programming Python-5th\\part II\\Chapter8\\chapter8.ipynb Cell 46\u001b[0m in \u001b[0;36m<cell line: 8>\u001b[1;34m()\u001b[0m\n\u001b[0;32m      <a href='vscode-notebook-cell:/d%3A/Draft/Python/Programming%20Python-5th/part%20II/Chapter8/chapter8.ipynb#ch0000047?line=3'>4</a>\u001b[0m v\u001b[39m=\u001b[39md\u001b[39m.\u001b[39mvalues()\n\u001b[0;32m      <a href='vscode-notebook-cell:/d%3A/Draft/Python/Programming%20Python-5th/part%20II/Chapter8/chapter8.ipynb#ch0000047?line=5'>6</a>\u001b[0m \u001b[39mprint\u001b[39m(v)\n\u001b[1;32m----> <a href='vscode-notebook-cell:/d%3A/Draft/Python/Programming%20Python-5th/part%20II/Chapter8/chapter8.ipynb#ch0000047?line=7'>8</a>\u001b[0m a\u001b[39m=\u001b[39mv \u001b[39m|\u001b[39;49m {\u001b[39m'\u001b[39;49m\u001b[39mx\u001b[39;49m\u001b[39m'\u001b[39;49m:\u001b[39m5\u001b[39;49m}\n",
      "\u001b[1;31mTypeError\u001b[0m: unsupported operand type(s) for |: 'dict_values' and 'dict'"
     ]
    }
   ],
   "source": [
    "d=dict(a=1,b=2,c=3)\n",
    "print(d)\n",
    "\n",
    "v=d.values()\n",
    "\n",
    "print(v)\n",
    "\n",
    "a=v | {'x':5}\n"
   ]
  },
  {
   "cell_type": "code",
   "execution_count": 87,
   "metadata": {},
   "outputs": [
    {
     "ename": "TypeError",
     "evalue": "unsupported operand type(s) for |: 'dict_values' and 'dict_values'",
     "output_type": "error",
     "traceback": [
      "\u001b[1;31m---------------------------------------------------------------------------\u001b[0m",
      "\u001b[1;31mTypeError\u001b[0m                                 Traceback (most recent call last)",
      "\u001b[1;32md:\\Draft\\Python\\Programming Python-5th\\part II\\Chapter8\\chapter8.ipynb Cell 47\u001b[0m in \u001b[0;36m<cell line: 1>\u001b[1;34m()\u001b[0m\n\u001b[1;32m----> <a href='vscode-notebook-cell:/d%3A/Draft/Python/Programming%20Python-5th/part%20II/Chapter8/chapter8.ipynb#ch0000048?line=0'>1</a>\u001b[0m a\u001b[39m=\u001b[39mv\u001b[39m|\u001b[39;49m {\u001b[39m'\u001b[39;49m\u001b[39mx\u001b[39;49m\u001b[39m'\u001b[39;49m:\u001b[39m5\u001b[39;49m}\u001b[39m.\u001b[39;49mvalues()\n",
      "\u001b[1;31mTypeError\u001b[0m: unsupported operand type(s) for |: 'dict_values' and 'dict_values'"
     ]
    }
   ],
   "source": [
    "a=v| {'x':5}.values()\n"
   ]
  },
  {
   "cell_type": "code",
   "execution_count": 88,
   "metadata": {},
   "outputs": [
    {
     "ename": "TypeError",
     "evalue": "unsupported operand type(s) for &: 'dict_values' and 'dict_values'",
     "output_type": "error",
     "traceback": [
      "\u001b[1;31m---------------------------------------------------------------------------\u001b[0m",
      "\u001b[1;31mTypeError\u001b[0m                                 Traceback (most recent call last)",
      "\u001b[1;32md:\\Draft\\Python\\Programming Python-5th\\part II\\Chapter8\\chapter8.ipynb Cell 48\u001b[0m in \u001b[0;36m<cell line: 1>\u001b[1;34m()\u001b[0m\n\u001b[1;32m----> <a href='vscode-notebook-cell:/d%3A/Draft/Python/Programming%20Python-5th/part%20II/Chapter8/chapter8.ipynb#ch0000049?line=0'>1</a>\u001b[0m a\u001b[39m=\u001b[39mv \u001b[39m&\u001b[39;49m {\u001b[39m'\u001b[39;49m\u001b[39mx\u001b[39;49m\u001b[39m'\u001b[39;49m:\u001b[39m5\u001b[39;49m}\u001b[39m.\u001b[39;49mvalues()\n",
      "\u001b[1;31mTypeError\u001b[0m: unsupported operand type(s) for &: 'dict_values' and 'dict_values'"
     ]
    }
   ],
   "source": [
    "a=v & {'x':5}.values()\n"
   ]
  },
  {
   "cell_type": "code",
   "execution_count": 90,
   "metadata": {},
   "outputs": [
    {
     "name": "stdout",
     "output_type": "stream",
     "text": [
      "{'a': 1, 'b': 2, 'c': 3}\n",
      "{'c', 'b', 'a'}\n",
      "{'b'}\n",
      "{'b'}\n"
     ]
    }
   ],
   "source": [
    "d=dict(a=1,b=2,c=3)\n",
    "print(d)\n",
    "\n",
    "k=d.keys()\n",
    "\n",
    "a=k & k\n",
    "print(a)\n",
    "\n",
    "b=k & {'b'}\n",
    "print(b)\n",
    "\n",
    "c=k & {'b':7}.keys()\n",
    "print(c)\n"
   ]
  },
  {
   "cell_type": "code",
   "execution_count": 94,
   "metadata": {},
   "outputs": [
    {
     "name": "stdout",
     "output_type": "stream",
     "text": [
      "{'a': 1, 'b': 2, 'c': 3}\n",
      "[('a', 1), ('b', 2), ('c', 3)]\n",
      "{('c', 3), ('a', 1), 'c', ('b', 2), 'a', 'b'}\n",
      "<class 'set'>\n",
      "*****\n",
      "{'x', ('b', 2), 'z', ('c', 3), ('a', 1)}\n"
     ]
    }
   ],
   "source": [
    "d=dict(a=1,b=2,c=3)\n",
    "print(d)\n",
    "\n",
    "i=d.items()\n",
    "print(list(i))\n",
    "\n",
    "a=d.items() | d.keys()\n",
    "print(a)\n",
    "print(type(a))\n",
    "\n",
    "\n",
    "print('*****')\n",
    "\n",
    "a=d.items() | {'x':5,'z':44}\n",
    "\n",
    "print(a)\n"
   ]
  },
  {
   "cell_type": "code",
   "execution_count": 141,
   "metadata": {},
   "outputs": [
    {
     "name": "stdout",
     "output_type": "stream",
     "text": [
      "{'a': 1, 'b': 2, 'c': 3}\n",
      "{('b', 2), ('c', 3), ('d', 4), ('a', 1), ('f', 5)}\n",
      "{'b': 2, 'c': 3, 'd': 4, 'a': 1, 'f': 5}\n",
      "*******\n",
      "{('b', 2), ('d', 9), ('d', 11), ('c', 3), ('a', 1)}\n",
      "{'b': 2, 'd': 11, 'c': 3, 'a': 1}\n"
     ]
    }
   ],
   "source": [
    "d=dict(a=1,b=2,c=3)\n",
    "print(d)\n",
    "\n",
    "a=d.items() | {('d',4),('f',5)}\n",
    "print(a)\n",
    "a=dict(a)\n",
    "print(a)\n",
    "print('*******')\n",
    "a=d.items() | {('d',9),('d',11)}\n",
    "print(a)\n",
    "print(dict(a))"
   ]
  },
  {
   "cell_type": "markdown",
   "metadata": {},
   "source": [
    "sorting"
   ]
  },
  {
   "cell_type": "code",
   "execution_count": 147,
   "metadata": {},
   "outputs": [
    {
     "name": "stdout",
     "output_type": "stream",
     "text": [
      "{'a': 4, 'd': 6, 'b': 1, 'c': 3}\n",
      "a 4\n",
      "d 6\n",
      "b 1\n",
      "c 3\n",
      "********* after sort **********\n",
      "a 4\n",
      "b 1\n",
      "c 3\n",
      "d 6\n"
     ]
    },
    {
     "ename": "AttributeError",
     "evalue": "'dict_keys' object has no attribute 'sort'",
     "output_type": "error",
     "traceback": [
      "\u001b[1;31m---------------------------------------------------------------------------\u001b[0m",
      "\u001b[1;31mAttributeError\u001b[0m                            Traceback (most recent call last)",
      "\u001b[1;32md:\\Draft\\Python\\Programming Python-5th\\part II\\Chapter8\\chapter8.ipynb Cell 53\u001b[0m in \u001b[0;36m<cell line: 13>\u001b[1;34m()\u001b[0m\n\u001b[0;32m     <a href='vscode-notebook-cell:/d%3A/Draft/Python/Programming%20Python-5th/part%20II/Chapter8/chapter8.ipynb#ch0000055?line=9'>10</a>\u001b[0m \u001b[39mfor\u001b[39;00m a \u001b[39min\u001b[39;00m k :\u001b[39mprint\u001b[39m(a,d[a])\n\u001b[0;32m     <a href='vscode-notebook-cell:/d%3A/Draft/Python/Programming%20Python-5th/part%20II/Chapter8/chapter8.ipynb#ch0000055?line=11'>12</a>\u001b[0m k\u001b[39m=\u001b[39md\u001b[39m.\u001b[39mkeys()\n\u001b[1;32m---> <a href='vscode-notebook-cell:/d%3A/Draft/Python/Programming%20Python-5th/part%20II/Chapter8/chapter8.ipynb#ch0000055?line=12'>13</a>\u001b[0m k\u001b[39m.\u001b[39;49msort()\n",
      "\u001b[1;31mAttributeError\u001b[0m: 'dict_keys' object has no attribute 'sort'"
     ]
    }
   ],
   "source": [
    "d={'a':4,'d':6,'b':1,'c':3}\n",
    "print(d)\n",
    "\n",
    "k=list(d.keys())\n",
    "\n",
    " \n",
    "for a in k: print(a ,d[a])\n",
    "k.sort()\n",
    "print('********* after sort **********')\n",
    "for a in k :print(a,d[a])\n",
    "\n",
    "k=d.keys()\n",
    "k.sort()"
   ]
  },
  {
   "cell_type": "code",
   "execution_count": 148,
   "metadata": {},
   "outputs": [
    {
     "name": "stdout",
     "output_type": "stream",
     "text": [
      "{'a': 4, 'd': 6, 'b': 1, 'c': 3}\n",
      "a 4\n",
      "b 1\n",
      "c 3\n",
      "d 6\n"
     ]
    }
   ],
   "source": [
    "d={'a':4,'d':6,'b':1,'c':3}\n",
    "print(d)\n",
    "\n",
    "k=d.keys()\n",
    "\n",
    "for a in sorted(k): print(a,d[a])"
   ]
  },
  {
   "cell_type": "code",
   "execution_count": 149,
   "metadata": {},
   "outputs": [
    {
     "name": "stdout",
     "output_type": "stream",
     "text": [
      "{'a': 4, 'd': 6, 'b': 1, 'c': 3}\n",
      "a 4\n",
      "b 1\n",
      "c 3\n",
      "d 6\n"
     ]
    }
   ],
   "source": [
    "d={'a':4,'d':6,'b':1,'c':3}\n",
    "print(d)\n",
    "\n",
    "for k in sorted(d):print(k,d[k])"
   ]
  }
 ],
 "metadata": {
  "kernelspec": {
   "display_name": "Python 3.10.0 64-bit",
   "language": "python",
   "name": "python3"
  },
  "language_info": {
   "codemirror_mode": {
    "name": "ipython",
    "version": 3
   },
   "file_extension": ".py",
   "mimetype": "text/x-python",
   "name": "python",
   "nbconvert_exporter": "python",
   "pygments_lexer": "ipython3",
   "version": "3.10.0"
  },
  "orig_nbformat": 4,
  "vscode": {
   "interpreter": {
    "hash": "1c6c043809b0aa06f295572e3555767cce6faf59773d5c69c5d0d1628626d6da"
   }
  }
 },
 "nbformat": 4,
 "nbformat_minor": 2
}
