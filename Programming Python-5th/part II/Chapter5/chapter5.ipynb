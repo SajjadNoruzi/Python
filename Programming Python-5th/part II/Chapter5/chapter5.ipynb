{
 "cells": [
  {
   "cell_type": "code",
   "execution_count": 26,
   "metadata": {},
   "outputs": [
    {
     "name": "stdout",
     "output_type": "stream",
     "text": [
      "-2\n",
      "10\n",
      "-11\n",
      "-0b1011\n"
     ]
    }
   ],
   "source": [
    "x=True\n",
    "print(~x)\n",
    "x=0b001010\n",
    "print(x)\n",
    "print(~x)\n",
    "print(bin( ~x))\n"
   ]
  },
  {
   "cell_type": "code",
   "execution_count": 27,
   "metadata": {},
   "outputs": [
    {
     "name": "stdout",
     "output_type": "stream",
     "text": [
      "0.8\n",
      "0.3333333333333333\n",
      "3.333333e-01 \n",
      "0.3333 \n",
      "0.33\n"
     ]
    }
   ],
   "source": [
    "a=3\n",
    "b=4\n",
    "\n",
    "c=b/(2.0+a)\n",
    "print(c)\n",
    "\n",
    "num=1/3\n",
    "print(num)\n",
    "print('%e '% num)\n",
    "print('%2.4f ' % num)\n",
    "print('{0:4.2f}'.format(num))"
   ]
  },
  {
   "cell_type": "code",
   "execution_count": 28,
   "metadata": {},
   "outputs": [
    {
     "name": "stdout",
     "output_type": "stream",
     "text": [
      "True\n",
      "True\n",
      "False\n",
      "in fact :  False\n",
      "False\n",
      "becuse : 3.3000000000000003\n",
      "True\n",
      "3 3\n",
      "True\n"
     ]
    }
   ],
   "source": [
    "x=2\n",
    "y=3\n",
    "z=4\n",
    "\n",
    "print(x<y<z)\n",
    "print(x<y and y<z)\n",
    "\n",
    "print(1==2 < 3)\n",
    "print('in fact : ',1==2 and 2<3)\n",
    "\n",
    "print(1.1+2.2 == 3.3)\n",
    "print('becuse :',1.1+2.2)\n",
    "print(int(1.1+2.2) == int(3.3))\n",
    "print(int(1.1+2.2),int(3.3))\n",
    "print(int(1.2+2.2) == int(3.3))\n"
   ]
  },
  {
   "cell_type": "code",
   "execution_count": 29,
   "metadata": {},
   "outputs": [
    {
     "name": "stdout",
     "output_type": "stream",
     "text": [
      "2.5\n",
      "2.5\n",
      "**********************\n",
      "2\n",
      "2.0\n"
     ]
    }
   ],
   "source": [
    "print( 10/4)\n",
    "print( 10/4.0)\n",
    "\n",
    "print('*'*22)\n",
    "print( 10//4)\n",
    "print( 10//4.0)"
   ]
  },
  {
   "cell_type": "code",
   "execution_count": 30,
   "metadata": {},
   "outputs": [
    {
     "name": "stdout",
     "output_type": "stream",
     "text": [
      "2\n",
      "-3\n",
      "2\n",
      "-2\n",
      "-2\n",
      "2\n"
     ]
    }
   ],
   "source": [
    "import math \n",
    "\n",
    "print(math.floor(2.5))\n",
    "print(math.floor(-2.5))\n",
    "\n",
    "print(math.trunc(2.5))\n",
    "print(math.trunc(-2.5))  #   Truncate fractional part ( toward zero)\n",
    "print(math.trunc(-2.7))\n",
    "print(int(2.5))"
   ]
  },
  {
   "cell_type": "code",
   "execution_count": 31,
   "metadata": {},
   "outputs": [
    {
     "name": "stdout",
     "output_type": "stream",
     "text": [
      "2.5 \t -2.5\n",
      "2.5 \t -2.5\n",
      "2 \t -3\n",
      "2.0 \t -3.0\n",
      "********\n",
      "2.5   -2.5   2.5   -2.5  \n",
      "2   -3   2.0   -3.0  \n",
      "3.0   3.0   3.0   3  \n"
     ]
    }
   ],
   "source": [
    "print(5/2 ,'\\t',5/-2)\n",
    "print(5/2.0 ,'\\t',5/-2.0)\n",
    "print(5//2 ,'\\t',5//-2)\n",
    "print(5//2.0 ,'\\t',5//-2.0)\n",
    "\n",
    "print('*'*8)\n",
    "\n",
    "print(5/2,' ',5/-2,' ',5/2.0,' ',5/-2.0,' ')\n",
    "print(5//2,' ',5//-2,' ',5//2.0,' ',5//-2.0,' ')\n",
    "\n",
    "print(9/3,' ',9.0/3,' ',9/3.0,' ',9//3,' ')\n"
   ]
  },
  {
   "cell_type": "code",
   "execution_count": 32,
   "metadata": {},
   "outputs": [
    {
     "name": "stdout",
     "output_type": "stream",
     "text": [
      "1606938044258990275541962092341162602522202993782792835301376\n",
      "184497489401772529385612327842172717039008268166646221893471402059821287234759868672175917131173661172843563441437060059660158104845032398976807920666283692562120150139178769612799511748636278282415866878160176201872937423527853931074825229289817028865471580173776186278979555862451026349435370470386779578868176354099221238174997807148290368091204552361327921521465467763204555046027307456204118567337113234081310864304329682188410055227959601689731512418582605896572426052789584762208778001498785021309361810928365592763602942101060634062780064931573442859418747069821583778704245321901579684737223187694080815326248608739251692560476233210156302437210837221376\n",
      "complex number:\n",
      "(1+3j)\n",
      "(1+6j)\n",
      "(2+6j)\n"
     ]
    }
   ],
   "source": [
    "print(2**200)\n",
    "print(2**2200)\n",
    "\n",
    "print('complex number:')\n",
    "print(1+3j)\n",
    "print(1+3j*2)\n",
    "print((1+3j)*2)\n"
   ]
  },
  {
   "cell_type": "code",
   "execution_count": 33,
   "metadata": {},
   "outputs": [
    {
     "name": "stdout",
     "output_type": "stream",
     "text": [
      "octal\n",
      "1 16 255\n",
      "hex : \n",
      "1 16 255\n",
      "binary :\n",
      "1 16 255\n",
      "0x2f : 47 47\n",
      "15 15 15\n",
      "0o100 0x40 0b1000000\n",
      "convert:\n",
      "64 64 64 64\n",
      "64 64 64 64\n",
      "0o40\n"
     ]
    },
    {
     "ename": "ValueError",
     "evalue": "invalid literal for int() with base 16: '0o40'",
     "output_type": "error",
     "traceback": [
      "\u001b[1;31m---------------------------------------------------------------------------\u001b[0m",
      "\u001b[1;31mValueError\u001b[0m                                Traceback (most recent call last)",
      "\u001b[1;32md:\\Draft\\Python\\Programming Python-5th\\part II\\Chapter5\\chapter5.ipynb Cell 8'\u001b[0m in \u001b[0;36m<cell line: 17>\u001b[1;34m()\u001b[0m\n\u001b[0;32m     <a href='vscode-notebook-cell:/d%3A/Draft/Python/Programming%20Python-5th/part%20II/Chapter5/chapter5.ipynb#ch0000007?line=14'>15</a>\u001b[0m \u001b[39mprint\u001b[39m(\u001b[39mint\u001b[39m(\u001b[39m'\u001b[39m\u001b[39m64\u001b[39m\u001b[39m'\u001b[39m),\u001b[39mint\u001b[39m(\u001b[39m'\u001b[39m\u001b[39m100\u001b[39m\u001b[39m'\u001b[39m,\u001b[39m8\u001b[39m),\u001b[39mint\u001b[39m(\u001b[39m'\u001b[39m\u001b[39m40\u001b[39m\u001b[39m'\u001b[39m,\u001b[39m16\u001b[39m),\u001b[39mint\u001b[39m(\u001b[39m'\u001b[39m\u001b[39m1000000\u001b[39m\u001b[39m'\u001b[39m,\u001b[39m2\u001b[39m))\n\u001b[0;32m     <a href='vscode-notebook-cell:/d%3A/Draft/Python/Programming%20Python-5th/part%20II/Chapter5/chapter5.ipynb#ch0000007?line=15'>16</a>\u001b[0m \u001b[39mprint\u001b[39m(\u001b[39moct\u001b[39m(\u001b[39m32\u001b[39m))\n\u001b[1;32m---> <a href='vscode-notebook-cell:/d%3A/Draft/Python/Programming%20Python-5th/part%20II/Chapter5/chapter5.ipynb#ch0000007?line=16'>17</a>\u001b[0m \u001b[39mprint\u001b[39m(\u001b[39mint\u001b[39;49m(\u001b[39m'\u001b[39;49m\u001b[39m0o40\u001b[39;49m\u001b[39m'\u001b[39;49m,\u001b[39m16\u001b[39;49m))\n",
      "\u001b[1;31mValueError\u001b[0m: invalid literal for int() with base 16: '0o40'"
     ]
    }
   ],
   "source": [
    "print('octal')\n",
    "print(0o1,0o20,0o377)\n",
    "print('hex : ')\n",
    "print(0x01,0x10,0xFF)\n",
    "print('binary :')\n",
    "print(0b1,0b10000,0b11111111)\n",
    "\n",
    "print('0x2f :',0x2f,(2*(16**1)+15*(16**0) ))\n",
    "print(0xF,0b1111,(1*2**3)+(1*2**2)+(1*2**1)+(1*2**0))\n",
    "\n",
    "print(oct(64),hex(64),bin(64))\n",
    "\n",
    "print('convert:')\n",
    "print(64,0o100,0x40,0b1000000)\n",
    "print(int('64'),int('100',8),int('40',16),int('1000000',2))\n",
    "print(oct(32))\n",
    "print(int('0o40',16))"
   ]
  },
  {
   "cell_type": "code",
   "execution_count": null,
   "metadata": {},
   "outputs": [
    {
     "name": "stdout",
     "output_type": "stream",
     "text": [
      "64 64 64 64\n"
     ]
    },
    {
     "data": {
      "text/plain": [
       "' 100 40 ff FF '"
      ]
     },
     "execution_count": 22,
     "metadata": {},
     "output_type": "execute_result"
    }
   ],
   "source": [
    "print(eval('64'),eval('0o100'),eval('0x40'),eval('0b1000000'))\n",
    "'{0:o}, {1:x}, {2:b} '.format(64,64,64)\n",
    "' %o %x %x %X '%(64,64,255,255)"
   ]
  },
  {
   "cell_type": "code",
   "execution_count": null,
   "metadata": {},
   "outputs": [
    {
     "name": "stdout",
     "output_type": "stream",
     "text": [
      "4\n",
      "3\n",
      "1\n"
     ]
    }
   ],
   "source": [
    "x=1\n",
    "print(x<<2)\n",
    "x|=2\n",
    "print(x)\n",
    "print(x&1)"
   ]
  },
  {
   "cell_type": "code",
   "execution_count": null,
   "metadata": {},
   "outputs": [
    {
     "name": "stdout",
     "output_type": "stream",
     "text": [
      "0b100\n",
      "0b11\n",
      "0b1\n"
     ]
    }
   ],
   "source": [
    "x=0b0001\n",
    "print(bin(x<<2))\n",
    "\n",
    "print(bin(x|0b0010))\n",
    "\n",
    "print(bin(x&0b1))"
   ]
  },
  {
   "cell_type": "code",
   "execution_count": null,
   "metadata": {},
   "outputs": [
    {
     "name": "stdout",
     "output_type": "stream",
     "text": [
      "0b11111111\n",
      "0b10101010\n",
      "a xor x :\n",
      " 0b1010101\n"
     ]
    }
   ],
   "source": [
    "x=0xFF\n",
    "print(bin(x))\n",
    "a=0xAA\n",
    "print(bin(a))\n",
    "print('a xor x :\\n',bin(x^a))"
   ]
  },
  {
   "cell_type": "code",
   "execution_count": null,
   "metadata": {},
   "outputs": [
    {
     "name": "stdout",
     "output_type": "stream",
     "text": [
      "0b1100011 7 7\n"
     ]
    }
   ],
   "source": [
    "n=99\n",
    "print(bin(n),n.bit_length(),len(bin(n))-2) # -2 becaue 0b skiping"
   ]
  },
  {
   "cell_type": "code",
   "execution_count": null,
   "metadata": {},
   "outputs": [
    {
     "name": "stdout",
     "output_type": "stream",
     "text": [
      "0.03489949670250097\n",
      "12.0 1.4142135623730951\n",
      "16.0 16 16 16.0 16.0\n",
      "25.3\n",
      "10\n",
      "4 1\n"
     ]
    }
   ],
   "source": [
    "import math \n",
    "\n",
    "print(math.sin(2*math.pi/180))\n",
    "\n",
    "print(math.sqrt(144),math.sqrt(2))\n",
    "print(math.pow(2,4),pow(2,4),2**4,2.0**4,2**4.0)\n",
    "print(abs(-25.30))\n",
    "print(sum((1,2,4,3)))\n",
    "print(max(1,2,3,4),min(1,3,4,2))"
   ]
  },
  {
   "cell_type": "code",
   "execution_count": null,
   "metadata": {},
   "outputs": [
    {
     "name": "stdout",
     "output_type": "stream",
     "text": [
      "2 -3\n",
      "2 -2\n",
      "2 -2\n",
      "round 3 -3 2.57 -2.57\n",
      "2 2 1\n",
      "1.6 1.5 1.4\n"
     ]
    }
   ],
   "source": [
    "print(math.floor(2.567),math.floor(-2.567))\n",
    "print(math.trunc(2.567),math.trunc(-2.567))\n",
    "print(int(2.567),int(-2.567))\n",
    "print('round',round(2.567),round(-2.567),round(2.567,2),round(-2.567,2))\n",
    "print(round(1.6),round(1.5),round(1.4))\n",
    "print(round(1.6,1),round(1.5,1),round(1.4,1))"
   ]
  },
  {
   "cell_type": "code",
   "execution_count": null,
   "metadata": {},
   "outputs": [
    {
     "name": "stdout",
     "output_type": "stream",
     "text": [
      "2.6 \n",
      "2.57\n",
      "22.700000\n",
      "0.3333333333333333 0.33 0.33\n"
     ]
    }
   ],
   "source": [
    "print('%.1f '%2.567)\n",
    "print('{:.2f}'.format(2.567))\n",
    "print('{:f}'.format(22.7))\n",
    "\n",
    "\n",
    "print(1/3,round(1/3,2),'%.2f'% (1/3))"
   ]
  },
  {
   "cell_type": "code",
   "execution_count": null,
   "metadata": {},
   "outputs": [
    {
     "name": "stdout",
     "output_type": "stream",
     "text": [
      "12.0\n",
      "12.0\n",
      "12.0\n",
      "32\n",
      "32\n",
      "32.0\n"
     ]
    }
   ],
   "source": [
    "print(math.sqrt(144))\n",
    "print(144**.5)\n",
    "print(pow(144,.5))\n",
    "\n",
    "print(2**5)\n",
    "print(pow(2,5))\n",
    "print(math.pow(2,5))"
   ]
  },
  {
   "cell_type": "code",
   "execution_count": null,
   "metadata": {},
   "outputs": [
    {
     "name": "stdout",
     "output_type": "stream",
     "text": [
      "0.21623028232413533\n",
      "6\n",
      "1\n",
      "black\n",
      "['blue', 'blue', 'yellow']\n",
      "[9, 4]\n",
      "car befor suffle:\n",
      " ['bmw', 'toyota', 'mazda', 'jak']\n",
      "None\n",
      "['mazda', 'toyota', 'bmw', 'jak']\n",
      "['mazda', 'jak', 'bmw', 'toyota']\n"
     ]
    }
   ],
   "source": [
    "import random\n",
    "\n",
    "print(random.random())\n",
    "\n",
    "print(random.randint(1,10)) # rasndom in 1,2,3,4,5,6,7,8,9,10 <<\n",
    "print(random.randrange(1,10)) # choise in 1,2,3,4,5,6,7,8,9 <<\n",
    "color=['red','yellow','blue','white','black']\n",
    "car=['bmw','toyota','mazda','jak']\n",
    "print(random.choice(color))\n",
    "print(random.choices(color,k=3))\n",
    "\n",
    "print(random.choices([1,4,2,7,4,2,8,9], [0.2,0.4,0.6,0.3, 0.5,0.4,0.7,0.3], k=2))\n",
    "\n",
    "print('car befor suffle:\\n',car)\n",
    "print(random.shuffle(car))\n",
    "print(car)\n",
    "random.shuffle(car)\n",
    "print(car)"
   ]
  },
  {
   "cell_type": "code",
   "execution_count": null,
   "metadata": {},
   "outputs": [
    {
     "name": "stdout",
     "output_type": "stream",
     "text": [
      "5.551115123125783e-17\n",
      "0.2\n",
      "-0.19999999999999998\n",
      "0.0\n",
      "2.775557561565156540423631668E-17\n",
      "0.000\n",
      "0.1428571428571428571428571429\n"
     ]
    }
   ],
   "source": [
    "from decimal import Decimal\n",
    "\n",
    "print(0.1 + 0.1 + 0.1 - 0.3)\n",
    "print(.1+.1)\n",
    "print(.1-.3)\n",
    "\n",
    "b= Decimal('0.1') + Decimal('0.1') + Decimal('0.1') - Decimal('0.3')\n",
    "print(b)\n",
    "a=Decimal(0.1)+Decimal(0.1)+Decimal(0.1)-Decimal(0.3)\n",
    "print(a)\n",
    "\n",
    "b= Decimal('0.1') + Decimal('0.100') + Decimal('0.1') - Decimal('0.3')\n",
    "print(b)\n",
    "\n"
   ]
  },
  {
   "cell_type": "code",
   "execution_count": null,
   "metadata": {},
   "outputs": [
    {
     "name": "stdout",
     "output_type": "stream",
     "text": [
      "0.1429\n",
      "0.1429\n",
      ".1+.1+.1-.3 :\n",
      "1.110E-17\n"
     ]
    }
   ],
   "source": [
    "import decimal\n",
    "\n",
    "a=decimal.Decimal(1)/decimal.Decimal(7)\n",
    "print(a)\n",
    "decimal.getcontext().prec=4\n",
    "a=decimal.Decimal(1)/decimal.Decimal(7)\n",
    "print(a)\n",
    "print('.1+.1+.1-.3 :')\n",
    "a=Decimal(0.1)+Decimal(0.1)+Decimal(0.1)-Decimal(0.3)\n",
    "print(a)"
   ]
  },
  {
   "cell_type": "code",
   "execution_count": null,
   "metadata": {},
   "outputs": [
    {
     "name": "stdout",
     "output_type": "stream",
     "text": [
      "2000.333\n",
      "2000.3\n"
     ]
    }
   ],
   "source": [
    "import decimal\n",
    "\n",
    "n=1999\n",
    "\n",
    "print(n+1.333)\n",
    "\n",
    "decimal.getcontext().prec=2\n",
    "pay=decimal.Decimal(str(n+1.33))\n",
    "print(pay)"
   ]
  },
  {
   "cell_type": "code",
   "execution_count": 36,
   "metadata": {},
   "outputs": [
    {
     "name": "stdout",
     "output_type": "stream",
     "text": [
      "0.14\n"
     ]
    }
   ],
   "source": [
    "import decimal \n",
    "\n",
    "rt=decimal.Decimal('1.00')/decimal.Decimal('7.00')\n",
    "print(rt)"
   ]
  },
  {
   "cell_type": "markdown",
   "metadata": {},
   "source": [
    "Fraction"
   ]
  },
  {
   "cell_type": "code",
   "execution_count": 7,
   "metadata": {},
   "outputs": [
    {
     "name": "stdout",
     "output_type": "stream",
     "text": [
      "1/3 2/3\n",
      "1\n",
      "-1/3\n",
      "2/9\n",
      "1/4 5/4 3/2\n",
      "***********\n",
      "127/100\n",
      "['127', '100']\n"
     ]
    }
   ],
   "source": [
    "from fractions import Fraction\n",
    "\n",
    "a=Fraction(1,3)\n",
    "b=Fraction(4,6)\n",
    "\n",
    "print(a,b)\n",
    "print(a+b)\n",
    "print(a-b)\n",
    "print(a*b)\n",
    "\n",
    "a=Fraction('0.25')\n",
    "b=Fraction('1.25')\n",
    "print(a,b,a+b)\n",
    "\n",
    "print('***********')\n",
    "print(Fraction('1.27'))\n",
    "print(str(Fraction('1.27')).split('/'))\n"
   ]
  },
  {
   "cell_type": "code",
   "execution_count": 12,
   "metadata": {},
   "outputs": [
    {
     "name": "stdout",
     "output_type": "stream",
     "text": [
      "(5, 2) <class 'tuple'>\n",
      "(3602879701896397, 2251799813685248)\n",
      "1.6363636363636365\n"
     ]
    }
   ],
   "source": [
    "a=(2.5).as_integer_ratio()\n",
    "print(a,type(a))\n",
    "\n",
    "print((1.6).as_integer_ratio())\n",
    "print(36/22)"
   ]
  },
  {
   "cell_type": "code",
   "execution_count": 17,
   "metadata": {},
   "outputs": [
    {
     "name": "stdout",
     "output_type": "stream",
     "text": [
      "5/2\n",
      "1/4\n"
     ]
    }
   ],
   "source": [
    "#Convert\n",
    "fra=Fraction(*(2.5).as_integer_ratio())\n",
    "print(fra)\n",
    "float(fra)\n",
    "a=Fraction.from_float(.25)\n",
    "print( a)"
   ]
  },
  {
   "cell_type": "code",
   "execution_count": 23,
   "metadata": {},
   "outputs": [
    {
     "name": "stdout",
     "output_type": "stream",
     "text": [
      "6004799503160661/18014398509481984\n",
      "1/3\n",
      "7/3\n",
      "2.3333333333333335\n"
     ]
    }
   ],
   "source": [
    "print(Fraction(1/3))\n",
    "x=Fraction('1/3')\n",
    "print(x)\n",
    "print(x+2)\n",
    "print(x+2.0)"
   ]
  },
  {
   "cell_type": "code",
   "execution_count": 28,
   "metadata": {},
   "outputs": [
    {
     "name": "stdout",
     "output_type": "stream",
     "text": [
      "0.3333333333333333\n",
      "0.3333333333333333\n",
      "1/3\n",
      "7/3\n",
      "0.6666666666666666\n",
      "2/3\n"
     ]
    }
   ],
   "source": [
    "print(1./3)\n",
    "print(1/3)\n",
    "x=Fraction(1,3)\n",
    "print(x)\n",
    "print(x+2)\n",
    "print(x+1./3)\n",
    "print(x+Fraction(1,3))"
   ]
  },
  {
   "cell_type": "code",
   "execution_count": 36,
   "metadata": {},
   "outputs": [
    {
     "name": "stdout",
     "output_type": "stream",
     "text": [
      "1/3\n",
      "6004799503160661/4503599627370496\n",
      "1.3333333333333333\n",
      "1.3333333333333333\n"
     ]
    },
    {
     "data": {
      "text/plain": [
       "1.6666666666666665"
      ]
     },
     "execution_count": 36,
     "metadata": {},
     "output_type": "execute_result"
    }
   ],
   "source": [
    "print(Fraction(1,3))\n",
    "x=Fraction(*(4./3).as_integer_ratio())\n",
    "print(x)\n",
    "print(eval(str(x)))\n",
    "print(4/3)"
   ]
  },
  {
   "cell_type": "code",
   "execution_count": 5,
   "metadata": {},
   "outputs": [
    {
     "name": "stdout",
     "output_type": "stream",
     "text": [
      "1.6666666666666665\n",
      "************\n",
      "22517998136852479/13510798882111488 <class 'fractions.Fraction'>\n",
      "5/3\n",
      "************\n",
      "4/3\n",
      "3/8 3/8\n"
     ]
    }
   ],
   "source": [
    "from fractions import Fraction\n",
    "a=1/3\n",
    "b=4/3\n",
    "print(a+b)\n",
    "print('************')\n",
    "a=Fraction(1,3)\n",
    "b=Fraction(*(4./3).as_integer_ratio())\n",
    "d=a+b\n",
    "print(d,type(d))\n",
    "print(d.limit_denominator(10))\n",
    "\n",
    "\n",
    "print('************')\n",
    "b=Fraction(*(4./3).as_integer_ratio()).limit_denominator(10)\n",
    "print(b)\n",
    "\n",
    "a=Fraction(12,32)\n",
    "print(a,a.limit_denominator(100))\n"
   ]
  },
  {
   "cell_type": "markdown",
   "metadata": {},
   "source": [
    "set"
   ]
  },
  {
   "cell_type": "code",
   "execution_count": 17,
   "metadata": {},
   "outputs": [
    {
     "name": "stdout",
     "output_type": "stream",
     "text": [
      "{'t', 'i'}\n",
      "{'t', 'i', 'a'}\n",
      "set()\n",
      "{'a'}\n",
      "False True\n"
     ]
    }
   ],
   "source": [
    "a=set('ta')\n",
    "b=set('tai')\n",
    "\n",
    "print(a&b)\n",
    "print(a|b)\n",
    "#print(a+b)\n",
    "print(a-b)\n",
    "print(a^b)\n",
    "print(a>b,a<b)"
   ]
  },
  {
   "cell_type": "code",
   "execution_count": 34,
   "metadata": {},
   "outputs": [
    {
     "name": "stdout",
     "output_type": "stream",
     "text": [
      "{'t', 'p', 'y'}\n",
      "{'t', 'p', 'y'}\n",
      "{'t', 'p', 'unicron', 'y'}\n",
      "{'t', 'u', 'e', 'y', 'p', 'b', 'l', 'unicron'}\n",
      "{'lord', 't', 'u', 'e', 'y', 'a', 'p', 'b', 'l', 'unicron'}\n",
      "{'lord', 't', 'u', 'e', 'moonlight', 'z', 'y', 'a', 'p', 'b', 'l', 'unicron'}\n",
      "None\n",
      "{'t', 'u', 'e', 'moonlight', 'z', 'y', 'a', 'p', 'b', 'l', 'unicron'}\n"
     ]
    },
    {
     "ename": "KeyError",
     "evalue": "'blue'",
     "output_type": "error",
     "traceback": [
      "\u001b[1;31m---------------------------------------------------------------------------\u001b[0m",
      "\u001b[1;31mKeyError\u001b[0m                                  Traceback (most recent call last)",
      "\u001b[1;32md:\\Draft\\Python\\Programming Python-5th\\part II\\Chapter5\\chapter5.ipynb Cell 33'\u001b[0m in \u001b[0;36m<cell line: 17>\u001b[1;34m()\u001b[0m\n\u001b[0;32m     <a href='vscode-notebook-cell:/d%3A/Draft/Python/Programming%20Python-5th/part%20II/Chapter5/chapter5.ipynb#ch0000034?line=14'>15</a>\u001b[0m \u001b[39mprint\u001b[39m(z\u001b[39m.\u001b[39mremove(\u001b[39m'\u001b[39m\u001b[39mlord\u001b[39m\u001b[39m'\u001b[39m))\n\u001b[0;32m     <a href='vscode-notebook-cell:/d%3A/Draft/Python/Programming%20Python-5th/part%20II/Chapter5/chapter5.ipynb#ch0000034?line=15'>16</a>\u001b[0m \u001b[39mprint\u001b[39m(z)\n\u001b[1;32m---> <a href='vscode-notebook-cell:/d%3A/Draft/Python/Programming%20Python-5th/part%20II/Chapter5/chapter5.ipynb#ch0000034?line=16'>17</a>\u001b[0m z\u001b[39m.\u001b[39;49mremove(\u001b[39m'\u001b[39;49m\u001b[39mblue\u001b[39;49m\u001b[39m'\u001b[39;49m)\n\u001b[0;32m     <a href='vscode-notebook-cell:/d%3A/Draft/Python/Programming%20Python-5th/part%20II/Chapter5/chapter5.ipynb#ch0000034?line=17'>18</a>\u001b[0m \u001b[39mprint\u001b[39m(z)\n",
      "\u001b[1;31mKeyError\u001b[0m: 'blue'"
     ]
    }
   ],
   "source": [
    "x=set('python')\n",
    "y=set('party')\n",
    "\n",
    "print(x&y)\n",
    "z=x.intersection(y)\n",
    "print(z)\n",
    "z.add('unicron')\n",
    "print(z)\n",
    "z.update('blue')\n",
    "print(z)\n",
    "z.update(['a','p','lord'])\n",
    "print(z)\n",
    "z.update(set(['moonlight','z']))\n",
    "print(z)\n",
    "print(z.remove('lord'))\n",
    "print(z)\n",
    "z.remove('blue')\n",
    "print(z)"
   ]
  },
  {
   "cell_type": "code",
   "execution_count": 50,
   "metadata": {},
   "outputs": [
    {
     "name": "stdout",
     "output_type": "stream",
     "text": [
      "['m', 'i', 'g', 'h', 't', 'o', 'n', 'l']\n",
      "{1, 2, 3, 4}\n",
      "{1, 2, 3, 4, 5}\n",
      "True\n",
      "False {1, 2, 3} [2, 3, 4, 5, 6, 7, 8, 9]\n",
      "{1, 2} {1, 2, 3} (1, 2, 5, 6)\n",
      "<class 'dict'>\n"
     ]
    }
   ],
   "source": [
    "print([x for x in set('moonlight')])\n",
    "S=set([1,2,3])\n",
    "print(S|set([3,4]))\n",
    "print(S.union([3,4,5]))\n",
    "#print(S|[3,4,5,6])\n",
    "print(S.issubset(range(10)))\n",
    "print(S.issubset(range(2,10)),S,list(range(2,10)))\n",
    "print(S.intersection((1,2,5,6)),S,(1,2,5,6))\n",
    "\n",
    "print(type({}))"
   ]
  },
  {
   "cell_type": "code",
   "execution_count": 60,
   "metadata": {},
   "outputs": [
    {
     "name": "stdout",
     "output_type": "stream",
     "text": [
      "{(1, 23, 5), (5, 4, 6, 7)}\n",
      "{1, 2, 5}\n",
      "{1, 2, (1, 23, 5), 5, (5, 4, 6, 7)}\n",
      "********\n",
      "{'mmmm', 'hhhh', 'ssss', 'aaaa', 'pppp'}\n",
      "{'xxxx', 'mmmm', 'hhhh', 'ssss', 'aaaa', 'pppp'}\n",
      "{'mmmm'}\n"
     ]
    }
   ],
   "source": [
    "a=set([(1,23,5)])\n",
    "a.add((5,4,6,7))\n",
    "b={5,1,2}\n",
    "\n",
    "\n",
    "print(a)\n",
    "print(b)\n",
    "print(b|a)\n",
    "\n",
    "print('*'*8)\n",
    "S={c*4 for c in 'spamhm'}\n",
    "print(S)\n",
    "print(S|{'mmmm','xxxx'})\n",
    "print(S& {'mmmm','xxxx'})"
   ]
  },
  {
   "cell_type": "code",
   "execution_count": 66,
   "metadata": {},
   "outputs": [
    {
     "name": "stdout",
     "output_type": "stream",
     "text": [
      "[3, 6, 1, 2, 6, 7, 3, 3]\n",
      "{1, 2, 3, 6, 7}\n",
      "[1, 2, 3, 6, 7]\n",
      "{'c', 'w', 'b', 'a'}\n",
      "['c', 'w', 'b', 'a']\n",
      "********\n",
      "{'s', 'a', 'j'}\n",
      "{'__getnewargs__'}\n",
      "{'copy', '__alloc__', 'append', '__setitem__', 'pop', '__imul__', '__iadd__', 'extend', '__delitem__', 'reverse', 'clear', 'remove', 'insert'}\n"
     ]
    }
   ],
   "source": [
    "L=[3,6,1,2,6,7,3,3]\n",
    "print(L)\n",
    "St=set(L)\n",
    "print(St)\n",
    "print(list(St))\n",
    "L=['b','a','w','c','b','a']\n",
    "st=set(L)\n",
    "print(st)\n",
    "print(list(st))\n",
    "\n",
    "print('*'*8)\n",
    "\n",
    "print(set('aksdjfkj')-set('kdfhehce'))\n",
    "\n",
    "print(set(dir(bytes))-set(dir(bytearray)))\n",
    "print(set(dir(bytearray))-set(dir(bytes)))"
   ]
  },
  {
   "cell_type": "code",
   "execution_count": 71,
   "metadata": {},
   "outputs": [
    {
     "name": "stdout",
     "output_type": "stream",
     "text": [
      "True\n",
      "False\n",
      "False\n",
      "False True True\n"
     ]
    }
   ],
   "source": [
    "L1,L2=[1,2,4],[1,2,4]\n",
    "print(L1==L2)\n",
    "\n",
    "L1,L2=[1,4,2],[1,2,4]\n",
    "print(L1==L2)\n",
    "print(L1 is L2)\n",
    "\n",
    "print('spam'=='sapm',set('spam')==set('sapm'),sorted('spam')==sorted('sapm'))"
   ]
  },
  {
   "cell_type": "markdown",
   "metadata": {},
   "source": [
    "bool"
   ]
  },
  {
   "cell_type": "code",
   "execution_count": 75,
   "metadata": {},
   "outputs": [
    {
     "name": "stdout",
     "output_type": "stream",
     "text": [
      "True\n",
      "True\n",
      "['__abs__', '__add__', '__and__', '__bool__', '__ceil__', '__class__', '__delattr__', '__dir__', '__divmod__', '__doc__', '__eq__', '__float__', '__floor__', '__floordiv__', '__format__', '__ge__', '__getattribute__', '__getnewargs__', '__gt__', '__hash__', '__index__', '__init__', '__init_subclass__', '__int__', '__invert__', '__le__', '__lshift__', '__lt__', '__mod__', '__mul__', '__ne__', '__neg__', '__new__', '__or__', '__pos__', '__pow__', '__radd__', '__rand__', '__rdivmod__', '__reduce__', '__reduce_ex__', '__repr__', '__rfloordiv__', '__rlshift__', '__rmod__', '__rmul__', '__ror__', '__round__', '__rpow__', '__rrshift__', '__rshift__', '__rsub__', '__rtruediv__', '__rxor__', '__setattr__', '__sizeof__', '__str__', '__sub__', '__subclasshook__', '__truediv__', '__trunc__', '__xor__', 'as_integer_ratio', 'bit_count', 'bit_length', 'conjugate', 'denominator', 'from_bytes', 'imag', 'numerator', 'real', 'to_bytes']\n",
      "********\n",
      "True\n",
      "False\n",
      "6\n"
     ]
    },
    {
     "name": "stderr",
     "output_type": "stream",
     "text": [
      "<>:7: SyntaxWarning: \"is\" with a literal. Did you mean \"==\"?\n",
      "<>:7: SyntaxWarning: \"is\" with a literal. Did you mean \"==\"?\n",
      "C:\\Users\\Thunder\\AppData\\Local\\Temp\\ipykernel_10244\\1048711293.py:7: SyntaxWarning: \"is\" with a literal. Did you mean \"==\"?\n",
      "  print(True is 1 )\n"
     ]
    }
   ],
   "source": [
    "print(isinstance(True,int))\n",
    "print(isinstance(False,int))\n",
    "print(dir(bool))\n",
    "\n",
    "print('*'*8)\n",
    "print(True ==1)\n",
    "print(True is 1 )\n",
    "print(True+5)"
   ]
  }
 ],
 "metadata": {
  "kernelspec": {
   "display_name": "Python 3.10.0 64-bit",
   "language": "python",
   "name": "python3"
  },
  "language_info": {
   "codemirror_mode": {
    "name": "ipython",
    "version": 3
   },
   "file_extension": ".py",
   "mimetype": "text/x-python",
   "name": "python",
   "nbconvert_exporter": "python",
   "pygments_lexer": "ipython3",
   "version": "3.10.0"
  },
  "orig_nbformat": 4,
  "vscode": {
   "interpreter": {
    "hash": "1c6c043809b0aa06f295572e3555767cce6faf59773d5c69c5d0d1628626d6da"
   }
  }
 },
 "nbformat": 4,
 "nbformat_minor": 2
}
