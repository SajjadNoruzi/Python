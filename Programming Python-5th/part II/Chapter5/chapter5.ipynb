{
 "cells": [
  {
   "cell_type": "code",
   "execution_count": 26,
   "metadata": {},
   "outputs": [
    {
     "name": "stdout",
     "output_type": "stream",
     "text": [
      "-2\n",
      "10\n",
      "-11\n",
      "-0b1011\n"
     ]
    }
   ],
   "source": [
    "x=True\n",
    "print(~x)\n",
    "x=0b001010\n",
    "print(x)\n",
    "print(~x)\n",
    "print(bin( ~x))\n"
   ]
  },
  {
   "cell_type": "code",
   "execution_count": 27,
   "metadata": {},
   "outputs": [
    {
     "name": "stdout",
     "output_type": "stream",
     "text": [
      "0.8\n",
      "0.3333333333333333\n",
      "3.333333e-01 \n",
      "0.3333 \n",
      "0.33\n"
     ]
    }
   ],
   "source": [
    "a=3\n",
    "b=4\n",
    "\n",
    "c=b/(2.0+a)\n",
    "print(c)\n",
    "\n",
    "num=1/3\n",
    "print(num)\n",
    "print('%e '% num)\n",
    "print('%2.4f ' % num)\n",
    "print('{0:4.2f}'.format(num))"
   ]
  },
  {
   "cell_type": "code",
   "execution_count": 28,
   "metadata": {},
   "outputs": [
    {
     "name": "stdout",
     "output_type": "stream",
     "text": [
      "True\n",
      "True\n",
      "False\n",
      "in fact :  False\n",
      "False\n",
      "becuse : 3.3000000000000003\n",
      "True\n",
      "3 3\n",
      "True\n"
     ]
    }
   ],
   "source": [
    "x=2\n",
    "y=3\n",
    "z=4\n",
    "\n",
    "print(x<y<z)\n",
    "print(x<y and y<z)\n",
    "\n",
    "print(1==2 < 3)\n",
    "print('in fact : ',1==2 and 2<3)\n",
    "\n",
    "print(1.1+2.2 == 3.3)\n",
    "print('becuse :',1.1+2.2)\n",
    "print(int(1.1+2.2) == int(3.3))\n",
    "print(int(1.1+2.2),int(3.3))\n",
    "print(int(1.2+2.2) == int(3.3))\n"
   ]
  },
  {
   "cell_type": "code",
   "execution_count": 29,
   "metadata": {},
   "outputs": [
    {
     "name": "stdout",
     "output_type": "stream",
     "text": [
      "2.5\n",
      "2.5\n",
      "**********************\n",
      "2\n",
      "2.0\n"
     ]
    }
   ],
   "source": [
    "print( 10/4)\n",
    "print( 10/4.0)\n",
    "\n",
    "print('*'*22)\n",
    "print( 10//4)\n",
    "print( 10//4.0)"
   ]
  },
  {
   "cell_type": "code",
   "execution_count": 30,
   "metadata": {},
   "outputs": [
    {
     "name": "stdout",
     "output_type": "stream",
     "text": [
      "2\n",
      "-3\n",
      "2\n",
      "-2\n",
      "-2\n",
      "2\n"
     ]
    }
   ],
   "source": [
    "import math \n",
    "\n",
    "print(math.floor(2.5))\n",
    "print(math.floor(-2.5))\n",
    "\n",
    "print(math.trunc(2.5))\n",
    "print(math.trunc(-2.5))  #   Truncate fractional part ( toward zero)\n",
    "print(math.trunc(-2.7))\n",
    "print(int(2.5))"
   ]
  },
  {
   "cell_type": "code",
   "execution_count": 31,
   "metadata": {},
   "outputs": [
    {
     "name": "stdout",
     "output_type": "stream",
     "text": [
      "2.5 \t -2.5\n",
      "2.5 \t -2.5\n",
      "2 \t -3\n",
      "2.0 \t -3.0\n",
      "********\n",
      "2.5   -2.5   2.5   -2.5  \n",
      "2   -3   2.0   -3.0  \n",
      "3.0   3.0   3.0   3  \n"
     ]
    }
   ],
   "source": [
    "print(5/2 ,'\\t',5/-2)\n",
    "print(5/2.0 ,'\\t',5/-2.0)\n",
    "print(5//2 ,'\\t',5//-2)\n",
    "print(5//2.0 ,'\\t',5//-2.0)\n",
    "\n",
    "print('*'*8)\n",
    "\n",
    "print(5/2,' ',5/-2,' ',5/2.0,' ',5/-2.0,' ')\n",
    "print(5//2,' ',5//-2,' ',5//2.0,' ',5//-2.0,' ')\n",
    "\n",
    "print(9/3,' ',9.0/3,' ',9/3.0,' ',9//3,' ')\n"
   ]
  },
  {
   "cell_type": "code",
   "execution_count": 32,
   "metadata": {},
   "outputs": [
    {
     "name": "stdout",
     "output_type": "stream",
     "text": [
      "1606938044258990275541962092341162602522202993782792835301376\n",
      "184497489401772529385612327842172717039008268166646221893471402059821287234759868672175917131173661172843563441437060059660158104845032398976807920666283692562120150139178769612799511748636278282415866878160176201872937423527853931074825229289817028865471580173776186278979555862451026349435370470386779578868176354099221238174997807148290368091204552361327921521465467763204555046027307456204118567337113234081310864304329682188410055227959601689731512418582605896572426052789584762208778001498785021309361810928365592763602942101060634062780064931573442859418747069821583778704245321901579684737223187694080815326248608739251692560476233210156302437210837221376\n",
      "complex number:\n",
      "(1+3j)\n",
      "(1+6j)\n",
      "(2+6j)\n"
     ]
    }
   ],
   "source": [
    "print(2**200)\n",
    "print(2**2200)\n",
    "\n",
    "print('complex number:')\n",
    "print(1+3j)\n",
    "print(1+3j*2)\n",
    "print((1+3j)*2)\n"
   ]
  },
  {
   "cell_type": "code",
   "execution_count": 33,
   "metadata": {},
   "outputs": [
    {
     "name": "stdout",
     "output_type": "stream",
     "text": [
      "octal\n",
      "1 16 255\n",
      "hex : \n",
      "1 16 255\n",
      "binary :\n",
      "1 16 255\n",
      "0x2f : 47 47\n",
      "15 15 15\n",
      "0o100 0x40 0b1000000\n",
      "convert:\n",
      "64 64 64 64\n",
      "64 64 64 64\n",
      "0o40\n"
     ]
    },
    {
     "ename": "ValueError",
     "evalue": "invalid literal for int() with base 16: '0o40'",
     "output_type": "error",
     "traceback": [
      "\u001b[1;31m---------------------------------------------------------------------------\u001b[0m",
      "\u001b[1;31mValueError\u001b[0m                                Traceback (most recent call last)",
      "\u001b[1;32md:\\Draft\\Python\\Programming Python-5th\\part II\\Chapter5\\chapter5.ipynb Cell 8'\u001b[0m in \u001b[0;36m<cell line: 17>\u001b[1;34m()\u001b[0m\n\u001b[0;32m     <a href='vscode-notebook-cell:/d%3A/Draft/Python/Programming%20Python-5th/part%20II/Chapter5/chapter5.ipynb#ch0000007?line=14'>15</a>\u001b[0m \u001b[39mprint\u001b[39m(\u001b[39mint\u001b[39m(\u001b[39m'\u001b[39m\u001b[39m64\u001b[39m\u001b[39m'\u001b[39m),\u001b[39mint\u001b[39m(\u001b[39m'\u001b[39m\u001b[39m100\u001b[39m\u001b[39m'\u001b[39m,\u001b[39m8\u001b[39m),\u001b[39mint\u001b[39m(\u001b[39m'\u001b[39m\u001b[39m40\u001b[39m\u001b[39m'\u001b[39m,\u001b[39m16\u001b[39m),\u001b[39mint\u001b[39m(\u001b[39m'\u001b[39m\u001b[39m1000000\u001b[39m\u001b[39m'\u001b[39m,\u001b[39m2\u001b[39m))\n\u001b[0;32m     <a href='vscode-notebook-cell:/d%3A/Draft/Python/Programming%20Python-5th/part%20II/Chapter5/chapter5.ipynb#ch0000007?line=15'>16</a>\u001b[0m \u001b[39mprint\u001b[39m(\u001b[39moct\u001b[39m(\u001b[39m32\u001b[39m))\n\u001b[1;32m---> <a href='vscode-notebook-cell:/d%3A/Draft/Python/Programming%20Python-5th/part%20II/Chapter5/chapter5.ipynb#ch0000007?line=16'>17</a>\u001b[0m \u001b[39mprint\u001b[39m(\u001b[39mint\u001b[39;49m(\u001b[39m'\u001b[39;49m\u001b[39m0o40\u001b[39;49m\u001b[39m'\u001b[39;49m,\u001b[39m16\u001b[39;49m))\n",
      "\u001b[1;31mValueError\u001b[0m: invalid literal for int() with base 16: '0o40'"
     ]
    }
   ],
   "source": [
    "print('octal')\n",
    "print(0o1,0o20,0o377)\n",
    "print('hex : ')\n",
    "print(0x01,0x10,0xFF)\n",
    "print('binary :')\n",
    "print(0b1,0b10000,0b11111111)\n",
    "\n",
    "print('0x2f :',0x2f,(2*(16**1)+15*(16**0) ))\n",
    "print(0xF,0b1111,(1*2**3)+(1*2**2)+(1*2**1)+(1*2**0))\n",
    "\n",
    "print(oct(64),hex(64),bin(64))\n",
    "\n",
    "print('convert:')\n",
    "print(64,0o100,0x40,0b1000000)\n",
    "print(int('64'),int('100',8),int('40',16),int('1000000',2))\n",
    "print(oct(32))\n",
    "print(int('0o40',16))"
   ]
  },
  {
   "cell_type": "code",
   "execution_count": null,
   "metadata": {},
   "outputs": [
    {
     "name": "stdout",
     "output_type": "stream",
     "text": [
      "64 64 64 64\n"
     ]
    },
    {
     "data": {
      "text/plain": [
       "' 100 40 ff FF '"
      ]
     },
     "execution_count": 22,
     "metadata": {},
     "output_type": "execute_result"
    }
   ],
   "source": [
    "print(eval('64'),eval('0o100'),eval('0x40'),eval('0b1000000'))\n",
    "'{0:o}, {1:x}, {2:b} '.format(64,64,64)\n",
    "' %o %x %x %X '%(64,64,255,255)"
   ]
  },
  {
   "cell_type": "code",
   "execution_count": null,
   "metadata": {},
   "outputs": [
    {
     "name": "stdout",
     "output_type": "stream",
     "text": [
      "4\n",
      "3\n",
      "1\n"
     ]
    }
   ],
   "source": [
    "x=1\n",
    "print(x<<2)\n",
    "x|=2\n",
    "print(x)\n",
    "print(x&1)"
   ]
  },
  {
   "cell_type": "code",
   "execution_count": null,
   "metadata": {},
   "outputs": [
    {
     "name": "stdout",
     "output_type": "stream",
     "text": [
      "0b100\n",
      "0b11\n",
      "0b1\n"
     ]
    }
   ],
   "source": [
    "x=0b0001\n",
    "print(bin(x<<2))\n",
    "\n",
    "print(bin(x|0b0010))\n",
    "\n",
    "print(bin(x&0b1))"
   ]
  },
  {
   "cell_type": "code",
   "execution_count": null,
   "metadata": {},
   "outputs": [
    {
     "name": "stdout",
     "output_type": "stream",
     "text": [
      "0b11111111\n",
      "0b10101010\n",
      "a xor x :\n",
      " 0b1010101\n"
     ]
    }
   ],
   "source": [
    "x=0xFF\n",
    "print(bin(x))\n",
    "a=0xAA\n",
    "print(bin(a))\n",
    "print('a xor x :\\n',bin(x^a))"
   ]
  },
  {
   "cell_type": "code",
   "execution_count": null,
   "metadata": {},
   "outputs": [
    {
     "name": "stdout",
     "output_type": "stream",
     "text": [
      "0b1100011 7 7\n"
     ]
    }
   ],
   "source": [
    "n=99\n",
    "print(bin(n),n.bit_length(),len(bin(n))-2) # -2 becaue 0b skiping"
   ]
  },
  {
   "cell_type": "code",
   "execution_count": null,
   "metadata": {},
   "outputs": [
    {
     "name": "stdout",
     "output_type": "stream",
     "text": [
      "0.03489949670250097\n",
      "12.0 1.4142135623730951\n",
      "16.0 16 16 16.0 16.0\n",
      "25.3\n",
      "10\n",
      "4 1\n"
     ]
    }
   ],
   "source": [
    "import math \n",
    "\n",
    "print(math.sin(2*math.pi/180))\n",
    "\n",
    "print(math.sqrt(144),math.sqrt(2))\n",
    "print(math.pow(2,4),pow(2,4),2**4,2.0**4,2**4.0)\n",
    "print(abs(-25.30))\n",
    "print(sum((1,2,4,3)))\n",
    "print(max(1,2,3,4),min(1,3,4,2))"
   ]
  },
  {
   "cell_type": "code",
   "execution_count": null,
   "metadata": {},
   "outputs": [
    {
     "name": "stdout",
     "output_type": "stream",
     "text": [
      "2 -3\n",
      "2 -2\n",
      "2 -2\n",
      "round 3 -3 2.57 -2.57\n",
      "2 2 1\n",
      "1.6 1.5 1.4\n"
     ]
    }
   ],
   "source": [
    "print(math.floor(2.567),math.floor(-2.567))\n",
    "print(math.trunc(2.567),math.trunc(-2.567))\n",
    "print(int(2.567),int(-2.567))\n",
    "print('round',round(2.567),round(-2.567),round(2.567,2),round(-2.567,2))\n",
    "print(round(1.6),round(1.5),round(1.4))\n",
    "print(round(1.6,1),round(1.5,1),round(1.4,1))"
   ]
  },
  {
   "cell_type": "code",
   "execution_count": null,
   "metadata": {},
   "outputs": [
    {
     "name": "stdout",
     "output_type": "stream",
     "text": [
      "2.6 \n",
      "2.57\n",
      "22.700000\n",
      "0.3333333333333333 0.33 0.33\n"
     ]
    }
   ],
   "source": [
    "print('%.1f '%2.567)\n",
    "print('{:.2f}'.format(2.567))\n",
    "print('{:f}'.format(22.7))\n",
    "\n",
    "\n",
    "print(1/3,round(1/3,2),'%.2f'% (1/3))"
   ]
  },
  {
   "cell_type": "code",
   "execution_count": null,
   "metadata": {},
   "outputs": [
    {
     "name": "stdout",
     "output_type": "stream",
     "text": [
      "12.0\n",
      "12.0\n",
      "12.0\n",
      "32\n",
      "32\n",
      "32.0\n"
     ]
    }
   ],
   "source": [
    "print(math.sqrt(144))\n",
    "print(144**.5)\n",
    "print(pow(144,.5))\n",
    "\n",
    "print(2**5)\n",
    "print(pow(2,5))\n",
    "print(math.pow(2,5))"
   ]
  },
  {
   "cell_type": "code",
   "execution_count": null,
   "metadata": {},
   "outputs": [
    {
     "name": "stdout",
     "output_type": "stream",
     "text": [
      "0.21623028232413533\n",
      "6\n",
      "1\n",
      "black\n",
      "['blue', 'blue', 'yellow']\n",
      "[9, 4]\n",
      "car befor suffle:\n",
      " ['bmw', 'toyota', 'mazda', 'jak']\n",
      "None\n",
      "['mazda', 'toyota', 'bmw', 'jak']\n",
      "['mazda', 'jak', 'bmw', 'toyota']\n"
     ]
    }
   ],
   "source": [
    "import random\n",
    "\n",
    "print(random.random())\n",
    "\n",
    "print(random.randint(1,10)) # rasndom in 1,2,3,4,5,6,7,8,9,10 <<\n",
    "print(random.randrange(1,10)) # choise in 1,2,3,4,5,6,7,8,9 <<\n",
    "color=['red','yellow','blue','white','black']\n",
    "car=['bmw','toyota','mazda','jak']\n",
    "print(random.choice(color))\n",
    "print(random.choices(color,k=3))\n",
    "\n",
    "print(random.choices([1,4,2,7,4,2,8,9], [0.2,0.4,0.6,0.3, 0.5,0.4,0.7,0.3], k=2))\n",
    "\n",
    "print('car befor suffle:\\n',car)\n",
    "print(random.shuffle(car))\n",
    "print(car)\n",
    "random.shuffle(car)\n",
    "print(car)"
   ]
  },
  {
   "cell_type": "code",
   "execution_count": null,
   "metadata": {},
   "outputs": [
    {
     "name": "stdout",
     "output_type": "stream",
     "text": [
      "5.551115123125783e-17\n",
      "0.2\n",
      "-0.19999999999999998\n",
      "0.0\n",
      "2.775557561565156540423631668E-17\n",
      "0.000\n",
      "0.1428571428571428571428571429\n"
     ]
    }
   ],
   "source": [
    "from decimal import Decimal\n",
    "\n",
    "print(0.1 + 0.1 + 0.1 - 0.3)\n",
    "print(.1+.1)\n",
    "print(.1-.3)\n",
    "\n",
    "b= Decimal('0.1') + Decimal('0.1') + Decimal('0.1') - Decimal('0.3')\n",
    "print(b)\n",
    "a=Decimal(0.1)+Decimal(0.1)+Decimal(0.1)-Decimal(0.3)\n",
    "print(a)\n",
    "\n",
    "b= Decimal('0.1') + Decimal('0.100') + Decimal('0.1') - Decimal('0.3')\n",
    "print(b)\n",
    "\n"
   ]
  },
  {
   "cell_type": "code",
   "execution_count": null,
   "metadata": {},
   "outputs": [
    {
     "name": "stdout",
     "output_type": "stream",
     "text": [
      "0.1429\n",
      "0.1429\n",
      ".1+.1+.1-.3 :\n",
      "1.110E-17\n"
     ]
    }
   ],
   "source": [
    "import decimal\n",
    "\n",
    "a=decimal.Decimal(1)/decimal.Decimal(7)\n",
    "print(a)\n",
    "decimal.getcontext().prec=4\n",
    "a=decimal.Decimal(1)/decimal.Decimal(7)\n",
    "print(a)\n",
    "print('.1+.1+.1-.3 :')\n",
    "a=Decimal(0.1)+Decimal(0.1)+Decimal(0.1)-Decimal(0.3)\n",
    "print(a)"
   ]
  },
  {
   "cell_type": "code",
   "execution_count": null,
   "metadata": {},
   "outputs": [
    {
     "name": "stdout",
     "output_type": "stream",
     "text": [
      "2000.333\n",
      "2000.3\n"
     ]
    }
   ],
   "source": [
    "import decimal\n",
    "\n",
    "n=1999\n",
    "\n",
    "print(n+1.333)\n",
    "\n",
    "decimal.getcontext().prec=2\n",
    "pay=decimal.Decimal(str(n+1.33))\n",
    "print(pay)"
   ]
  },
  {
   "cell_type": "code",
   "execution_count": 36,
   "metadata": {},
   "outputs": [
    {
     "name": "stdout",
     "output_type": "stream",
     "text": [
      "0.14\n"
     ]
    }
   ],
   "source": [
    "import decimal \n",
    "\n",
    "rt=decimal.Decimal('1.00')/decimal.Decimal('7.00')\n",
    "print(rt)"
   ]
  }
 ],
 "metadata": {
  "kernelspec": {
   "display_name": "Python 3.10.0 64-bit",
   "language": "python",
   "name": "python3"
  },
  "language_info": {
   "codemirror_mode": {
    "name": "ipython",
    "version": 3
   },
   "file_extension": ".py",
   "mimetype": "text/x-python",
   "name": "python",
   "nbconvert_exporter": "python",
   "pygments_lexer": "ipython3",
   "version": "3.10.0"
  },
  "orig_nbformat": 4,
  "vscode": {
   "interpreter": {
    "hash": "1c6c043809b0aa06f295572e3555767cce6faf59773d5c69c5d0d1628626d6da"
   }
  }
 },
 "nbformat": 4,
 "nbformat_minor": 2
}
