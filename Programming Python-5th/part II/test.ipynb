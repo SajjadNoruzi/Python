{
 "cells": [
  {
   "cell_type": "code",
   "execution_count": 2,
   "metadata": {},
   "outputs": [
    {
     "name": "stdout",
     "output_type": "stream",
     "text": [
      "hello wrold\n",
      "h\n",
      "Hello wrold\n"
     ]
    }
   ],
   "source": [
    "text='hello wrold'\n",
    "\n",
    "print(text)\n",
    "print(text[0])\n",
    "text='H'+text[1:]\n",
    "print(text)"
   ]
  },
  {
   "cell_type": "code",
   "execution_count": 5,
   "metadata": {},
   "outputs": [
    {
     "name": "stdout",
     "output_type": "stream",
     "text": [
      "['T', 'h', 'e', ' ', 's', 'k', 'y', ' ', 'i', 's', ' ', 'b', 'l', 'u', 'e', ' ', '!', '>', '>', '<', '<', '?']\n",
      "['T', 'h', 'e', ' great ', 's', 'k', 'y', ' ', 'i', 's', ' ', 'b', 'l', 'u', 'e', ' ', '!', '>', '>', '<', '<', '?']\n",
      "The great sky is blue !>><<?\n",
      "<class 'list'>\n"
     ]
    }
   ],
   "source": [
    "s='The sky is blue !>><<?'\n",
    "L=list(s)\n",
    "print(L)\n",
    "L[3]=' great '\n",
    "print(L)\n",
    "print(\"\".join(L))\n",
    "print(type(L))\n"
   ]
  },
  {
   "cell_type": "code",
   "execution_count": 1,
   "metadata": {},
   "outputs": [
    {
     "name": "stdout",
     "output_type": "stream",
     "text": [
      "bytearray(b'Tiger')\n",
      "bytearray(b'\\x00\\x00')\n",
      "bytearray(b'Tigerfighter')\n",
      "Tigerfighter\n",
      "<class 'str'>\n"
     ]
    }
   ],
   "source": [
    "B=bytearray(b'Tiger')\n",
    "print(B)\n",
    "B1=bytearray(2)\n",
    "print(B1)\n",
    "B.extend(b'fighter')\n",
    "print(B)\n",
    "print(B.decode())\n",
    "print(type(B.decode()))"
   ]
  },
  {
   "cell_type": "code",
   "execution_count": 16,
   "metadata": {},
   "outputs": [
    {
     "name": "stdout",
     "output_type": "stream",
     "text": [
      "5\n",
      "the river are flowing\n",
      "the river is flowing\n"
     ]
    }
   ],
   "source": [
    "S='the river is flowing'\n",
    "print(S.find(\"i\"))\n",
    "\n",
    "print(S.replace('is','are'))\n",
    "print(S)"
   ]
  },
  {
   "cell_type": "code",
   "execution_count": 2,
   "metadata": {},
   "outputs": [
    {
     "name": "stdout",
     "output_type": "stream",
     "text": [
      "s\n",
      "p\n",
      "a\n",
      "m\n",
      "done\n"
     ]
    }
   ],
   "source": [
    "for x in 'spam':\n",
    "    print(x) # Press Enter twice before a new statement\n",
    "print('done')"
   ]
  },
  {
   "cell_type": "code",
   "execution_count": 3,
   "metadata": {},
   "outputs": [
    {
     "name": "stdout",
     "output_type": "stream",
     "text": [
      "win32\n",
      "1267650600228229401496703205376\n",
      "Spam!Spam!Spam!Spam!Spam!Spam!Spam!Spam!\n"
     ]
    }
   ],
   "source": [
    "import sys # Load a library module\n",
    "print(sys.platform)\n",
    "print(2 ** 100) # Raise 2 to a power\n",
    "x = 'Spam!'\n",
    "print(x * 8)"
   ]
  },
  {
   "cell_type": "code",
   "execution_count": 6,
   "metadata": {},
   "outputs": [
    {
     "name": "stdout",
     "output_type": "stream",
     "text": [
      "Run away!...\n",
      "1 2\n"
     ]
    }
   ],
   "source": [
    "print('Run','away!...')\n",
    "print(1,2)"
   ]
  },
  {
   "cell_type": "code",
   "execution_count": 17,
   "metadata": {},
   "outputs": [
    {
     "name": "stdout",
     "output_type": "stream",
     "text": [
      "hello wrold\n",
      "23\n"
     ]
    },
    {
     "data": {
      "text/plain": [
       "23"
      ]
     },
     "execution_count": 17,
     "metadata": {},
     "output_type": "execute_result"
    }
   ],
   "source": [
    "#from imp import reload\n",
    "#reload(t)\n",
    "x=999\n",
    "exec(open('t.py').read())\n",
    "x"
   ]
  },
  {
   "cell_type": "code",
   "execution_count": 27,
   "metadata": {},
   "outputs": [
    {
     "data": {
      "text/plain": [
       "['ddd', 'jj', 'daa', 'ee']"
      ]
     },
     "execution_count": 27,
     "metadata": {},
     "output_type": "execute_result"
    }
   ],
   "source": [
    "line='ss,dkfj.ddd,ddd,eee,ttt'\n",
    "line.split(',')\n",
    "\n",
    "s='Loin'\n",
    "\n",
    "s.isalpha()\n",
    "line='ddd,jj,daa,ee\\n'\n",
    "line.split(',')\n",
    "line.rstrip().split(',')"
   ]
  },
  {
   "cell_type": "code",
   "execution_count": 33,
   "metadata": {},
   "outputs": [
    {
     "name": "stdout",
     "output_type": "stream",
     "text": [
      " for all the time I will go\n"
     ]
    },
    {
     "data": {
      "text/plain": [
       "' for all the time I will go'"
      ]
     },
     "execution_count": 33,
     "metadata": {},
     "output_type": "execute_result"
    }
   ],
   "source": [
    "print(' %s all the time I will %s'%('for','go'))\n",
    "print(' {0} all the time I will {1}'.format('for','go'))"
   ]
  },
  {
   "cell_type": "code",
   "execution_count": 53,
   "metadata": {},
   "outputs": [
    {
     "name": "stdout",
     "output_type": "stream",
     "text": [
      "2,434,545,454.635\n",
      " 3556855.340 |  -0012\n"
     ]
    }
   ],
   "source": [
    "print('{:,.3f}'.format(2434545454.6345345))\n",
    "print('% .3f |  % +05d'%(3556855.34, -12))"
   ]
  },
  {
   "cell_type": "code",
   "execution_count": 57,
   "metadata": {},
   "outputs": [
    {
     "name": "stdout",
     "output_type": "stream",
     "text": [
      "A\u0000B\u0000C\n"
     ]
    },
    {
     "data": {
      "text/plain": [
       "'A\\x00B\\x00C'"
      ]
     },
     "execution_count": 57,
     "metadata": {},
     "output_type": "execute_result"
    }
   ],
   "source": [
    "ord('A')\n",
    "S='A\\0B\\0C'\n",
    "print(S)\n",
    "S"
   ]
  },
  {
   "cell_type": "code",
   "execution_count": 64,
   "metadata": {},
   "outputs": [
    {
     "name": "stdout",
     "output_type": "stream",
     "text": [
      "    \n",
      "hey ''''' I am Dr of my dream \"\" kdjf::\"\" \n",
      "\n",
      "dfk\n",
      "df\n",
      "''\n",
      "\n",
      "9\n",
      "7\n"
     ]
    }
   ],
   "source": [
    "msg=\"\"\"    \n",
    "hey ''''' I am Dr of my dream \"\" kdjf::\"\" \n",
    "\n",
    "dfk\n",
    "df\n",
    "''\n",
    "\"\"\"\n",
    "print(msg)\n",
    "print(msg.find(\"'\"))\n",
    "print(msg.count(\"'\"))"
   ]
  },
  {
   "cell_type": "code",
   "execution_count": 67,
   "metadata": {},
   "outputs": [
    {
     "name": "stdout",
     "output_type": "stream",
     "text": [
      "101\n"
     ]
    },
    {
     "data": {
      "text/plain": [
       "'abced'"
      ]
     },
     "execution_count": 67,
     "metadata": {},
     "output_type": "execute_result"
    }
   ],
   "source": [
    "a='abc\\x65d'\n",
    "#65 hex is 101 in bin\n",
    "print(ord('e'))\n",
    "a"
   ]
  },
  {
   "cell_type": "code",
   "execution_count": 82,
   "metadata": {},
   "outputs": [
    {
     "name": "stdout",
     "output_type": "stream",
     "text": [
      "<re.Match object; span=(0, 6), match='pylaon'>\n"
     ]
    }
   ],
   "source": [
    "import re \n",
    "\n",
    "m=re.search('py...n','pylaon the python that  great power')\n",
    "print(m)"
   ]
  },
  {
   "cell_type": "code",
   "execution_count": 83,
   "metadata": {},
   "outputs": [
    {
     "name": "stdout",
     "output_type": "stream",
     "text": [
      "Python\n"
     ]
    }
   ],
   "source": [
    "pattern = re.compile('Py...n')\n",
    "match = pattern.search('Python is great')\n",
    "if match:\n",
    "    print(match.group())\n",
    "else:\n",
    "    print(\"pattern not found\")\n"
   ]
  },
  {
   "cell_type": "code",
   "execution_count": 30,
   "metadata": {},
   "outputs": [
    {
     "name": "stdout",
     "output_type": "stream",
     "text": [
      "['ea', 'ea']\n",
      "[' read', 'ayear']\n",
      "['I', 'readersds', 'the', 'silk', 'road', 'last', 'asasayear', 'in', '1400', '12', '02']\n",
      "['I', '', 'readersds', '', 'the', '', 'silk', '', 'road', '', 'last', '', 'asasayear', '', 'in', '', '1400', '', '12', '', '02', '', '', '', '']\n",
      "['readersds', 'asasayear']\n",
      "['eadersds the silk road last asasayear in 1400/12/02  .']\n"
     ]
    }
   ],
   "source": [
    "import re \n",
    "\n",
    "s='I readersds the silk road last asasayear in 1400/12/02  .'\n",
    "\n",
    "x=re.findall('ea',s)\n",
    "print(x)\n",
    "\n",
    "x=re.findall('..ea.',s)\n",
    "print(x)\n",
    "\n",
    "x=re.findall('\\w+',s)\n",
    "print(x)\n",
    "\n",
    "x=re.findall('\\w*',s)\n",
    "print(x)\n",
    "\n",
    "\n",
    "x=re.findall('\\w*ea\\w*',s)\n",
    "print(x)\n",
    "\n",
    "x=re.findall('ea.+',s)\n",
    "print(x)"
   ]
  },
  {
   "cell_type": "code",
   "execution_count": 35,
   "metadata": {},
   "outputs": [
    {
     "name": "stdout",
     "output_type": "stream",
     "text": [
      "first space index :  5\n",
      "if not find =>  None\n"
     ]
    }
   ],
   "source": [
    "import re \n",
    "\n",
    "s='where is your shoes ??? I am not idea for find it !!!'\n",
    "\n",
    "\n",
    "x=re.search('\\s',s)\n",
    "print('first space index : ',x.start())\n",
    "\n",
    "x=re.search('my',s)\n",
    "print('if not find => ',x)"
   ]
  },
  {
   "cell_type": "code",
   "execution_count": 41,
   "metadata": {},
   "outputs": [
    {
     "name": "stdout",
     "output_type": "stream",
     "text": [
      "not re : \n",
      " ['Your', 'dreams', 'are', 'your', 'most', 'valuable', 'assets', '.']\n",
      "['Your', 'dreams', 'are', 'your most valuable assets .']\n",
      "not re : \n",
      " ['You', ' d', 'eams a', 'e you', ' most valuable assets .']\n",
      "['You', ' d', 'eams a', 'e you', ' most valuable assets .']\n"
     ]
    }
   ],
   "source": [
    "import re \n",
    "\n",
    "s='Your dreams are your most valuable assets .'\n",
    "\n",
    "x=re.split('\\s',s,3) # num count of action enable\n",
    "print('not re : \\n',s.split(' '))\n",
    "print(x)\n",
    "\n",
    "\n",
    "\n",
    "x=re.split('r',s)\n",
    "print(\"not re : \\n\",s.split('r'))\n",
    "print(x)"
   ]
  },
  {
   "cell_type": "code",
   "execution_count": 45,
   "metadata": {},
   "outputs": [
    {
     "name": "stdout",
     "output_type": "stream",
     "text": [
      "  >=<  that  >=<  is  >=<  a  >=<  very  >=<  wonderful  >=<  thing  >=<  that  >=<  playing  >=<  with  >=<  math.\n",
      "  >=<  that  >=<  is  >=<  a  >=<  very wonderful thing that playing with math.\n"
     ]
    }
   ],
   "source": [
    "import re \n",
    "\n",
    "s= ' that is a very wonderful thing that playing with math.'\n",
    "\n",
    "x=re.sub('\\s','  >=<  ',s)\n",
    "print(x)\n",
    "\n",
    "x=re.sub('\\s','  >=<  ',s,4)\n",
    "print(x)"
   ]
  },
  {
   "cell_type": "code",
   "execution_count": 62,
   "metadata": {},
   "outputs": [
    {
     "name": "stdout",
     "output_type": "stream",
     "text": [
      "<re.Match object; span=(11, 14), match='are'>\n",
      "(11, 14)\n",
      "these cars are red and others are blue, do you want one of them?\n",
      "are\n"
     ]
    }
   ],
   "source": [
    "import re \n",
    "\n",
    "s='these cars are red and others are blue, do you want one of them?'\n",
    "\n",
    "x=re.search(r'\\ba\\w+',s)\n",
    "print(x)\n",
    "print(x.span())\n",
    "print(x.string)\n",
    "print(x.group())\n"
   ]
  },
  {
   "cell_type": "code",
   "execution_count": 71,
   "metadata": {},
   "outputs": [
    {
     "name": "stdout",
     "output_type": "stream",
     "text": [
      "[2, 76, 3, 5, 1]\n"
     ]
    }
   ],
   "source": [
    "l=[1,5,3,76,2]\n",
    "l.reverse()\n",
    "print(l)\n",
    "\n"
   ]
  },
  {
   "cell_type": "code",
   "execution_count": 70,
   "metadata": {},
   "outputs": [
    {
     "name": "stdout",
     "output_type": "stream",
     "text": [
      "['aa', 'bb', 'cc']\n",
      "['cc', 'bb', 'aa']\n"
     ]
    }
   ],
   "source": [
    "M = ['bb', 'aa', 'cc']\n",
    "M.sort()\n",
    "print(M)\n",
    "M.reverse()\n",
    "print(M)"
   ]
  },
  {
   "cell_type": "markdown",
   "metadata": {},
   "source": [
    "# List "
   ]
  },
  {
   "cell_type": "code",
   "execution_count": 93,
   "metadata": {},
   "outputs": [
    {
     "name": "stdout",
     "output_type": "stream",
     "text": [
      "[1, 2, 3]\n",
      "[4, 5, 6]\n",
      "[7, 8, 9]\n",
      "result:\n",
      " [2, 5, 8]\n",
      "even result:\n",
      " [2, 8]\n",
      "diagonal result:\n",
      " [1, 5, 9]\n",
      "doubles cahr result:\n",
      " ['hh', 'ee', 'll', 'll', 'oo']\n",
      "range result:\n",
      " [-6, -4, -2, 0, 2, 4, 6]\n",
      "multi result:\n",
      " [[0, 0], [1, 1], [4, 8]]\n",
      "multi and if result:\n",
      " [[0.5, 1, 1], [1.0, 2, 4], [1.5, 3, 9]]\n"
     ]
    }
   ],
   "source": [
    "M=[[1,2,3],\n",
    "   [4,5,6],\n",
    "   [7,8,9]]\n",
    "for row in M:\n",
    "    print(row)\n",
    "\n",
    "col2=[row[1] for row in M]\n",
    "print('result:\\n',col2)\n",
    "\n",
    "even_col2=[row[1] for row in M if row[1]%2==0]\n",
    "print('even result:\\n',even_col2)\n",
    "\n",
    "diagonal=[M[i][i] for i in (0,1,2)]\n",
    "print('diagonal result:\\n',diagonal)\n",
    "\n",
    "\n",
    "w=[c*2 for c in \"hello\"]\n",
    "print('doubles cahr result:\\n',w)\n",
    "\n",
    "l=list(range(-6,7,2))\n",
    "print('range result:\\n',l)\n",
    "\n",
    "\n",
    "l=[[x**2,x**3] for x in range(3)]\n",
    "print('multi result:\\n',l)\n",
    "\n",
    "l=[[x/2,x,x**2] for x in range(-4,4) if x>0]\n",
    "print('multi and if result:\\n',l)"
   ]
  },
  {
   "cell_type": "code",
   "execution_count": 94,
   "metadata": {},
   "outputs": [
    {
     "name": "stdout",
     "output_type": "stream",
     "text": [
      "[1, 2, 3]\n",
      "[4, 5, 6]\n",
      "[7, 8, 9]\n",
      "row sum result:\n",
      " <generator object <genexpr> at 0x000002943C721850>\n"
     ]
    }
   ],
   "source": [
    "M=[[1,2,3],\n",
    "   [4,5,6],\n",
    "   [7,8,9]]\n",
    "for row in M:\n",
    "    print(row)\n",
    "    \n",
    "    \n",
    "G=(sum(row) for row in M)\n",
    "print('row sum result:\\n',)"
   ]
  },
  {
   "cell_type": "code",
   "execution_count": 95,
   "metadata": {},
   "outputs": [
    {
     "name": "stdout",
     "output_type": "stream",
     "text": [
      "         10000005 function calls in 2.267 seconds\n",
      "\n",
      "   Ordered by: standard name\n",
      "\n",
      "   ncalls  tottime  percall  cumtime  percall filename:lineno(function)\n",
      " 10000001    1.031    0.000    1.031    0.000 <string>:1(<genexpr>)\n",
      "        1    0.000    0.000    2.267    2.267 <string>:1(<module>)\n",
      "        1    0.000    0.000    2.267    2.267 {built-in method builtins.exec}\n",
      "        1    1.236    1.236    2.267    2.267 {built-in method builtins.sum}\n",
      "        1    0.000    0.000    0.000    0.000 {method 'disable' of '_lsprof.Profiler' objects}\n",
      "\n",
      "\n",
      "         5 function calls in 1.248 seconds\n",
      "\n",
      "   Ordered by: standard name\n",
      "\n",
      "   ncalls  tottime  percall  cumtime  percall filename:lineno(function)\n",
      "        1    0.860    0.860    0.860    0.860 <string>:1(<listcomp>)\n",
      "        1    0.143    0.143    1.248    1.248 <string>:1(<module>)\n",
      "        1    0.000    0.000    1.248    1.248 {built-in method builtins.exec}\n",
      "        1    0.245    0.245    0.245    0.245 {built-in method builtins.sum}\n",
      "        1    0.000    0.000    0.000    0.000 {method 'disable' of '_lsprof.Profiler' objects}\n",
      "\n",
      "\n"
     ]
    }
   ],
   "source": [
    "import cProfile\n",
    "\n",
    "cProfile.run(\"sum((i * 2 for i in range(10000000)))\")\n",
    "cProfile.run(\"sum([i * 2 for i in range(10000000)])\")"
   ]
  },
  {
   "cell_type": "code",
   "execution_count": 1,
   "metadata": {},
   "outputs": [
    {
     "name": "stdout",
     "output_type": "stream",
     "text": [
      "[1, 2, 3]\n",
      "[4, 5, 6]\n",
      "[7, 8, 9]\n",
      "6\n",
      "15\n",
      "24\n"
     ]
    },
    {
     "ename": "StopIteration",
     "evalue": "",
     "output_type": "error",
     "traceback": [
      "\u001b[1;31m---------------------------------------------------------------------------\u001b[0m",
      "\u001b[1;31mStopIteration\u001b[0m                             Traceback (most recent call last)",
      "\u001b[1;32md:\\Draft\\Python\\Programming Python-5th\\part II\\test.ipynb Cell 3'\u001b[0m in \u001b[0;36m<cell line: 12>\u001b[1;34m()\u001b[0m\n\u001b[0;32m     <a href='vscode-notebook-cell:/d%3A/Draft/Python/Programming%20Python-5th/part%20II/test.ipynb#ch0000002?line=9'>10</a>\u001b[0m \u001b[39mprint\u001b[39m(\u001b[39mnext\u001b[39m(G))\n\u001b[0;32m     <a href='vscode-notebook-cell:/d%3A/Draft/Python/Programming%20Python-5th/part%20II/test.ipynb#ch0000002?line=10'>11</a>\u001b[0m \u001b[39mprint\u001b[39m(\u001b[39mnext\u001b[39m(G))\n\u001b[1;32m---> <a href='vscode-notebook-cell:/d%3A/Draft/Python/Programming%20Python-5th/part%20II/test.ipynb#ch0000002?line=11'>12</a>\u001b[0m \u001b[39mprint\u001b[39m(\u001b[39mnext\u001b[39;49m(G))\n",
      "\u001b[1;31mStopIteration\u001b[0m: "
     ]
    }
   ],
   "source": [
    "M=[[1,2,3],\n",
    "   [4,5,6],\n",
    "   [7,8,9]]\n",
    "for row in M:\n",
    "    print(row)\n",
    "    \n",
    "G=(sum(row) for row in M)\n",
    "\n",
    "print(next(G))\n",
    "print(next(G))\n",
    "print(next(G))\n",
    "print(next(G))"
   ]
  },
  {
   "cell_type": "code",
   "execution_count": 8,
   "metadata": {},
   "outputs": [
    {
     "name": "stdout",
     "output_type": "stream",
     "text": [
      "[1, 2, 3]\n",
      "[4, 5, 6]\n",
      "[7, 8, 9]\n",
      "_______________\n",
      "[6, 15, 24]\n",
      "{24, 6, 15}\n",
      "{0: 6, 1: 15, 2: 24}\n"
     ]
    }
   ],
   "source": [
    "M=[[1,2,3],\n",
    "   [4,5,6],\n",
    "   [7,8,9]]\n",
    "for row in M:\n",
    "    print(row)\n",
    "print('_______________')    \n",
    "mm=list(map(sum,M))\n",
    "print(mm)\n",
    "\n",
    "\n",
    "st={sum(row) for row in M}\n",
    "print(st)\n",
    "\n",
    "di={M.index(row):sum(row) for row in M}\n",
    "print(di)"
   ]
  },
  {
   "cell_type": "code",
   "execution_count": 10,
   "metadata": {},
   "outputs": [
    {
     "name": "stdout",
     "output_type": "stream",
     "text": [
      "[116, 105, 103, 101, 114] <class 'list'>\n",
      "{101, 103, 105, 114, 116} <class 'set'>\n",
      "{'t': 116, 'i': 105, 'g': 103, 'e': 101, 'r': 114} <class 'dict'>\n",
      "<generator object <genexpr> at 0x0000023D93CC0F90> <class 'generator'>\n",
      "116\n"
     ]
    }
   ],
   "source": [
    "l=[ord(c) for c in \"tiger\"]\n",
    "\n",
    "print(l,type(l))\n",
    "\n",
    "st={ord(c) for c in \"tiger\"} \n",
    "print(st,type(st))\n",
    "\n",
    "di={c:ord(c) for c in 'tiger'}\n",
    "print(di,type(di))\n",
    "\n",
    "g=(ord(c) for c in 'tiger')\n",
    "print(g,type(g))  \n",
    "print(next(g)) \n",
    "    "
   ]
  },
  {
   "cell_type": "markdown",
   "metadata": {},
   "source": [
    "Dictionaries"
   ]
  },
  {
   "cell_type": "code",
   "execution_count": 17,
   "metadata": {},
   "outputs": [
    {
     "name": "stdout",
     "output_type": "stream",
     "text": [
      "{'name': 'Jak', 'age': 35, 'car': 'camero'}\n",
      "Jak\n",
      "{'name': 'Jak', 'age': 39, 'car': 'camero'}\n",
      "{}\n",
      "{'name': 'jak', 'age': 45, 'car': 'bmw'}\n"
     ]
    }
   ],
   "source": [
    "D={'name':'Jak','age':35,'car':'camero'}\n",
    "print(D)\n",
    "print(D['name'])\n",
    "D['age']+=4\n",
    "print(D)\n",
    "\n",
    "D.clear()\n",
    "print(D)\n",
    "\n",
    "D={}\n",
    "D['name']='jak'\n",
    "D['age']=45\n",
    "D['car']='bmw'\n",
    "print(D)"
   ]
  },
  {
   "cell_type": "code",
   "execution_count": 19,
   "metadata": {},
   "outputs": [
    {
     "name": "stdout",
     "output_type": "stream",
     "text": [
      "{'name': 'Bob', 'job': 'dev', 'age': 23}\n",
      "{'name': 'luck', 'age': 35, 'job': 'dev'}\n"
     ]
    }
   ],
   "source": [
    "D=dict(name='Bob',job='dev',age=23)\n",
    "print(D)\n",
    "\n",
    "DD=dict(zip(['name','age','job'],['luck',35,'dev']))\n",
    "print(DD)"
   ]
  },
  {
   "cell_type": "code",
   "execution_count": 22,
   "metadata": {},
   "outputs": [
    {
     "name": "stdout",
     "output_type": "stream",
     "text": [
      "{'last': 'tamson', 'fist': 'sara'}\n",
      "tamson\n",
      "driver\n",
      "{'name': {'last': 'tamson', 'fist': 'sara'}, 'job': ['dev', 'driver', 'employee'], 'age': 36}\n",
      "name\n",
      "job\n",
      "age\n"
     ]
    }
   ],
   "source": [
    "D={'name':{'last':'tamson','fist':'sara'},\n",
    "   'job':['dev','driver'],\n",
    "   'age':36}\n",
    "print(D['name'])\n",
    "print(D['name']['last'])\n",
    "\n",
    "print(D['job'][-1])\n",
    "D['job'].append('employee')\n",
    "print(D)\n",
    "for a in D:\n",
    "    print(a)\n"
   ]
  },
  {
   "cell_type": "code",
   "execution_count": 33,
   "metadata": {},
   "outputs": [
    {
     "name": "stdout",
     "output_type": "stream",
     "text": [
      "True\n",
      "False\n",
      "not find\n",
      "-1\n",
      "B\n",
      "None\n",
      "B\n",
      "other way ::: \n",
      "-1\n"
     ]
    }
   ],
   "source": [
    "D = {'a': 1, 'b': \"B\", 'c': 3}\n",
    "\n",
    "D['e']=6\n",
    "\n",
    "print( 'e' in D)\n",
    "print( 'f' in D)\n",
    "\n",
    "if  not 'w' in D:\n",
    "    print('not find') \n",
    "    \n",
    "    \n",
    "value=D.get('x',-1)\n",
    "print(value)\n",
    "value=D.get('b',-1)\n",
    "print(value)\n",
    "value=D.get('x')\n",
    "print(value)\n",
    "value=D.get('b')\n",
    "print(value)\n",
    "\n",
    "print('other way ::: ')\n",
    "value=D['x'] if 'x' in D else -1\n",
    "print(value)"
   ]
  },
  {
   "cell_type": "code",
   "execution_count": 42,
   "metadata": {},
   "outputs": [
    {
     "name": "stdout",
     "output_type": "stream",
     "text": [
      "dict_keys(['a', 'b', 'c'])\n",
      "['a', 'b', 'c']\n",
      "['a', 'b', 'c']\n",
      "a ==> 1\n",
      "b ==> 2\n",
      "c ==> 3\n",
      "a --> 1\n",
      "b --> 2\n",
      "c --> 3\n"
     ]
    }
   ],
   "source": [
    "D={'a':1,'b':2,'c':3}\n",
    "Ky=list(D.keys())\n",
    "print(D.keys())\n",
    "print(Ky)\n",
    "\n",
    "Ky.sort()\n",
    "print(Ky)\n",
    "for k in Ky:\n",
    "    print(k,'==>',D[k])\n",
    "    \n",
    "    \n",
    "sorted(D)\n",
    "\n",
    "for key in sorted(D):\n",
    "    print(key, '-->',D[key])"
   ]
  },
  {
   "cell_type": "code",
   "execution_count": 44,
   "metadata": {},
   "outputs": [
    {
     "name": "stdout",
     "output_type": "stream",
     "text": [
      "S\n",
      "P\n",
      "A\n",
      "N\n",
      "spanspanspanspan\n",
      "spanspanspan\n",
      "spanspan\n",
      "span\n"
     ]
    }
   ],
   "source": [
    "for c in 'span':\n",
    "    print(c.upper())\n",
    "\n",
    "cunt=4\n",
    "    \n",
    "while cunt >0:\n",
    "    print('span'*cunt)\n",
    "    cunt-=1 "
   ]
  },
  {
   "cell_type": "markdown",
   "metadata": {},
   "source": [
    "Tuple"
   ]
  },
  {
   "cell_type": "code",
   "execution_count": 55,
   "metadata": {},
   "outputs": [
    {
     "name": "stdout",
     "output_type": "stream",
     "text": [
      "4\n",
      "(1, 2, 3, 4, 4, 5, 6)\n",
      "3\n",
      "count of element : 2\n",
      "1\n",
      "(-1, 2, 3, 4, 4, 5, 6)\n",
      "('ali', 23, 5, 4.5, [2, 5, 56])\n",
      "[2, 5, 56]\n"
     ]
    }
   ],
   "source": [
    "T=(1,2,3,4)\n",
    "\n",
    "print(len(T))\n",
    "T=T+(4,5,6)\n",
    "print(T)\n",
    "\n",
    "print(T.index(4))\n",
    "print('count of element :',T.count(4))\n",
    "\n",
    "print(T[0])\n",
    "T=(-1,)+T[1:]\n",
    "print(T)\n",
    "\n",
    "T='ali',23,5 ,4.5,[2,5,56]\n",
    "print(T)\n",
    "print(T[-1])\n",
    "\n",
    "#T.append(3)"
   ]
  },
  {
   "cell_type": "markdown",
   "metadata": {},
   "source": [
    "files"
   ]
  },
  {
   "cell_type": "code",
   "execution_count": 60,
   "metadata": {},
   "outputs": [
    {
     "name": "stdout",
     "output_type": "stream",
     "text": [
      "hello\n",
      "wrold\n",
      "\n",
      "['hello', 'wrold']\n"
     ]
    },
    {
     "data": {
      "text/plain": [
       "'hello\\nwrold\\n'"
      ]
     },
     "execution_count": 60,
     "metadata": {},
     "output_type": "execute_result"
    }
   ],
   "source": [
    "f=open('data.txt','w')\n",
    "f.write('hello\\n')\n",
    "f.write('wrold\\n')\n",
    "f.close()\n",
    "\n",
    "f=open('data.txt')\n",
    "txt=f.read()\n",
    "print(txt)\n",
    "f.close()\n",
    "\n",
    "print(txt.split())\n",
    "txt\n"
   ]
  },
  {
   "cell_type": "code",
   "execution_count": 61,
   "metadata": {},
   "outputs": [
    {
     "name": "stdout",
     "output_type": "stream",
     "text": [
      "hello\n",
      "\n",
      "wrold\n",
      "\n"
     ]
    }
   ],
   "source": [
    "for line in open('data.txt'):print(line)"
   ]
  },
  {
   "cell_type": "code",
   "execution_count": null,
   "metadata": {},
   "outputs": [],
   "source": []
  },
  {
   "cell_type": "code",
   "execution_count": 78,
   "metadata": {},
   "outputs": [
    {
     "name": "stdout",
     "output_type": "stream",
     "text": [
      "b'\\x00\\x00\\x00\\x05tige\\x00\\x18'\n",
      "[0, 0, 0, 5, 116, 105, 103, 101, 0, 24]\n",
      "(5, b'tige', 24)\n",
      "spÄm\n",
      "Ä\n",
      "==================================\n",
      "spÄm\n",
      "b'sp\\xc3\\x84m'\n",
      "==================================\n",
      "b'sp\\xc3\\x84m'\n",
      "spÄm\n",
      "[115, 112, 195, 132, 109]\n",
      "5\n",
      "**********************************\n",
      "spÄm\n",
      "b'sp\\xc4m'\n",
      "b'sp\\xc3\\x84m'\n",
      "b'\\xff\\xfes\\x00p\\x00\\xc4\\x00m\\x00'\n"
     ]
    }
   ],
   "source": [
    "import struct\n",
    "packed=struct.pack('>i4sh',5,b'tigerr',24)\n",
    "packed\n",
    "f=open('data.bin','wb')\n",
    "f.write(packed)\n",
    "f.close()\n",
    "\n",
    "data=open('data.bin','rb').read()\n",
    "print(data)\n",
    "print(list(data))\n",
    "print(struct.unpack('>i4sh',data))\n",
    "\n",
    "\n",
    "S='sp\\xc4m'\n",
    "print(S)\n",
    "print(S[2])\n",
    "file=open('unidata.txt','w',encoding='utf-8')\n",
    "file.write(S)\n",
    "file.close()\n",
    "print('='*34)\n",
    "text=open('unidata.txt',encoding='utf-8').read()\n",
    "print(text)\n",
    "print(text.encode('utf-8'))\n",
    "print('='*34)\n",
    "data=open('unidata.txt','rb').read()\n",
    "print(data)\n",
    "print(data.decode('utf-8'))\n",
    "print(list(data))\n",
    "print(len(data))\n",
    "\n",
    "\n",
    "print('*'*34)\n",
    "print(text)\n",
    "print(text.encode('latin-1'))\n",
    "print(text.encode('utf-8'))\n",
    "print(text.encode('utf-16'))\n"
   ]
  },
  {
   "cell_type": "markdown",
   "metadata": {},
   "source": [
    "other\n",
    "set"
   ]
  },
  {
   "cell_type": "code",
   "execution_count": 95,
   "metadata": {},
   "outputs": [
    {
     "name": "stdout",
     "output_type": "stream",
     "text": [
      "{'s', 'm', 'p', 'a'} {'a', 'm', 'h'}\n",
      "{'a', 'm'}\n",
      "{'s', 'm', 'p', 'a', 'h'}\n",
      "{'s', 'p'}\n",
      "False\n",
      "{16, 1, 4, 9}\n",
      "{1, 2, 3, 4, 5}\n",
      "{'s'}\n",
      "True\n"
     ]
    }
   ],
   "source": [
    "x=set('spam')\n",
    "y={'h','a','m'}\n",
    "print(x,y)\n",
    "print(x&y)\n",
    "print(x|y)\n",
    "print(x-y)\n",
    "print(x>y)\n",
    "\n",
    "st={n**2 for n in range(1,5)}\n",
    "print(st)\n",
    "\n",
    "re=set([5,4,1,2,3,5,3,2])\n",
    "print(re)\n",
    "print( set('spam')-set('pame'))\n",
    "print(set('spam') == set('pams'))"
   ]
  },
  {
   "cell_type": "code",
   "execution_count": 106,
   "metadata": {},
   "outputs": [
    {
     "name": "stdout",
     "output_type": "stream",
     "text": [
      "0.5 0.6666666666666666 1.1666666666666665\n",
      "3.141\n",
      "4.1\n",
      "<class 'decimal.Decimal'>\n",
      "0.67\n",
      "******************************\n",
      "0.6666666666666666\n",
      "0.67\n"
     ]
    }
   ],
   "source": [
    "a=1/2\n",
    "b=2/3\n",
    "print(a,b,a+b)\n",
    "\n",
    "import decimal\n",
    "d=decimal.Decimal('3.141')\n",
    "print(d)\n",
    "print(d+1)\n",
    "\n",
    "decimal.getcontext().prec=2\n",
    "d=decimal.Decimal('2.00')/ decimal.Decimal('3.00')\n",
    "print(type(d))\n",
    "print(d)\n",
    "print(\"*\"*30)\n",
    "print(2.00/3.00)\n",
    "d=decimal.Decimal('2')/ decimal.Decimal('3')\n",
    "\n",
    "print(d)"
   ]
  },
  {
   "cell_type": "code",
   "execution_count": 112,
   "metadata": {},
   "outputs": [
    {
     "name": "stdout",
     "output_type": "stream",
     "text": [
      "2/3\n",
      "5/3\n",
      "1\n",
      "[None, None, None, None, None, None, None, None, None, None, None, None, None, None, None, None, None, None, None, None, None, None, None, None, None, None, None, None, None, None, None, None, None, None, None, None, None, None, None, None, None, None, None, None, None, None, None, None, None, None, None, None, None, None, None, None, None, None, None, None, None, None, None, None, None, None, None, None, None, None, None, None, None, None, None, None, None, None, None, None, None, None, None, None, None, None, None, None, None, None, None, None, None, None, None, None, None, None, None, None]\n",
      "yes\n",
      "yes 2\n",
      "yes 3\n"
     ]
    }
   ],
   "source": [
    "from fractions import Fraction\n",
    "\n",
    "f=Fraction(2,3)\n",
    "print(f)\n",
    "print(f+1)\n",
    "print(f+Fraction(1,3))\n",
    "\n",
    "\n",
    "nl=[None]*100\n",
    "print(nl)\n",
    "\n",
    "if type(nl) == type([]):\n",
    "    print('yes')\n",
    "    \n",
    "if type(nl) == list:\n",
    "    print('yes 2')\n",
    "    \n",
    "if isinstance(nl,list):\n",
    "    print('yes 3')"
   ]
  },
  {
   "cell_type": "code",
   "execution_count": 113,
   "metadata": {},
   "outputs": [
    {
     "name": "stdout",
     "output_type": "stream",
     "text": [
      "parker\n",
      "tamson\n",
      "7200.0\n"
     ]
    }
   ],
   "source": [
    "class Worker:\n",
    "    def __init__(self,name,pay):\n",
    "        self.name=name\n",
    "        self.pay=pay\n",
    "        \n",
    "    def lastName(self):\n",
    "        return self.name.split()[-1]\n",
    "    \n",
    "    def giveRaise(self,percent):\n",
    "        self.pay*=(1.0+percent)\n",
    "        \n",
    "        \n",
    "        \n",
    "man1=Worker('jak parker',3500)\n",
    "man2=Worker('adma tamson',6000)\n",
    "\n",
    "print(man1.lastName())\n",
    "print(man2.lastName())\n",
    "\n",
    "man2.giveRaise(.2)\n",
    "print(man2.pay)\n"
   ]
  }
 ],
 "metadata": {
  "kernelspec": {
   "display_name": "Python 3.10.0 64-bit",
   "language": "python",
   "name": "python3"
  },
  "language_info": {
   "codemirror_mode": {
    "name": "ipython",
    "version": 3
   },
   "file_extension": ".py",
   "mimetype": "text/x-python",
   "name": "python",
   "nbconvert_exporter": "python",
   "pygments_lexer": "ipython3",
   "version": "3.10.0"
  },
  "orig_nbformat": 4,
  "vscode": {
   "interpreter": {
    "hash": "1c6c043809b0aa06f295572e3555767cce6faf59773d5c69c5d0d1628626d6da"
   }
  }
 },
 "nbformat": 4,
 "nbformat_minor": 2
}
