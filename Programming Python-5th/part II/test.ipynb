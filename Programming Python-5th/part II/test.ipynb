{
 "cells": [
  {
   "cell_type": "code",
   "execution_count": 2,
   "metadata": {},
   "outputs": [
    {
     "name": "stdout",
     "output_type": "stream",
     "text": [
      "hello wrold\n",
      "h\n",
      "Hello wrold\n"
     ]
    }
   ],
   "source": [
    "text='hello wrold'\n",
    "\n",
    "print(text)\n",
    "print(text[0])\n",
    "text='H'+text[1:]\n",
    "print(text)"
   ]
  },
  {
   "cell_type": "code",
   "execution_count": 5,
   "metadata": {},
   "outputs": [
    {
     "name": "stdout",
     "output_type": "stream",
     "text": [
      "['T', 'h', 'e', ' ', 's', 'k', 'y', ' ', 'i', 's', ' ', 'b', 'l', 'u', 'e', ' ', '!', '>', '>', '<', '<', '?']\n",
      "['T', 'h', 'e', ' great ', 's', 'k', 'y', ' ', 'i', 's', ' ', 'b', 'l', 'u', 'e', ' ', '!', '>', '>', '<', '<', '?']\n",
      "The great sky is blue !>><<?\n",
      "<class 'list'>\n"
     ]
    }
   ],
   "source": [
    "s='The sky is blue !>><<?'\n",
    "L=list(s)\n",
    "print(L)\n",
    "L[3]=' great '\n",
    "print(L)\n",
    "print(\"\".join(L))\n",
    "print(type(L))\n"
   ]
  },
  {
   "cell_type": "code",
   "execution_count": 1,
   "metadata": {},
   "outputs": [
    {
     "name": "stdout",
     "output_type": "stream",
     "text": [
      "bytearray(b'Tiger')\n",
      "bytearray(b'\\x00\\x00')\n",
      "bytearray(b'Tigerfighter')\n",
      "Tigerfighter\n",
      "<class 'str'>\n"
     ]
    }
   ],
   "source": [
    "B=bytearray(b'Tiger')\n",
    "print(B)\n",
    "B1=bytearray(2)\n",
    "print(B1)\n",
    "B.extend(b'fighter')\n",
    "print(B)\n",
    "print(B.decode())\n",
    "print(type(B.decode()))"
   ]
  },
  {
   "cell_type": "code",
   "execution_count": 16,
   "metadata": {},
   "outputs": [
    {
     "name": "stdout",
     "output_type": "stream",
     "text": [
      "5\n",
      "the river are flowing\n",
      "the river is flowing\n"
     ]
    }
   ],
   "source": [
    "S='the river is flowing'\n",
    "print(S.find(\"i\"))\n",
    "\n",
    "print(S.replace('is','are'))\n",
    "print(S)"
   ]
  },
  {
   "cell_type": "code",
   "execution_count": 2,
   "metadata": {},
   "outputs": [
    {
     "name": "stdout",
     "output_type": "stream",
     "text": [
      "s\n",
      "p\n",
      "a\n",
      "m\n",
      "done\n"
     ]
    }
   ],
   "source": [
    "for x in 'spam':\n",
    "    print(x) # Press Enter twice before a new statement\n",
    "print('done')"
   ]
  },
  {
   "cell_type": "code",
   "execution_count": 3,
   "metadata": {},
   "outputs": [
    {
     "name": "stdout",
     "output_type": "stream",
     "text": [
      "win32\n",
      "1267650600228229401496703205376\n",
      "Spam!Spam!Spam!Spam!Spam!Spam!Spam!Spam!\n"
     ]
    }
   ],
   "source": [
    "import sys # Load a library module\n",
    "print(sys.platform)\n",
    "print(2 ** 100) # Raise 2 to a power\n",
    "x = 'Spam!'\n",
    "print(x * 8)"
   ]
  },
  {
   "cell_type": "code",
   "execution_count": 6,
   "metadata": {},
   "outputs": [
    {
     "name": "stdout",
     "output_type": "stream",
     "text": [
      "Run away!...\n",
      "1 2\n"
     ]
    }
   ],
   "source": [
    "print('Run','away!...')\n",
    "print(1,2)"
   ]
  },
  {
   "cell_type": "code",
   "execution_count": 12,
   "metadata": {},
   "outputs": [],
   "source": [
    "#from imp import reload\n",
    "#reload(test2)\n",
    "exec(open('test2.ipynb').read())\n"
   ]
  }
 ],
 "metadata": {
  "kernelspec": {
   "display_name": "Python 3.10.0 64-bit",
   "language": "python",
   "name": "python3"
  },
  "language_info": {
   "codemirror_mode": {
    "name": "ipython",
    "version": 3
   },
   "file_extension": ".py",
   "mimetype": "text/x-python",
   "name": "python",
   "nbconvert_exporter": "python",
   "pygments_lexer": "ipython3",
   "version": "3.10.0"
  },
  "orig_nbformat": 4,
  "vscode": {
   "interpreter": {
    "hash": "1c6c043809b0aa06f295572e3555767cce6faf59773d5c69c5d0d1628626d6da"
   }
  }
 },
 "nbformat": 4,
 "nbformat_minor": 2
}
