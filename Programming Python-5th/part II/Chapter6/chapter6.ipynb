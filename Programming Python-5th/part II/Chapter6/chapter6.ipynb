{
 "cells": [
  {
   "cell_type": "markdown",
   "metadata": {},
   "source": [
    " Chapter 6: The Dynamic Typing Interlude"
   ]
  },
  {
   "cell_type": "code",
   "execution_count": 7,
   "metadata": {},
   "outputs": [
    {
     "name": "stdout",
     "output_type": "stream",
     "text": [
      "3\n",
      "2\n",
      "4 9\n"
     ]
    }
   ],
   "source": [
    "a=3\n",
    "b=a\n",
    "a='spam'\n",
    "print(b)\n",
    "\n",
    "\n",
    "\n",
    "z=2\n",
    "x=z\n",
    "z=5\n",
    "print(x)\n",
    "\n",
    "a=4\n",
    "b=a\n",
    "a=a+5\n",
    "print(b,a)\n",
    "# int m tuple not change read only\n"
   ]
  },
  {
   "cell_type": "code",
   "execution_count": 10,
   "metadata": {},
   "outputs": [
    {
     "name": "stdout",
     "output_type": "stream",
     "text": [
      "[-1, 2, 3]\n",
      "[-1, 2, 3]\n",
      "********\n",
      "[1, 2, 11]\n",
      "[1, 2, 3]\n"
     ]
    }
   ],
   "source": [
    "L1=[1,2,3]\n",
    "L2=L1\n",
    "L1[0]=-1\n",
    "print(L1)\n",
    "print(L2)\n",
    "\n",
    "print('*'*8)\n",
    "l1=[1,2,3]\n",
    "l2=l1[:]\n",
    "l1[-1]=11\n",
    "print(l1)\n",
    "print(l2)"
   ]
  },
  {
   "cell_type": "code",
   "execution_count": 3,
   "metadata": {},
   "outputs": [
    {
     "name": "stdout",
     "output_type": "stream",
     "text": [
      "[1, 2, 3] [1, 2, 3]\n",
      "[3, 2, 3] [1, 2, 3]\n",
      "[1, 2, 3, 4] [1, 2, 3, 4]\n",
      "[1, 2, 3, 4] [1, 2, 3, 0]\n"
     ]
    }
   ],
   "source": [
    "import copy\n",
    "\n",
    "x=[1,2,3]\n",
    "\n",
    "y=copy.copy(x)\n",
    "print(x,y)\n",
    "x[0]=3\n",
    "print(x,y)\n",
    " \n",
    "a=[1,2,3,4]\n",
    "b=copy.deepcopy(a)\n",
    "print(a,b)\n",
    "b[-1]=0\n",
    "print(a,b)"
   ]
  },
  {
   "cell_type": "code",
   "execution_count": 10,
   "metadata": {},
   "outputs": [
    {
     "name": "stdout",
     "output_type": "stream",
     "text": [
      "True <== values \n",
      "True <== obj (refernce)\n",
      "********\n",
      "True <== values \n",
      "False <== obj (refernce)\n",
      "********\n",
      "True\n",
      "True => obj\n"
     ]
    }
   ],
   "source": [
    "#reference\n",
    "\n",
    "L=[1,2,3]\n",
    "M=L\n",
    "\n",
    "print(L==M,'<== values ')\n",
    "print(L is M,'<== obj (refernce)')\n",
    "\n",
    "print('*'*8)\n",
    "L=[1,2,3]\n",
    "M=[1,2,3]\n",
    "print(L==M,'<== values ')\n",
    "print(L is M,'<== obj (refernce)')\n",
    "\n",
    "print('*'*8)\n",
    "a=2\n",
    "b=2\n",
    "\n",
    "print(a==b)\n",
    "print(a is b , '=> obj')\n"
   ]
  },
  {
   "cell_type": "code",
   "execution_count": 11,
   "metadata": {},
   "outputs": [
    {
     "name": "stdout",
     "output_type": "stream",
     "text": [
      "2959\n"
     ]
    }
   ],
   "source": [
    "import sys\n",
    "print(sys.getrefcount(1))"
   ]
  }
 ],
 "metadata": {
  "kernelspec": {
   "display_name": "Python 3.10.0 64-bit",
   "language": "python",
   "name": "python3"
  },
  "language_info": {
   "codemirror_mode": {
    "name": "ipython",
    "version": 3
   },
   "file_extension": ".py",
   "mimetype": "text/x-python",
   "name": "python",
   "nbconvert_exporter": "python",
   "pygments_lexer": "ipython3",
   "version": "3.10.0"
  },
  "orig_nbformat": 4,
  "vscode": {
   "interpreter": {
    "hash": "1c6c043809b0aa06f295572e3555767cce6faf59773d5c69c5d0d1628626d6da"
   }
  }
 },
 "nbformat": 4,
 "nbformat_minor": 2
}
